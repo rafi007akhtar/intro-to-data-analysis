{
 "cells": [
  {
   "cell_type": "markdown",
   "source": [
    "# Numpy with 2D Arrays"
   ],
   "metadata": {}
  },
  {
   "cell_type": "code",
   "execution_count": 139,
   "source": [
    "import numpy as np"
   ],
   "outputs": [],
   "metadata": {}
  },
  {
   "cell_type": "code",
   "execution_count": 140,
   "source": [
    "# Subway ridership for 5 stations on 10 different days\r\n",
    "ridership = np.array([\r\n",
    "    [   0,    0,    2,    5,    0],\r\n",
    "    [1478, 3877, 3674, 2328, 2539],\r\n",
    "    [1613, 4088, 3991, 6461, 2691],\r\n",
    "    [1560, 3392, 3826, 4787, 2613],\r\n",
    "    [1608, 4802, 3932, 4477, 2705],\r\n",
    "    [1576, 3933, 3909, 4979, 2685],\r\n",
    "    [  95,  229,  255,  496,  201],\r\n",
    "    [   2,    0,    1,   27,    0],\r\n",
    "    [1438, 3785, 3589, 4174, 2215],\r\n",
    "    [1342, 4043, 4009, 4665, 3033]\r\n",
    "])"
   ],
   "outputs": [],
   "metadata": {}
  },
  {
   "cell_type": "code",
   "execution_count": 141,
   "source": [
    "# Change False to True for each block of code to see what it does\r\n",
    "\r\n",
    "# Accessing elements\r\n",
    "if True:\r\n",
    "    print (ridership[1, 3])  # guess - 2328 (correct!)\r\n",
    "    print (ridership[1:3, 3:5])  # guess - explanation below\r\n",
    "    print (ridership[1, :])  # guess - [1478, 3877, 3674, 2328, 2539] (correct!)\r\n"
   ],
   "outputs": [
    {
     "output_type": "stream",
     "name": "stdout",
     "text": [
      "2328\n",
      "[[2328 2539]\n",
      " [6461 2691]]\n",
      "[1478 3877 3674 2328 2539]\n"
     ]
    }
   ],
   "metadata": {}
  },
  {
   "cell_type": "markdown",
   "source": [
    "## But why did the second command produce such a matrix?\r\n",
    "\r\n",
    "Well, firstly, let's have a look at the matrix, and this time, let's mark the rows.\r\n",
    "```py\r\n",
    "[\r\n",
    "    [   0,    0,    2,    5,    0],  # row 0\r\n",
    "    [1478, 3877, 3674, 2328, 2539],  # row 1\r\n",
    "    [1613, 4088, 3991, 6461, 2691],  # row 2\r\n",
    "    [1560, 3392, 3826, 4787, 2613],  # row 3\r\n",
    "    [1608, 4802, 3932, 4477, 2705],  # row 4\r\n",
    "    [1576, 3933, 3909, 4979, 2685],  # row 5\r\n",
    "    [  95,  229,  255,  496,  201],  # row 6\r\n",
    "    [   2,    0,    1,   27,    0],  # row 7\r\n",
    "    [1438, 3785, 3589, 4174, 2215],  # row 8\r\n",
    "    [1342, 4043, 4009, 4665, 3033]  # row 9\r\n",
    "]\r\n",
    "```\r\n",
    "\r\n",
    "In order to answer this, break the command by the parameters within the square brackets.\r\n",
    "- Parameter 1 - `[1:3]`\r\n",
    "- Parameter 2 - `[3:5]`\r\n",
    "\r\n",
    "These are essentially two consecutive slices. First will be the row slicing from 1 to 3-1, and second will be the column slicing from 3 to 5-1.\r\n",
    "\r\n",
    "### Parameter 1 - [1:3]\r\n",
    "`a:b` means you start at `a`th row, and slice your way down to the `b-1`th row. So in this case, the sliced array of the original array would start at row 1, and go on till row 3 - 1 = 2, resulting in the following array:\r\n",
    "```py\r\n",
    "#    0       1      2    3     4    <= columns\r\n",
    "[\r\n",
    "    [1478, 3877, 3674, 2328, 2539],  # row 1\r\n",
    "    [1613, 4088, 3991, 6461, 2691]  # row 2\r\n",
    "]\r\n",
    "```\r\n",
    "Note that this time, the columns are also marked, because they will be needed in the second slicing of parameter 2.\r\n",
    "\r\n",
    "### Parameter 2 - [3:5]\r\n",
    "This time, instead of slicing rows, slice the columns (that's what the second parameter is for). So we begin at column 3, and slice uptil column 5-1 = 4, resulting in the following final matrix.\r\n",
    "```py\r\n",
    "[\r\n",
    "    [2328, 2539],\r\n",
    "    [6461, 2691]\r\n",
    "]\r\n",
    "```"
   ],
   "metadata": {}
  },
  {
   "cell_type": "code",
   "execution_count": 142,
   "source": [
    "# Vectorized operations on rows or columns\r\n",
    "if True:\r\n",
    "    print (ridership[0, :] + ridership[1, :])  # guess - [0, 0, 2, 5, 0] + [1478, 3877, 3674, 2328, 2539] = [1478, 3877, 3676, 2333, 2539]\r\n",
    "    print (ridership[:, 0] + ridership[:, 1])  # guess - column 0 + column 1\r\n"
   ],
   "outputs": [
    {
     "output_type": "stream",
     "name": "stdout",
     "text": [
      "[1478 3877 3676 2333 2539]\n",
      "[   0 5355 5701 4952 6410 5509  324    2 5223 5385]\n"
     ]
    }
   ],
   "metadata": {}
  },
  {
   "cell_type": "code",
   "execution_count": 143,
   "source": [
    "# Vectorized operations on entire arrays\r\n",
    "if True:\r\n",
    "    a = np.array([[1, 2, 3], [4, 5, 6], [7, 8, 9]])\r\n",
    "    b = np.array([[1, 1, 1], [2, 2, 2], [3, 3, 3]])\r\n",
    "    print (a + b)  # guess - normal matrix addition"
   ],
   "outputs": [
    {
     "output_type": "stream",
     "name": "stdout",
     "text": [
      "[[ 2  3  4]\n",
      " [ 6  7  8]\n",
      " [10 11 12]]\n"
     ]
    }
   ],
   "metadata": {}
  },
  {
   "cell_type": "code",
   "execution_count": 144,
   "source": [
    "ridership"
   ],
   "outputs": [
    {
     "output_type": "execute_result",
     "data": {
      "text/plain": [
       "array([[   0,    0,    2,    5,    0],\n",
       "       [1478, 3877, 3674, 2328, 2539],\n",
       "       [1613, 4088, 3991, 6461, 2691],\n",
       "       [1560, 3392, 3826, 4787, 2613],\n",
       "       [1608, 4802, 3932, 4477, 2705],\n",
       "       [1576, 3933, 3909, 4979, 2685],\n",
       "       [  95,  229,  255,  496,  201],\n",
       "       [   2,    0,    1,   27,    0],\n",
       "       [1438, 3785, 3589, 4174, 2215],\n",
       "       [1342, 4043, 4009, 4665, 3033]])"
      ]
     },
     "metadata": {},
     "execution_count": 144
    }
   ],
   "metadata": {}
  },
  {
   "cell_type": "code",
   "execution_count": 145,
   "source": [
    "def mean_riders_for_max_station(ridership):\r\n",
    "    '''\r\n",
    "    Fill in this function to find the station with the maximum riders on the\r\n",
    "    first day, then return the mean riders per day for that station. Also\r\n",
    "    return the mean ridership overall for comparsion.\r\n",
    "    \r\n",
    "    Hint: NumPy's argmax() function might be useful:\r\n",
    "    http://docs.scipy.org/doc/numpy/reference/generated/numpy.argmax.html\r\n",
    "    '''\r\n",
    "    max_for_first = np.argmax(ridership[0, :])\r\n",
    "    overall_mean = ridership.mean() # Replace this with your code - DONE\r\n",
    "    mean_for_max = (ridership[:, max_for_first]).mean() # Replace this with your code - DONE\r\n",
    "    \r\n",
    "    return (overall_mean, mean_for_max)"
   ],
   "outputs": [],
   "metadata": {}
  },
  {
   "cell_type": "code",
   "execution_count": 146,
   "source": [
    "mean_riders_for_max_station(ridership)"
   ],
   "outputs": [
    {
     "output_type": "execute_result",
     "data": {
      "text/plain": [
       "(2342.6, 3239.9)"
      ]
     },
     "metadata": {},
     "execution_count": 146
    }
   ],
   "metadata": {}
  },
  {
   "cell_type": "markdown",
   "source": [
    "## Numpy axes\r\n",
    "\r\n",
    "Most numpy methods take an `axis` parameter.\r\n",
    "\r\n",
    "In case of a two-dimensional array, the axis can take a value of 0 or 1. The operation will then happen across the column or the row respectively.\r\n",
    "\r\n",
    "|`axis` | Operation|\r\n",
    "|-------|----------|\r\n",
    "|1 | across the row|\r\n",
    "|0 | across the column|\r\n"
   ],
   "metadata": {}
  },
  {
   "cell_type": "code",
   "execution_count": 147,
   "source": [
    "# Change False to True for this block of code to see what it does\r\n",
    "\r\n",
    "# NumPy axis argument\r\n",
    "if True:\r\n",
    "    a = np.array([\r\n",
    "        [1, 2, 3],\r\n",
    "        [4, 5, 6],\r\n",
    "        [7, 8, 9]\r\n",
    "    ])\r\n",
    "    \r\n",
    "    print (a.sum())  # guess: 45\r\n",
    "    print (a.sum(axis=0))  # guess: [1+4+7, 2+5+8, 3+6+9] = [12, 15, 18]\r\n",
    "    print (a.sum(axis=1))  # guess: [1+2+3, 4+5+6, 7+8+9] = [6, 15, 24]"
   ],
   "outputs": [
    {
     "output_type": "stream",
     "name": "stdout",
     "text": [
      "45\n",
      "[12 15 18]\n",
      "[ 6 15 24]\n"
     ]
    }
   ],
   "metadata": {}
  },
  {
   "cell_type": "code",
   "execution_count": 148,
   "source": [
    "# Subway ridership for 5 stations on 10 different days\r\n",
    "ridership = np.array([\r\n",
    "    [   0,    0,    2,    5,    0],\r\n",
    "    [1478, 3877, 3674, 2328, 2539],\r\n",
    "    [1613, 4088, 3991, 6461, 2691],\r\n",
    "    [1560, 3392, 3826, 4787, 2613],\r\n",
    "    [1608, 4802, 3932, 4477, 2705],\r\n",
    "    [1576, 3933, 3909, 4979, 2685],\r\n",
    "    [  95,  229,  255,  496,  201],\r\n",
    "    [   2,    0,    1,   27,    0],\r\n",
    "    [1438, 3785, 3589, 4174, 2215],\r\n",
    "    [1342, 4043, 4009, 4665, 3033]\r\n",
    "])\r\n",
    "\r\n",
    "def min_and_max_riders_per_day(ridership):\r\n",
    "    '''\r\n",
    "    Fill in this function. First, for each subway station, calculate the\r\n",
    "    mean ridership per day. Then, out of all the subway stations, return the\r\n",
    "    maximum and minimum of these values. That is, find the maximum\r\n",
    "    mean-ridership-per-day and the minimum mean-ridership-per-day for any\r\n",
    "    subway station.\r\n",
    "    '''\r\n",
    "    mean_riders_per_day = ridership.mean(axis=0)\r\n",
    "    max_daily_ridership = mean_riders_per_day.max()     # Replace this with your code - DONE\r\n",
    "    min_daily_ridership = mean_riders_per_day.min()     # Replace this with your code - DONE\r\n",
    "    \r\n",
    "    return (max_daily_ridership, min_daily_ridership)"
   ],
   "outputs": [],
   "metadata": {}
  },
  {
   "cell_type": "code",
   "execution_count": 149,
   "source": [
    "min_and_max_riders_per_day(ridership)"
   ],
   "outputs": [
    {
     "output_type": "execute_result",
     "data": {
      "text/plain": [
       "(3239.9, 1071.2)"
      ]
     },
     "metadata": {},
     "execution_count": 149
    }
   ],
   "metadata": {}
  },
  {
   "cell_type": "markdown",
   "source": [
    "# Pandas DataFrames"
   ],
   "metadata": {}
  },
  {
   "cell_type": "code",
   "execution_count": 150,
   "source": [
    "import pandas as pd"
   ],
   "outputs": [],
   "metadata": {}
  },
  {
   "cell_type": "code",
   "execution_count": 151,
   "source": [
    "# DataFrame creation\r\n",
    "\r\n",
    "# You can create a DataFrame out of a dictionary mapping column names to values\r\n",
    "df_1 = pd.DataFrame({\r\n",
    "    'A': [0, 1, 2],\r\n",
    "    'B': [3, 4, 5]\r\n",
    "})\r\n",
    "print(df_1)\r\n"
   ],
   "outputs": [
    {
     "output_type": "stream",
     "name": "stdout",
     "text": [
      "   A  B\n",
      "0  0  3\n",
      "1  1  4\n",
      "2  2  5\n"
     ]
    }
   ],
   "metadata": {}
  },
  {
   "cell_type": "code",
   "execution_count": 152,
   "source": [
    "# You can also use a list of lists or a 2D NumPy array\r\n",
    "df_2 = pd.DataFrame([[0, 1, 2], [3, 4, 5]])\r\n",
    "print(df_2)"
   ],
   "outputs": [
    {
     "output_type": "stream",
     "name": "stdout",
     "text": [
      "   0  1  2\n",
      "0  0  1  2\n",
      "1  3  4  5\n"
     ]
    }
   ],
   "metadata": {}
  },
  {
   "cell_type": "code",
   "execution_count": 153,
   "source": [
    "# Subway ridership for 5 stations on 10 different days\r\n",
    "ridership_df = pd.DataFrame(\r\n",
    "    data=[\r\n",
    "        [   0,    0,    2,    5,    0],\r\n",
    "        [1478, 3877, 3674, 2328, 2539],\r\n",
    "        [1613, 4088, 3991, 6461, 2691],\r\n",
    "        [1560, 3392, 3826, 4787, 2613],\r\n",
    "        [1608, 4802, 3932, 4477, 2705],\r\n",
    "        [1576, 3933, 3909, 4979, 2685],\r\n",
    "        [  95,  229,  255,  496,  201],\r\n",
    "        [   2,    0,    1,   27,    0],\r\n",
    "        [1438, 3785, 3589, 4174, 2215],\r\n",
    "        [1342, 4043, 4009, 4665, 3033]\r\n",
    "    ],\r\n",
    "    # indices will be the rows\r\n",
    "    index=['05-01-11', '05-02-11', '05-03-11', '05-04-11', '05-05-11',\r\n",
    "           '05-06-11', '05-07-11', '05-08-11', '05-09-11', '05-10-11'],\r\n",
    "    columns=['R003', 'R004', 'R005', 'R006', 'R007']\r\n",
    ")\r\n",
    "ridership_df"
   ],
   "outputs": [
    {
     "output_type": "execute_result",
     "data": {
      "text/html": [
       "<div>\n",
       "<style scoped>\n",
       "    .dataframe tbody tr th:only-of-type {\n",
       "        vertical-align: middle;\n",
       "    }\n",
       "\n",
       "    .dataframe tbody tr th {\n",
       "        vertical-align: top;\n",
       "    }\n",
       "\n",
       "    .dataframe thead th {\n",
       "        text-align: right;\n",
       "    }\n",
       "</style>\n",
       "<table border=\"1\" class=\"dataframe\">\n",
       "  <thead>\n",
       "    <tr style=\"text-align: right;\">\n",
       "      <th></th>\n",
       "      <th>R003</th>\n",
       "      <th>R004</th>\n",
       "      <th>R005</th>\n",
       "      <th>R006</th>\n",
       "      <th>R007</th>\n",
       "    </tr>\n",
       "  </thead>\n",
       "  <tbody>\n",
       "    <tr>\n",
       "      <th>05-01-11</th>\n",
       "      <td>0</td>\n",
       "      <td>0</td>\n",
       "      <td>2</td>\n",
       "      <td>5</td>\n",
       "      <td>0</td>\n",
       "    </tr>\n",
       "    <tr>\n",
       "      <th>05-02-11</th>\n",
       "      <td>1478</td>\n",
       "      <td>3877</td>\n",
       "      <td>3674</td>\n",
       "      <td>2328</td>\n",
       "      <td>2539</td>\n",
       "    </tr>\n",
       "    <tr>\n",
       "      <th>05-03-11</th>\n",
       "      <td>1613</td>\n",
       "      <td>4088</td>\n",
       "      <td>3991</td>\n",
       "      <td>6461</td>\n",
       "      <td>2691</td>\n",
       "    </tr>\n",
       "    <tr>\n",
       "      <th>05-04-11</th>\n",
       "      <td>1560</td>\n",
       "      <td>3392</td>\n",
       "      <td>3826</td>\n",
       "      <td>4787</td>\n",
       "      <td>2613</td>\n",
       "    </tr>\n",
       "    <tr>\n",
       "      <th>05-05-11</th>\n",
       "      <td>1608</td>\n",
       "      <td>4802</td>\n",
       "      <td>3932</td>\n",
       "      <td>4477</td>\n",
       "      <td>2705</td>\n",
       "    </tr>\n",
       "    <tr>\n",
       "      <th>05-06-11</th>\n",
       "      <td>1576</td>\n",
       "      <td>3933</td>\n",
       "      <td>3909</td>\n",
       "      <td>4979</td>\n",
       "      <td>2685</td>\n",
       "    </tr>\n",
       "    <tr>\n",
       "      <th>05-07-11</th>\n",
       "      <td>95</td>\n",
       "      <td>229</td>\n",
       "      <td>255</td>\n",
       "      <td>496</td>\n",
       "      <td>201</td>\n",
       "    </tr>\n",
       "    <tr>\n",
       "      <th>05-08-11</th>\n",
       "      <td>2</td>\n",
       "      <td>0</td>\n",
       "      <td>1</td>\n",
       "      <td>27</td>\n",
       "      <td>0</td>\n",
       "    </tr>\n",
       "    <tr>\n",
       "      <th>05-09-11</th>\n",
       "      <td>1438</td>\n",
       "      <td>3785</td>\n",
       "      <td>3589</td>\n",
       "      <td>4174</td>\n",
       "      <td>2215</td>\n",
       "    </tr>\n",
       "    <tr>\n",
       "      <th>05-10-11</th>\n",
       "      <td>1342</td>\n",
       "      <td>4043</td>\n",
       "      <td>4009</td>\n",
       "      <td>4665</td>\n",
       "      <td>3033</td>\n",
       "    </tr>\n",
       "  </tbody>\n",
       "</table>\n",
       "</div>"
      ],
      "text/plain": [
       "          R003  R004  R005  R006  R007\n",
       "05-01-11     0     0     2     5     0\n",
       "05-02-11  1478  3877  3674  2328  2539\n",
       "05-03-11  1613  4088  3991  6461  2691\n",
       "05-04-11  1560  3392  3826  4787  2613\n",
       "05-05-11  1608  4802  3932  4477  2705\n",
       "05-06-11  1576  3933  3909  4979  2685\n",
       "05-07-11    95   229   255   496   201\n",
       "05-08-11     2     0     1    27     0\n",
       "05-09-11  1438  3785  3589  4174  2215\n",
       "05-10-11  1342  4043  4009  4665  3033"
      ]
     },
     "metadata": {},
     "execution_count": 153
    }
   ],
   "metadata": {}
  },
  {
   "cell_type": "code",
   "execution_count": 154,
   "source": [
    "# Accessing elements\r\n",
    "\r\n",
    "# Rememeber - \r\n",
    "# index is the key to access an element,\r\n",
    "# and position is the number where the element is located\r\n",
    "\r\n",
    "print(ridership_df.iloc[0]) # gets the 0th row (position)"
   ],
   "outputs": [
    {
     "output_type": "stream",
     "name": "stdout",
     "text": [
      "R003    0\n",
      "R004    0\n",
      "R005    2\n",
      "R006    5\n",
      "R007    0\n",
      "Name: 05-01-11, dtype: int64\n"
     ]
    }
   ],
   "metadata": {}
  },
  {
   "cell_type": "code",
   "execution_count": 155,
   "source": [
    "print(ridership_df.loc['05-05-11']) # gets the row with the given row name (index)"
   ],
   "outputs": [
    {
     "output_type": "stream",
     "name": "stdout",
     "text": [
      "R003    1608\n",
      "R004    4802\n",
      "R005    3932\n",
      "R006    4477\n",
      "R007    2705\n",
      "Name: 05-05-11, dtype: int64\n"
     ]
    }
   ],
   "metadata": {}
  },
  {
   "cell_type": "code",
   "execution_count": 156,
   "source": [
    "ridership_df['R003'] # gets the column with the column name"
   ],
   "outputs": [
    {
     "output_type": "execute_result",
     "data": {
      "text/plain": [
       "05-01-11       0\n",
       "05-02-11    1478\n",
       "05-03-11    1613\n",
       "05-04-11    1560\n",
       "05-05-11    1608\n",
       "05-06-11    1576\n",
       "05-07-11      95\n",
       "05-08-11       2\n",
       "05-09-11    1438\n",
       "05-10-11    1342\n",
       "Name: R003, dtype: int64"
      ]
     },
     "metadata": {},
     "execution_count": 156
    }
   ],
   "metadata": {}
  },
  {
   "cell_type": "code",
   "execution_count": 157,
   "source": [
    "ridership_df.iloc[1, 3] # gets the element at row 1 and column 3 (position)"
   ],
   "outputs": [
    {
     "output_type": "execute_result",
     "data": {
      "text/plain": [
       "2328"
      ]
     },
     "metadata": {},
     "execution_count": 157
    }
   ],
   "metadata": {}
  },
  {
   "cell_type": "markdown",
   "source": [
    "Therefore, remember this:\r\n",
    "- Both `loc` and `iloc` are used to access elements in a Pandas DataFrame\r\n",
    "- `loc` takes the _index_ parameter, which the key or the row name\r\n",
    "- `iloc` takes the _position_ parameter, which is the the integer or slice in the array."
   ],
   "metadata": {}
  },
  {
   "cell_type": "code",
   "execution_count": 158,
   "source": [
    "# Accessing multiple rows\r\n",
    "ridership_df.iloc[1:4] # gets rows 1, 2, and 3"
   ],
   "outputs": [
    {
     "output_type": "execute_result",
     "data": {
      "text/html": [
       "<div>\n",
       "<style scoped>\n",
       "    .dataframe tbody tr th:only-of-type {\n",
       "        vertical-align: middle;\n",
       "    }\n",
       "\n",
       "    .dataframe tbody tr th {\n",
       "        vertical-align: top;\n",
       "    }\n",
       "\n",
       "    .dataframe thead th {\n",
       "        text-align: right;\n",
       "    }\n",
       "</style>\n",
       "<table border=\"1\" class=\"dataframe\">\n",
       "  <thead>\n",
       "    <tr style=\"text-align: right;\">\n",
       "      <th></th>\n",
       "      <th>R003</th>\n",
       "      <th>R004</th>\n",
       "      <th>R005</th>\n",
       "      <th>R006</th>\n",
       "      <th>R007</th>\n",
       "    </tr>\n",
       "  </thead>\n",
       "  <tbody>\n",
       "    <tr>\n",
       "      <th>05-02-11</th>\n",
       "      <td>1478</td>\n",
       "      <td>3877</td>\n",
       "      <td>3674</td>\n",
       "      <td>2328</td>\n",
       "      <td>2539</td>\n",
       "    </tr>\n",
       "    <tr>\n",
       "      <th>05-03-11</th>\n",
       "      <td>1613</td>\n",
       "      <td>4088</td>\n",
       "      <td>3991</td>\n",
       "      <td>6461</td>\n",
       "      <td>2691</td>\n",
       "    </tr>\n",
       "    <tr>\n",
       "      <th>05-04-11</th>\n",
       "      <td>1560</td>\n",
       "      <td>3392</td>\n",
       "      <td>3826</td>\n",
       "      <td>4787</td>\n",
       "      <td>2613</td>\n",
       "    </tr>\n",
       "  </tbody>\n",
       "</table>\n",
       "</div>"
      ],
      "text/plain": [
       "          R003  R004  R005  R006  R007\n",
       "05-02-11  1478  3877  3674  2328  2539\n",
       "05-03-11  1613  4088  3991  6461  2691\n",
       "05-04-11  1560  3392  3826  4787  2613"
      ]
     },
     "metadata": {},
     "execution_count": 158
    }
   ],
   "metadata": {}
  },
  {
   "cell_type": "code",
   "execution_count": 159,
   "source": [
    "# Accessing multiple columns\r\n",
    "ridership_df[['R003', 'R005']]"
   ],
   "outputs": [
    {
     "output_type": "execute_result",
     "data": {
      "text/html": [
       "<div>\n",
       "<style scoped>\n",
       "    .dataframe tbody tr th:only-of-type {\n",
       "        vertical-align: middle;\n",
       "    }\n",
       "\n",
       "    .dataframe tbody tr th {\n",
       "        vertical-align: top;\n",
       "    }\n",
       "\n",
       "    .dataframe thead th {\n",
       "        text-align: right;\n",
       "    }\n",
       "</style>\n",
       "<table border=\"1\" class=\"dataframe\">\n",
       "  <thead>\n",
       "    <tr style=\"text-align: right;\">\n",
       "      <th></th>\n",
       "      <th>R003</th>\n",
       "      <th>R005</th>\n",
       "    </tr>\n",
       "  </thead>\n",
       "  <tbody>\n",
       "    <tr>\n",
       "      <th>05-01-11</th>\n",
       "      <td>0</td>\n",
       "      <td>2</td>\n",
       "    </tr>\n",
       "    <tr>\n",
       "      <th>05-02-11</th>\n",
       "      <td>1478</td>\n",
       "      <td>3674</td>\n",
       "    </tr>\n",
       "    <tr>\n",
       "      <th>05-03-11</th>\n",
       "      <td>1613</td>\n",
       "      <td>3991</td>\n",
       "    </tr>\n",
       "    <tr>\n",
       "      <th>05-04-11</th>\n",
       "      <td>1560</td>\n",
       "      <td>3826</td>\n",
       "    </tr>\n",
       "    <tr>\n",
       "      <th>05-05-11</th>\n",
       "      <td>1608</td>\n",
       "      <td>3932</td>\n",
       "    </tr>\n",
       "    <tr>\n",
       "      <th>05-06-11</th>\n",
       "      <td>1576</td>\n",
       "      <td>3909</td>\n",
       "    </tr>\n",
       "    <tr>\n",
       "      <th>05-07-11</th>\n",
       "      <td>95</td>\n",
       "      <td>255</td>\n",
       "    </tr>\n",
       "    <tr>\n",
       "      <th>05-08-11</th>\n",
       "      <td>2</td>\n",
       "      <td>1</td>\n",
       "    </tr>\n",
       "    <tr>\n",
       "      <th>05-09-11</th>\n",
       "      <td>1438</td>\n",
       "      <td>3589</td>\n",
       "    </tr>\n",
       "    <tr>\n",
       "      <th>05-10-11</th>\n",
       "      <td>1342</td>\n",
       "      <td>4009</td>\n",
       "    </tr>\n",
       "  </tbody>\n",
       "</table>\n",
       "</div>"
      ],
      "text/plain": [
       "          R003  R005\n",
       "05-01-11     0     2\n",
       "05-02-11  1478  3674\n",
       "05-03-11  1613  3991\n",
       "05-04-11  1560  3826\n",
       "05-05-11  1608  3932\n",
       "05-06-11  1576  3909\n",
       "05-07-11    95   255\n",
       "05-08-11     2     1\n",
       "05-09-11  1438  3589\n",
       "05-10-11  1342  4009"
      ]
     },
     "metadata": {},
     "execution_count": 159
    }
   ],
   "metadata": {}
  },
  {
   "cell_type": "markdown",
   "source": [
    "## Pandas Axes"
   ],
   "metadata": {}
  },
  {
   "cell_type": "code",
   "execution_count": 160,
   "source": [
    "df = pd.DataFrame(df_1)\r\n",
    "df"
   ],
   "outputs": [
    {
     "output_type": "execute_result",
     "data": {
      "text/html": [
       "<div>\n",
       "<style scoped>\n",
       "    .dataframe tbody tr th:only-of-type {\n",
       "        vertical-align: middle;\n",
       "    }\n",
       "\n",
       "    .dataframe tbody tr th {\n",
       "        vertical-align: top;\n",
       "    }\n",
       "\n",
       "    .dataframe thead th {\n",
       "        text-align: right;\n",
       "    }\n",
       "</style>\n",
       "<table border=\"1\" class=\"dataframe\">\n",
       "  <thead>\n",
       "    <tr style=\"text-align: right;\">\n",
       "      <th></th>\n",
       "      <th>A</th>\n",
       "      <th>B</th>\n",
       "    </tr>\n",
       "  </thead>\n",
       "  <tbody>\n",
       "    <tr>\n",
       "      <th>0</th>\n",
       "      <td>0</td>\n",
       "      <td>3</td>\n",
       "    </tr>\n",
       "    <tr>\n",
       "      <th>1</th>\n",
       "      <td>1</td>\n",
       "      <td>4</td>\n",
       "    </tr>\n",
       "    <tr>\n",
       "      <th>2</th>\n",
       "      <td>2</td>\n",
       "      <td>5</td>\n",
       "    </tr>\n",
       "  </tbody>\n",
       "</table>\n",
       "</div>"
      ],
      "text/plain": [
       "   A  B\n",
       "0  0  3\n",
       "1  1  4\n",
       "2  2  5"
      ]
     },
     "metadata": {},
     "execution_count": 160
    }
   ],
   "metadata": {}
  },
  {
   "cell_type": "code",
   "execution_count": 161,
   "source": [
    "df.sum()  # prints the sum per column (axis = 0 by default)"
   ],
   "outputs": [
    {
     "output_type": "execute_result",
     "data": {
      "text/plain": [
       "A     3\n",
       "B    12\n",
       "dtype: int64"
      ]
     },
     "metadata": {},
     "execution_count": 161
    }
   ],
   "metadata": {}
  },
  {
   "cell_type": "code",
   "execution_count": 162,
   "source": [
    "df.sum(axis=1)  # prints the sum per row"
   ],
   "outputs": [
    {
     "output_type": "execute_result",
     "data": {
      "text/plain": [
       "0    3\n",
       "1    5\n",
       "2    7\n",
       "dtype: int64"
      ]
     },
     "metadata": {},
     "execution_count": 162
    }
   ],
   "metadata": {}
  },
  {
   "cell_type": "code",
   "execution_count": 163,
   "source": [
    "df.values  # prints the dataframe as a 2D array, used for summing the all the numbers (as shown below)"
   ],
   "outputs": [
    {
     "output_type": "execute_result",
     "data": {
      "text/plain": [
       "array([[0, 3],\n",
       "       [1, 4],\n",
       "       [2, 5]], dtype=int64)"
      ]
     },
     "metadata": {},
     "execution_count": 163
    }
   ],
   "metadata": {}
  },
  {
   "cell_type": "code",
   "execution_count": 164,
   "source": [
    "df.values.sum()"
   ],
   "outputs": [
    {
     "output_type": "execute_result",
     "data": {
      "text/plain": [
       "15"
      ]
     },
     "metadata": {},
     "execution_count": 164
    }
   ],
   "metadata": {}
  },
  {
   "cell_type": "code",
   "execution_count": 165,
   "source": [
    "ridership_df"
   ],
   "outputs": [
    {
     "output_type": "execute_result",
     "data": {
      "text/html": [
       "<div>\n",
       "<style scoped>\n",
       "    .dataframe tbody tr th:only-of-type {\n",
       "        vertical-align: middle;\n",
       "    }\n",
       "\n",
       "    .dataframe tbody tr th {\n",
       "        vertical-align: top;\n",
       "    }\n",
       "\n",
       "    .dataframe thead th {\n",
       "        text-align: right;\n",
       "    }\n",
       "</style>\n",
       "<table border=\"1\" class=\"dataframe\">\n",
       "  <thead>\n",
       "    <tr style=\"text-align: right;\">\n",
       "      <th></th>\n",
       "      <th>R003</th>\n",
       "      <th>R004</th>\n",
       "      <th>R005</th>\n",
       "      <th>R006</th>\n",
       "      <th>R007</th>\n",
       "    </tr>\n",
       "  </thead>\n",
       "  <tbody>\n",
       "    <tr>\n",
       "      <th>05-01-11</th>\n",
       "      <td>0</td>\n",
       "      <td>0</td>\n",
       "      <td>2</td>\n",
       "      <td>5</td>\n",
       "      <td>0</td>\n",
       "    </tr>\n",
       "    <tr>\n",
       "      <th>05-02-11</th>\n",
       "      <td>1478</td>\n",
       "      <td>3877</td>\n",
       "      <td>3674</td>\n",
       "      <td>2328</td>\n",
       "      <td>2539</td>\n",
       "    </tr>\n",
       "    <tr>\n",
       "      <th>05-03-11</th>\n",
       "      <td>1613</td>\n",
       "      <td>4088</td>\n",
       "      <td>3991</td>\n",
       "      <td>6461</td>\n",
       "      <td>2691</td>\n",
       "    </tr>\n",
       "    <tr>\n",
       "      <th>05-04-11</th>\n",
       "      <td>1560</td>\n",
       "      <td>3392</td>\n",
       "      <td>3826</td>\n",
       "      <td>4787</td>\n",
       "      <td>2613</td>\n",
       "    </tr>\n",
       "    <tr>\n",
       "      <th>05-05-11</th>\n",
       "      <td>1608</td>\n",
       "      <td>4802</td>\n",
       "      <td>3932</td>\n",
       "      <td>4477</td>\n",
       "      <td>2705</td>\n",
       "    </tr>\n",
       "    <tr>\n",
       "      <th>05-06-11</th>\n",
       "      <td>1576</td>\n",
       "      <td>3933</td>\n",
       "      <td>3909</td>\n",
       "      <td>4979</td>\n",
       "      <td>2685</td>\n",
       "    </tr>\n",
       "    <tr>\n",
       "      <th>05-07-11</th>\n",
       "      <td>95</td>\n",
       "      <td>229</td>\n",
       "      <td>255</td>\n",
       "      <td>496</td>\n",
       "      <td>201</td>\n",
       "    </tr>\n",
       "    <tr>\n",
       "      <th>05-08-11</th>\n",
       "      <td>2</td>\n",
       "      <td>0</td>\n",
       "      <td>1</td>\n",
       "      <td>27</td>\n",
       "      <td>0</td>\n",
       "    </tr>\n",
       "    <tr>\n",
       "      <th>05-09-11</th>\n",
       "      <td>1438</td>\n",
       "      <td>3785</td>\n",
       "      <td>3589</td>\n",
       "      <td>4174</td>\n",
       "      <td>2215</td>\n",
       "    </tr>\n",
       "    <tr>\n",
       "      <th>05-10-11</th>\n",
       "      <td>1342</td>\n",
       "      <td>4043</td>\n",
       "      <td>4009</td>\n",
       "      <td>4665</td>\n",
       "      <td>3033</td>\n",
       "    </tr>\n",
       "  </tbody>\n",
       "</table>\n",
       "</div>"
      ],
      "text/plain": [
       "          R003  R004  R005  R006  R007\n",
       "05-01-11     0     0     2     5     0\n",
       "05-02-11  1478  3877  3674  2328  2539\n",
       "05-03-11  1613  4088  3991  6461  2691\n",
       "05-04-11  1560  3392  3826  4787  2613\n",
       "05-05-11  1608  4802  3932  4477  2705\n",
       "05-06-11  1576  3933  3909  4979  2685\n",
       "05-07-11    95   229   255   496   201\n",
       "05-08-11     2     0     1    27     0\n",
       "05-09-11  1438  3785  3589  4174  2215\n",
       "05-10-11  1342  4043  4009  4665  3033"
      ]
     },
     "metadata": {},
     "execution_count": 165
    }
   ],
   "metadata": {}
  },
  {
   "cell_type": "code",
   "execution_count": 166,
   "source": [
    "def mean_riders_for_max_station_pd(ridership):\r\n",
    "    '''\r\n",
    "    Fill in this function to find the station with the maximum riders on the\r\n",
    "    first day, then return the mean riders per day for that station. Also\r\n",
    "    return the mean ridership overall for comparsion.\r\n",
    "    \r\n",
    "    This is the same as a previous exercise, but this time the\r\n",
    "    input is a Pandas DataFrame rather than a 2D NumPy array.\r\n",
    "    '''\r\n",
    "    max_first_day = ridership.iloc[0].idxmax()\r\n",
    "\r\n",
    "    overall_mean = ridership.values.mean() # Replace this with your code - DONE\r\n",
    "    mean_for_max = ridership[max_first_day].mean() # Replace this with your code - DONE\r\n",
    "    \r\n",
    "    return (overall_mean, mean_for_max)"
   ],
   "outputs": [],
   "metadata": {}
  },
  {
   "cell_type": "code",
   "execution_count": 167,
   "source": [
    "mean_riders_for_max_station_pd(ridership_df)"
   ],
   "outputs": [
    {
     "output_type": "execute_result",
     "data": {
      "text/plain": [
       "(2342.6, 3239.9)"
      ]
     },
     "metadata": {},
     "execution_count": 167
    }
   ],
   "metadata": {}
  },
  {
   "cell_type": "markdown",
   "source": [
    "## CSVs with Pandas DataFrames\r\n",
    "\r\n",
    "Pandas DataFrames are particularly suitable for CSV files. DataFrames are 2D stuctures, just as CSV sheets, and they can have different column names for each column, also like CSVs."
   ],
   "metadata": {}
  },
  {
   "cell_type": "code",
   "execution_count": 168,
   "source": [
    "subway_df = pd.read_csv('./nyc_subway_weather.csv')"
   ],
   "outputs": [],
   "metadata": {}
  },
  {
   "cell_type": "code",
   "execution_count": 172,
   "source": [
    "def correlation(x, y):\r\n",
    "    '''\r\n",
    "    Fill in this function to compute the correlation between the two\r\n",
    "    input variables. Each input is either a NumPy array or a Pandas\r\n",
    "    Series.\r\n",
    "    \r\n",
    "    correlation = average of (x in standard units) times (y in standard units)\r\n",
    "    \r\n",
    "    Remember to pass the argument \"ddof=0\" to the Pandas std() function!\r\n",
    "    '''\r\n",
    "    n = len(x)\r\n",
    "    xbar = x.mean()\r\n",
    "    ybar = y.mean()\r\n",
    "    # sop = sum([(xi-xbar)*(yi-ybar) for (xi, yi) in zip(x,y)])  # sum of products\r\n",
    "    sop  = ((x-xbar)*(y-ybar)).sum()  # NOTE: I did not have to use the above commented way for SOP as Pandas does vector operations\r\n",
    "    cov = sop / n  # covariance; formula for covariance described here: https://corporatefinanceinstitute.com/resources/knowledge/finance/covariance/\r\n",
    "    x_std = x.std(ddof=0)\r\n",
    "    y_std = y.std(ddof=0)\r\n",
    "    return cov / (x_std*y_std)"
   ],
   "outputs": [],
   "metadata": {}
  },
  {
   "cell_type": "code",
   "execution_count": 173,
   "source": [
    "entries = subway_df['ENTRIESn_hourly']\r\n",
    "cum_entries = subway_df['ENTRIESn']\r\n",
    "rain = subway_df['meanprecipi']\r\n",
    "temp = subway_df['meantempi']\r\n",
    "entries.std(ddof=0)\r\n",
    "\r\n",
    "print (correlation(entries, rain))\r\n"
   ],
   "outputs": [
    {
     "output_type": "stream",
     "name": "stdout",
     "text": [
      "0.03564851577224406\n"
     ]
    }
   ],
   "metadata": {}
  },
  {
   "cell_type": "code",
   "execution_count": 174,
   "source": [
    "print (correlation(entries, temp))\r\n",
    "print (correlation(rain, temp))\r\n",
    "\r\n",
    "print (correlation(entries, cum_entries))"
   ],
   "outputs": [
    {
     "output_type": "stream",
     "name": "stdout",
     "text": [
      "-0.026693348321570783\n",
      "-0.22903432340843471\n",
      "0.5858954707662075\n"
     ]
    }
   ],
   "metadata": {}
  },
  {
   "cell_type": "code",
   "execution_count": null,
   "source": [],
   "outputs": [],
   "metadata": {}
  }
 ],
 "metadata": {
  "orig_nbformat": 4,
  "language_info": {
   "name": "python",
   "version": "3.9.0",
   "mimetype": "text/x-python",
   "codemirror_mode": {
    "name": "ipython",
    "version": 3
   },
   "pygments_lexer": "ipython3",
   "nbconvert_exporter": "python",
   "file_extension": ".py"
  },
  "kernelspec": {
   "name": "python3",
   "display_name": "Python 3.9.0 64-bit"
  },
  "interpreter": {
   "hash": "fb28a47e64698fd316ef894d8ed3433d0649d6e25f9973778a9bc5864bd7dec0"
  }
 },
 "nbformat": 4,
 "nbformat_minor": 2
}