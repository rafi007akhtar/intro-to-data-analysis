{
 "cells": [
  {
   "cell_type": "code",
   "execution_count": 1,
   "source": [
    "import numpy as np"
   ],
   "outputs": [],
   "metadata": {}
  },
  {
   "cell_type": "code",
   "execution_count": 6,
   "source": [
    "# Subway ridership for 5 stations on 10 different days\r\n",
    "ridership = np.array([\r\n",
    "    [   0,    0,    2,    5,    0],\r\n",
    "    [1478, 3877, 3674, 2328, 2539],\r\n",
    "    [1613, 4088, 3991, 6461, 2691],\r\n",
    "    [1560, 3392, 3826, 4787, 2613],\r\n",
    "    [1608, 4802, 3932, 4477, 2705],\r\n",
    "    [1576, 3933, 3909, 4979, 2685],\r\n",
    "    [  95,  229,  255,  496,  201],\r\n",
    "    [   2,    0,    1,   27,    0],\r\n",
    "    [1438, 3785, 3589, 4174, 2215],\r\n",
    "    [1342, 4043, 4009, 4665, 3033]\r\n",
    "])"
   ],
   "outputs": [],
   "metadata": {}
  },
  {
   "cell_type": "code",
   "execution_count": 7,
   "source": [
    "# Change False to True for each block of code to see what it does\r\n",
    "\r\n",
    "# Accessing elements\r\n",
    "if True:\r\n",
    "    print (ridership[1, 3])  # guess - 2328 (correct!)\r\n",
    "    print (ridership[1:3, 3:5])  # guess - explanation below\r\n",
    "    print (ridership[1, :])  # guess - [1478, 3877, 3674, 2328, 2539] (correct!)\r\n"
   ],
   "outputs": [
    {
     "output_type": "stream",
     "name": "stdout",
     "text": [
      "2328\n",
      "[[2328 2539]\n",
      " [6461 2691]]\n",
      "[1478 3877 3674 2328 2539]\n"
     ]
    }
   ],
   "metadata": {}
  },
  {
   "cell_type": "markdown",
   "source": [
    "## But why did the second command produce such a matrix?\r\n",
    "\r\n",
    "Well, firstly, let's have a look at the matrix, and this time, let's mark the rows.\r\n",
    "```py\r\n",
    "[\r\n",
    "    [   0,    0,    2,    5,    0],  # row 0\r\n",
    "    [1478, 3877, 3674, 2328, 2539],  # row 1\r\n",
    "    [1613, 4088, 3991, 6461, 2691],  # row 2\r\n",
    "    [1560, 3392, 3826, 4787, 2613],  # row 3\r\n",
    "    [1608, 4802, 3932, 4477, 2705],  # row 4\r\n",
    "    [1576, 3933, 3909, 4979, 2685],  # row 5\r\n",
    "    [  95,  229,  255,  496,  201],  # row 6\r\n",
    "    [   2,    0,    1,   27,    0],  # row 7\r\n",
    "    [1438, 3785, 3589, 4174, 2215],  # row 8\r\n",
    "    [1342, 4043, 4009, 4665, 3033]  # row 9\r\n",
    "]\r\n",
    "```\r\n",
    "\r\n",
    "In order to answer this, break the command by the parameters within the square brackets.\r\n",
    "- Parameter 1 - `[1:3]`\r\n",
    "- Parameter 2 - `[3:5]`\r\n",
    "\r\n",
    "These are essentially two consecutive slices. First will be the row slicing from 1 to 3-1, and second will be the column slicing from 3 to 5-1.\r\n",
    "\r\n",
    "### Parameter 1 - [1:3]\r\n",
    "`a:b` means you start at `a`th row, and slice your way down to the `b-1`th row. So in this case, the sliced array of the original array would start at row 1, and go on till row 3 - 1 = 2, resulting in the following array:\r\n",
    "```py\r\n",
    "#   0       1      2    3      4    <= columns\r\n",
    "[\r\n",
    "    [1478, 3877, 3674, 2328, 2539],  # row 1\r\n",
    "    [1613, 4088, 3991, 6461, 2691]  # row 2\r\n",
    "]\r\n",
    "```\r\n",
    "Note that this time, the columns are also marked, because they will be needed in the second slicing of parameter 2.\r\n",
    "\r\n",
    "### Parameter 2 - [3:5]\r\n",
    "This time, instead of slicing rows, slice the columns (that's what the second parameter is for). So we begin at column 3, and slice uptil column 5-1 = 4, resulting in the following final matrix.\r\n",
    "```py\r\n",
    "[\r\n",
    "    [2328, 2539],\r\n",
    "    [6461, 2691]\r\n",
    "]\r\n",
    "```"
   ],
   "metadata": {}
  },
  {
   "cell_type": "code",
   "execution_count": 8,
   "source": [
    "# Vectorized operations on rows or columns\r\n",
    "if True:\r\n",
    "    print (ridership[0, :] + ridership[1, :])  # guess - [0, 0, 2, 5, 0] + [1478, 3877, 3674, 2328, 2539] = [1478, 3877, 3676, 2333, 2539]\r\n",
    "    print (ridership[:, 0] + ridership[:, 1])  # guess - column 0 + column 1\r\n"
   ],
   "outputs": [
    {
     "output_type": "stream",
     "name": "stdout",
     "text": [
      "[1478 3877 3676 2333 2539]\n",
      "[   0 5355 5701 4952 6410 5509  324    2 5223 5385]\n"
     ]
    }
   ],
   "metadata": {}
  },
  {
   "cell_type": "code",
   "execution_count": 19,
   "source": [
    "# Vectorized operations on entire arrays\r\n",
    "if True:\r\n",
    "    a = np.array([[1, 2, 3], [4, 5, 6], [7, 8, 9]])\r\n",
    "    b = np.array([[1, 1, 1], [2, 2, 2], [3, 3, 3]])\r\n",
    "    print (a + b)  # guess - normal matrix addition"
   ],
   "outputs": [
    {
     "output_type": "stream",
     "name": "stdout",
     "text": [
      "[[ 2  3  4]\n",
      " [ 6  7  8]\n",
      " [10 11 12]]\n"
     ]
    }
   ],
   "metadata": {}
  },
  {
   "cell_type": "code",
   "execution_count": 20,
   "source": [
    "ridership"
   ],
   "outputs": [
    {
     "output_type": "execute_result",
     "data": {
      "text/plain": [
       "array([[   0,    0,    2,    5,    0],\n",
       "       [1478, 3877, 3674, 2328, 2539],\n",
       "       [1613, 4088, 3991, 6461, 2691],\n",
       "       [1560, 3392, 3826, 4787, 2613],\n",
       "       [1608, 4802, 3932, 4477, 2705],\n",
       "       [1576, 3933, 3909, 4979, 2685],\n",
       "       [  95,  229,  255,  496,  201],\n",
       "       [   2,    0,    1,   27,    0],\n",
       "       [1438, 3785, 3589, 4174, 2215],\n",
       "       [1342, 4043, 4009, 4665, 3033]])"
      ]
     },
     "metadata": {},
     "execution_count": 20
    }
   ],
   "metadata": {}
  },
  {
   "cell_type": "code",
   "execution_count": 27,
   "source": [
    "def mean_riders_for_max_station(ridership):\r\n",
    "    '''\r\n",
    "    Fill in this function to find the station with the maximum riders on the\r\n",
    "    first day, then return the mean riders per day for that station. Also\r\n",
    "    return the mean ridership overall for comparsion.\r\n",
    "    \r\n",
    "    Hint: NumPy's argmax() function might be useful:\r\n",
    "    http://docs.scipy.org/doc/numpy/reference/generated/numpy.argmax.html\r\n",
    "    '''\r\n",
    "    max_for_first = np.argmax(ridership[0, :])\r\n",
    "    overall_mean = ridership.mean() # Replace this with your code\r\n",
    "    mean_for_max = (ridership[:, max_for_first]).mean() # Replace this with your code\r\n",
    "    \r\n",
    "    return (overall_mean, mean_for_max)"
   ],
   "outputs": [],
   "metadata": {}
  },
  {
   "cell_type": "code",
   "execution_count": 28,
   "source": [
    "mean_riders_for_max_station(ridership)"
   ],
   "outputs": [
    {
     "output_type": "execute_result",
     "data": {
      "text/plain": [
       "(2342.6, 3239.9)"
      ]
     },
     "metadata": {},
     "execution_count": 28
    }
   ],
   "metadata": {}
  },
  {
   "cell_type": "code",
   "execution_count": null,
   "source": [],
   "outputs": [],
   "metadata": {}
  }
 ],
 "metadata": {
  "orig_nbformat": 4,
  "language_info": {
   "name": "python",
   "version": "3.9.0",
   "mimetype": "text/x-python",
   "codemirror_mode": {
    "name": "ipython",
    "version": 3
   },
   "pygments_lexer": "ipython3",
   "nbconvert_exporter": "python",
   "file_extension": ".py"
  },
  "kernelspec": {
   "name": "python3",
   "display_name": "Python 3.9.0 64-bit"
  },
  "interpreter": {
   "hash": "fb28a47e64698fd316ef894d8ed3433d0649d6e25f9973778a9bc5864bd7dec0"
  }
 },
 "nbformat": 4,
 "nbformat_minor": 2
}