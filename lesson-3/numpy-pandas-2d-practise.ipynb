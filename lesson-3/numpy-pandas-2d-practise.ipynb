{
 "cells": [
  {
   "cell_type": "markdown",
   "source": [
    "# Numpy with 2D Arrays"
   ],
   "metadata": {}
  },
  {
   "cell_type": "code",
   "execution_count": 1,
   "source": [
    "import numpy as np"
   ],
   "outputs": [],
   "metadata": {}
  },
  {
   "cell_type": "code",
   "execution_count": 2,
   "source": [
    "# Subway ridership for 5 stations on 10 different days\r\n",
    "ridership = np.array([\r\n",
    "    [   0,    0,    2,    5,    0],\r\n",
    "    [1478, 3877, 3674, 2328, 2539],\r\n",
    "    [1613, 4088, 3991, 6461, 2691],\r\n",
    "    [1560, 3392, 3826, 4787, 2613],\r\n",
    "    [1608, 4802, 3932, 4477, 2705],\r\n",
    "    [1576, 3933, 3909, 4979, 2685],\r\n",
    "    [  95,  229,  255,  496,  201],\r\n",
    "    [   2,    0,    1,   27,    0],\r\n",
    "    [1438, 3785, 3589, 4174, 2215],\r\n",
    "    [1342, 4043, 4009, 4665, 3033]\r\n",
    "])"
   ],
   "outputs": [],
   "metadata": {}
  },
  {
   "cell_type": "code",
   "execution_count": 3,
   "source": [
    "# Change False to True for each block of code to see what it does\r\n",
    "\r\n",
    "# Accessing elements\r\n",
    "if True:\r\n",
    "    print (ridership[1, 3])  # guess - 2328 (correct!)\r\n",
    "    print (ridership[1:3, 3:5])  # guess - explanation below\r\n",
    "    print (ridership[1, :])  # guess - [1478, 3877, 3674, 2328, 2539] (correct!)\r\n"
   ],
   "outputs": [
    {
     "output_type": "stream",
     "name": "stdout",
     "text": [
      "2328\n",
      "[[2328 2539]\n",
      " [6461 2691]]\n",
      "[1478 3877 3674 2328 2539]\n"
     ]
    }
   ],
   "metadata": {}
  },
  {
   "cell_type": "markdown",
   "source": [
    "## But why did the second command produce such a matrix?\r\n",
    "\r\n",
    "Well, firstly, let's have a look at the matrix, and this time, let's mark the rows.\r\n",
    "```py\r\n",
    "[\r\n",
    "    [   0,    0,    2,    5,    0],  # row 0\r\n",
    "    [1478, 3877, 3674, 2328, 2539],  # row 1\r\n",
    "    [1613, 4088, 3991, 6461, 2691],  # row 2\r\n",
    "    [1560, 3392, 3826, 4787, 2613],  # row 3\r\n",
    "    [1608, 4802, 3932, 4477, 2705],  # row 4\r\n",
    "    [1576, 3933, 3909, 4979, 2685],  # row 5\r\n",
    "    [  95,  229,  255,  496,  201],  # row 6\r\n",
    "    [   2,    0,    1,   27,    0],  # row 7\r\n",
    "    [1438, 3785, 3589, 4174, 2215],  # row 8\r\n",
    "    [1342, 4043, 4009, 4665, 3033]  # row 9\r\n",
    "]\r\n",
    "```\r\n",
    "\r\n",
    "In order to answer this, break the command by the parameters within the square brackets.\r\n",
    "- Parameter 1 - `[1:3]`\r\n",
    "- Parameter 2 - `[3:5]`\r\n",
    "\r\n",
    "These are essentially two consecutive slices. First will be the row slicing from 1 to 3-1, and second will be the column slicing from 3 to 5-1.\r\n",
    "\r\n",
    "### Parameter 1 - [1:3]\r\n",
    "`a:b` means you start at `a`th row, and slice your way down to the `b-1`th row. So in this case, the sliced array of the original array would start at row 1, and go on till row 3 - 1 = 2, resulting in the following array:\r\n",
    "```py\r\n",
    "#    0       1      2    3     4    <= columns\r\n",
    "[\r\n",
    "    [1478, 3877, 3674, 2328, 2539],  # row 1\r\n",
    "    [1613, 4088, 3991, 6461, 2691]  # row 2\r\n",
    "]\r\n",
    "```\r\n",
    "Note that this time, the columns are also marked, because they will be needed in the second slicing of parameter 2.\r\n",
    "\r\n",
    "### Parameter 2 - [3:5]\r\n",
    "This time, instead of slicing rows, slice the columns (that's what the second parameter is for). So we begin at column 3, and slice uptil column 5-1 = 4, resulting in the following final matrix.\r\n",
    "```py\r\n",
    "[\r\n",
    "    [2328, 2539],\r\n",
    "    [6461, 2691]\r\n",
    "]\r\n",
    "```"
   ],
   "metadata": {}
  },
  {
   "cell_type": "code",
   "execution_count": 4,
   "source": [
    "# Vectorized operations on rows or columns\r\n",
    "if True:\r\n",
    "    print (ridership[0, :] + ridership[1, :])  # guess - [0, 0, 2, 5, 0] + [1478, 3877, 3674, 2328, 2539] = [1478, 3877, 3676, 2333, 2539]\r\n",
    "    print (ridership[:, 0] + ridership[:, 1])  # guess - column 0 + column 1\r\n"
   ],
   "outputs": [
    {
     "output_type": "stream",
     "name": "stdout",
     "text": [
      "[1478 3877 3676 2333 2539]\n",
      "[   0 5355 5701 4952 6410 5509  324    2 5223 5385]\n"
     ]
    }
   ],
   "metadata": {}
  },
  {
   "cell_type": "code",
   "execution_count": 5,
   "source": [
    "# Vectorized operations on entire arrays\r\n",
    "if True:\r\n",
    "    a = np.array([[1, 2, 3], [4, 5, 6], [7, 8, 9]])\r\n",
    "    b = np.array([[1, 1, 1], [2, 2, 2], [3, 3, 3]])\r\n",
    "    print (a + b)  # guess - normal matrix addition"
   ],
   "outputs": [
    {
     "output_type": "stream",
     "name": "stdout",
     "text": [
      "[[ 2  3  4]\n",
      " [ 6  7  8]\n",
      " [10 11 12]]\n"
     ]
    }
   ],
   "metadata": {}
  },
  {
   "cell_type": "code",
   "execution_count": 6,
   "source": [
    "ridership"
   ],
   "outputs": [
    {
     "output_type": "execute_result",
     "data": {
      "text/plain": [
       "array([[   0,    0,    2,    5,    0],\n",
       "       [1478, 3877, 3674, 2328, 2539],\n",
       "       [1613, 4088, 3991, 6461, 2691],\n",
       "       [1560, 3392, 3826, 4787, 2613],\n",
       "       [1608, 4802, 3932, 4477, 2705],\n",
       "       [1576, 3933, 3909, 4979, 2685],\n",
       "       [  95,  229,  255,  496,  201],\n",
       "       [   2,    0,    1,   27,    0],\n",
       "       [1438, 3785, 3589, 4174, 2215],\n",
       "       [1342, 4043, 4009, 4665, 3033]])"
      ]
     },
     "metadata": {},
     "execution_count": 6
    }
   ],
   "metadata": {}
  },
  {
   "cell_type": "code",
   "execution_count": 7,
   "source": [
    "def mean_riders_for_max_station(ridership):\r\n",
    "    '''\r\n",
    "    Fill in this function to find the station with the maximum riders on the\r\n",
    "    first day, then return the mean riders per day for that station. Also\r\n",
    "    return the mean ridership overall for comparsion.\r\n",
    "    \r\n",
    "    Hint: NumPy's argmax() function might be useful:\r\n",
    "    http://docs.scipy.org/doc/numpy/reference/generated/numpy.argmax.html\r\n",
    "    '''\r\n",
    "    max_for_first = np.argmax(ridership[0, :])\r\n",
    "    overall_mean = ridership.mean() # Replace this with your code - DONE\r\n",
    "    mean_for_max = (ridership[:, max_for_first]).mean() # Replace this with your code - DONE\r\n",
    "    \r\n",
    "    return (overall_mean, mean_for_max)"
   ],
   "outputs": [],
   "metadata": {}
  },
  {
   "cell_type": "code",
   "execution_count": 8,
   "source": [
    "mean_riders_for_max_station(ridership)"
   ],
   "outputs": [
    {
     "output_type": "execute_result",
     "data": {
      "text/plain": [
       "(2342.6, 3239.9)"
      ]
     },
     "metadata": {},
     "execution_count": 8
    }
   ],
   "metadata": {}
  },
  {
   "cell_type": "markdown",
   "source": [
    "## Numpy axes\r\n",
    "\r\n",
    "Most numpy methods take an `axis` parameter.\r\n",
    "\r\n",
    "In case of a two-dimensional array, the axis can take a value of 0 or 1. The operation will then happen across the column or the row respectively.\r\n",
    "\r\n",
    "|`axis` | Operation|\r\n",
    "|-------|----------|\r\n",
    "|1 | across the row|\r\n",
    "|0 | across the column|\r\n"
   ],
   "metadata": {}
  },
  {
   "cell_type": "code",
   "execution_count": 9,
   "source": [
    "# Change False to True for this block of code to see what it does\r\n",
    "\r\n",
    "# NumPy axis argument\r\n",
    "if True:\r\n",
    "    a = np.array([\r\n",
    "        [1, 2, 3],\r\n",
    "        [4, 5, 6],\r\n",
    "        [7, 8, 9]\r\n",
    "    ])\r\n",
    "    \r\n",
    "    print (a.sum())  # guess: 45\r\n",
    "    print (a.sum(axis=0))  # guess: [1+4+7, 2+5+8, 3+6+9] = [12, 15, 18]\r\n",
    "    print (a.sum(axis=1))  # guess: [1+2+3, 4+5+6, 7+8+9] = [6, 15, 24]"
   ],
   "outputs": [
    {
     "output_type": "stream",
     "name": "stdout",
     "text": [
      "45\n",
      "[12 15 18]\n",
      "[ 6 15 24]\n"
     ]
    }
   ],
   "metadata": {}
  },
  {
   "cell_type": "code",
   "execution_count": 10,
   "source": [
    "# Subway ridership for 5 stations on 10 different days\r\n",
    "ridership = np.array([\r\n",
    "    [   0,    0,    2,    5,    0],\r\n",
    "    [1478, 3877, 3674, 2328, 2539],\r\n",
    "    [1613, 4088, 3991, 6461, 2691],\r\n",
    "    [1560, 3392, 3826, 4787, 2613],\r\n",
    "    [1608, 4802, 3932, 4477, 2705],\r\n",
    "    [1576, 3933, 3909, 4979, 2685],\r\n",
    "    [  95,  229,  255,  496,  201],\r\n",
    "    [   2,    0,    1,   27,    0],\r\n",
    "    [1438, 3785, 3589, 4174, 2215],\r\n",
    "    [1342, 4043, 4009, 4665, 3033]\r\n",
    "])\r\n",
    "\r\n",
    "def min_and_max_riders_per_day(ridership):\r\n",
    "    '''\r\n",
    "    Fill in this function. First, for each subway station, calculate the\r\n",
    "    mean ridership per day. Then, out of all the subway stations, return the\r\n",
    "    maximum and minimum of these values. That is, find the maximum\r\n",
    "    mean-ridership-per-day and the minimum mean-ridership-per-day for any\r\n",
    "    subway station.\r\n",
    "    '''\r\n",
    "    mean_riders_per_day = ridership.mean(axis=0)\r\n",
    "    max_daily_ridership = mean_riders_per_day.max()     # Replace this with your code - DONE\r\n",
    "    min_daily_ridership = mean_riders_per_day.min()     # Replace this with your code - DONE\r\n",
    "    \r\n",
    "    return (max_daily_ridership, min_daily_ridership)"
   ],
   "outputs": [],
   "metadata": {}
  },
  {
   "cell_type": "code",
   "execution_count": 11,
   "source": [
    "min_and_max_riders_per_day(ridership)"
   ],
   "outputs": [
    {
     "output_type": "execute_result",
     "data": {
      "text/plain": [
       "(3239.9, 1071.2)"
      ]
     },
     "metadata": {},
     "execution_count": 11
    }
   ],
   "metadata": {}
  },
  {
   "cell_type": "markdown",
   "source": [
    "# Pandas DataFrames"
   ],
   "metadata": {}
  },
  {
   "cell_type": "code",
   "execution_count": 12,
   "source": [
    "import pandas as pd"
   ],
   "outputs": [],
   "metadata": {}
  },
  {
   "cell_type": "code",
   "execution_count": 13,
   "source": [
    "# DataFrame creation\r\n",
    "\r\n",
    "# You can create a DataFrame out of a dictionary mapping column names to values\r\n",
    "df_1 = pd.DataFrame({\r\n",
    "    'A': [0, 1, 2],\r\n",
    "    'B': [3, 4, 5]\r\n",
    "})\r\n",
    "print(df_1)\r\n"
   ],
   "outputs": [
    {
     "output_type": "stream",
     "name": "stdout",
     "text": [
      "   A  B\n",
      "0  0  3\n",
      "1  1  4\n",
      "2  2  5\n"
     ]
    }
   ],
   "metadata": {}
  },
  {
   "cell_type": "code",
   "execution_count": 14,
   "source": [
    "# You can also use a list of lists or a 2D NumPy array\r\n",
    "df_2 = pd.DataFrame([[0, 1, 2], [3, 4, 5]])\r\n",
    "print(df_2)"
   ],
   "outputs": [
    {
     "output_type": "stream",
     "name": "stdout",
     "text": [
      "   0  1  2\n",
      "0  0  1  2\n",
      "1  3  4  5\n"
     ]
    }
   ],
   "metadata": {}
  },
  {
   "cell_type": "code",
   "execution_count": 15,
   "source": [
    "# Subway ridership for 5 stations on 10 different days\r\n",
    "ridership_df = pd.DataFrame(\r\n",
    "    data=[\r\n",
    "        [   0,    0,    2,    5,    0],\r\n",
    "        [1478, 3877, 3674, 2328, 2539],\r\n",
    "        [1613, 4088, 3991, 6461, 2691],\r\n",
    "        [1560, 3392, 3826, 4787, 2613],\r\n",
    "        [1608, 4802, 3932, 4477, 2705],\r\n",
    "        [1576, 3933, 3909, 4979, 2685],\r\n",
    "        [  95,  229,  255,  496,  201],\r\n",
    "        [   2,    0,    1,   27,    0],\r\n",
    "        [1438, 3785, 3589, 4174, 2215],\r\n",
    "        [1342, 4043, 4009, 4665, 3033]\r\n",
    "    ],\r\n",
    "    # indices will be the rows\r\n",
    "    index=['05-01-11', '05-02-11', '05-03-11', '05-04-11', '05-05-11',\r\n",
    "           '05-06-11', '05-07-11', '05-08-11', '05-09-11', '05-10-11'],\r\n",
    "    columns=['R003', 'R004', 'R005', 'R006', 'R007']\r\n",
    ")\r\n",
    "ridership_df"
   ],
   "outputs": [
    {
     "output_type": "execute_result",
     "data": {
      "text/html": [
       "<div>\n",
       "<style scoped>\n",
       "    .dataframe tbody tr th:only-of-type {\n",
       "        vertical-align: middle;\n",
       "    }\n",
       "\n",
       "    .dataframe tbody tr th {\n",
       "        vertical-align: top;\n",
       "    }\n",
       "\n",
       "    .dataframe thead th {\n",
       "        text-align: right;\n",
       "    }\n",
       "</style>\n",
       "<table border=\"1\" class=\"dataframe\">\n",
       "  <thead>\n",
       "    <tr style=\"text-align: right;\">\n",
       "      <th></th>\n",
       "      <th>R003</th>\n",
       "      <th>R004</th>\n",
       "      <th>R005</th>\n",
       "      <th>R006</th>\n",
       "      <th>R007</th>\n",
       "    </tr>\n",
       "  </thead>\n",
       "  <tbody>\n",
       "    <tr>\n",
       "      <th>05-01-11</th>\n",
       "      <td>0</td>\n",
       "      <td>0</td>\n",
       "      <td>2</td>\n",
       "      <td>5</td>\n",
       "      <td>0</td>\n",
       "    </tr>\n",
       "    <tr>\n",
       "      <th>05-02-11</th>\n",
       "      <td>1478</td>\n",
       "      <td>3877</td>\n",
       "      <td>3674</td>\n",
       "      <td>2328</td>\n",
       "      <td>2539</td>\n",
       "    </tr>\n",
       "    <tr>\n",
       "      <th>05-03-11</th>\n",
       "      <td>1613</td>\n",
       "      <td>4088</td>\n",
       "      <td>3991</td>\n",
       "      <td>6461</td>\n",
       "      <td>2691</td>\n",
       "    </tr>\n",
       "    <tr>\n",
       "      <th>05-04-11</th>\n",
       "      <td>1560</td>\n",
       "      <td>3392</td>\n",
       "      <td>3826</td>\n",
       "      <td>4787</td>\n",
       "      <td>2613</td>\n",
       "    </tr>\n",
       "    <tr>\n",
       "      <th>05-05-11</th>\n",
       "      <td>1608</td>\n",
       "      <td>4802</td>\n",
       "      <td>3932</td>\n",
       "      <td>4477</td>\n",
       "      <td>2705</td>\n",
       "    </tr>\n",
       "    <tr>\n",
       "      <th>05-06-11</th>\n",
       "      <td>1576</td>\n",
       "      <td>3933</td>\n",
       "      <td>3909</td>\n",
       "      <td>4979</td>\n",
       "      <td>2685</td>\n",
       "    </tr>\n",
       "    <tr>\n",
       "      <th>05-07-11</th>\n",
       "      <td>95</td>\n",
       "      <td>229</td>\n",
       "      <td>255</td>\n",
       "      <td>496</td>\n",
       "      <td>201</td>\n",
       "    </tr>\n",
       "    <tr>\n",
       "      <th>05-08-11</th>\n",
       "      <td>2</td>\n",
       "      <td>0</td>\n",
       "      <td>1</td>\n",
       "      <td>27</td>\n",
       "      <td>0</td>\n",
       "    </tr>\n",
       "    <tr>\n",
       "      <th>05-09-11</th>\n",
       "      <td>1438</td>\n",
       "      <td>3785</td>\n",
       "      <td>3589</td>\n",
       "      <td>4174</td>\n",
       "      <td>2215</td>\n",
       "    </tr>\n",
       "    <tr>\n",
       "      <th>05-10-11</th>\n",
       "      <td>1342</td>\n",
       "      <td>4043</td>\n",
       "      <td>4009</td>\n",
       "      <td>4665</td>\n",
       "      <td>3033</td>\n",
       "    </tr>\n",
       "  </tbody>\n",
       "</table>\n",
       "</div>"
      ],
      "text/plain": [
       "          R003  R004  R005  R006  R007\n",
       "05-01-11     0     0     2     5     0\n",
       "05-02-11  1478  3877  3674  2328  2539\n",
       "05-03-11  1613  4088  3991  6461  2691\n",
       "05-04-11  1560  3392  3826  4787  2613\n",
       "05-05-11  1608  4802  3932  4477  2705\n",
       "05-06-11  1576  3933  3909  4979  2685\n",
       "05-07-11    95   229   255   496   201\n",
       "05-08-11     2     0     1    27     0\n",
       "05-09-11  1438  3785  3589  4174  2215\n",
       "05-10-11  1342  4043  4009  4665  3033"
      ]
     },
     "metadata": {},
     "execution_count": 15
    }
   ],
   "metadata": {}
  },
  {
   "cell_type": "code",
   "execution_count": 16,
   "source": [
    "# Accessing elements\r\n",
    "\r\n",
    "# Rememeber - \r\n",
    "# index is the key to access an element,\r\n",
    "# and position is the number where the element is located\r\n",
    "\r\n",
    "print(ridership_df.iloc[0]) # gets the 0th row (position)"
   ],
   "outputs": [
    {
     "output_type": "stream",
     "name": "stdout",
     "text": [
      "R003    0\n",
      "R004    0\n",
      "R005    2\n",
      "R006    5\n",
      "R007    0\n",
      "Name: 05-01-11, dtype: int64\n"
     ]
    }
   ],
   "metadata": {}
  },
  {
   "cell_type": "code",
   "execution_count": 17,
   "source": [
    "print(ridership_df.loc['05-05-11']) # gets the row with the given row name (index)"
   ],
   "outputs": [
    {
     "output_type": "stream",
     "name": "stdout",
     "text": [
      "R003    1608\n",
      "R004    4802\n",
      "R005    3932\n",
      "R006    4477\n",
      "R007    2705\n",
      "Name: 05-05-11, dtype: int64\n"
     ]
    }
   ],
   "metadata": {}
  },
  {
   "cell_type": "code",
   "execution_count": 18,
   "source": [
    "ridership_df['R003'] # gets the column with the column name"
   ],
   "outputs": [
    {
     "output_type": "execute_result",
     "data": {
      "text/plain": [
       "05-01-11       0\n",
       "05-02-11    1478\n",
       "05-03-11    1613\n",
       "05-04-11    1560\n",
       "05-05-11    1608\n",
       "05-06-11    1576\n",
       "05-07-11      95\n",
       "05-08-11       2\n",
       "05-09-11    1438\n",
       "05-10-11    1342\n",
       "Name: R003, dtype: int64"
      ]
     },
     "metadata": {},
     "execution_count": 18
    }
   ],
   "metadata": {}
  },
  {
   "cell_type": "code",
   "execution_count": 19,
   "source": [
    "ridership_df.iloc[1, 3] # gets the element at row 1 and column 3 (position)"
   ],
   "outputs": [
    {
     "output_type": "execute_result",
     "data": {
      "text/plain": [
       "2328"
      ]
     },
     "metadata": {},
     "execution_count": 19
    }
   ],
   "metadata": {}
  },
  {
   "cell_type": "markdown",
   "source": [
    "Therefore, remember this:\r\n",
    "- Both `loc` and `iloc` are used to access elements in a Pandas DataFrame\r\n",
    "- `loc` takes the _index_ parameter, which the key or the row name\r\n",
    "- `iloc` takes the _position_ parameter, which is the the integer or slice in the array."
   ],
   "metadata": {}
  },
  {
   "cell_type": "code",
   "execution_count": 20,
   "source": [
    "# Accessing multiple rows\r\n",
    "ridership_df.iloc[1:4] # gets rows 1, 2, and 3"
   ],
   "outputs": [
    {
     "output_type": "execute_result",
     "data": {
      "text/html": [
       "<div>\n",
       "<style scoped>\n",
       "    .dataframe tbody tr th:only-of-type {\n",
       "        vertical-align: middle;\n",
       "    }\n",
       "\n",
       "    .dataframe tbody tr th {\n",
       "        vertical-align: top;\n",
       "    }\n",
       "\n",
       "    .dataframe thead th {\n",
       "        text-align: right;\n",
       "    }\n",
       "</style>\n",
       "<table border=\"1\" class=\"dataframe\">\n",
       "  <thead>\n",
       "    <tr style=\"text-align: right;\">\n",
       "      <th></th>\n",
       "      <th>R003</th>\n",
       "      <th>R004</th>\n",
       "      <th>R005</th>\n",
       "      <th>R006</th>\n",
       "      <th>R007</th>\n",
       "    </tr>\n",
       "  </thead>\n",
       "  <tbody>\n",
       "    <tr>\n",
       "      <th>05-02-11</th>\n",
       "      <td>1478</td>\n",
       "      <td>3877</td>\n",
       "      <td>3674</td>\n",
       "      <td>2328</td>\n",
       "      <td>2539</td>\n",
       "    </tr>\n",
       "    <tr>\n",
       "      <th>05-03-11</th>\n",
       "      <td>1613</td>\n",
       "      <td>4088</td>\n",
       "      <td>3991</td>\n",
       "      <td>6461</td>\n",
       "      <td>2691</td>\n",
       "    </tr>\n",
       "    <tr>\n",
       "      <th>05-04-11</th>\n",
       "      <td>1560</td>\n",
       "      <td>3392</td>\n",
       "      <td>3826</td>\n",
       "      <td>4787</td>\n",
       "      <td>2613</td>\n",
       "    </tr>\n",
       "  </tbody>\n",
       "</table>\n",
       "</div>"
      ],
      "text/plain": [
       "          R003  R004  R005  R006  R007\n",
       "05-02-11  1478  3877  3674  2328  2539\n",
       "05-03-11  1613  4088  3991  6461  2691\n",
       "05-04-11  1560  3392  3826  4787  2613"
      ]
     },
     "metadata": {},
     "execution_count": 20
    }
   ],
   "metadata": {}
  },
  {
   "cell_type": "code",
   "execution_count": 21,
   "source": [
    "# Accessing multiple columns\r\n",
    "ridership_df[['R003', 'R005']]"
   ],
   "outputs": [
    {
     "output_type": "execute_result",
     "data": {
      "text/html": [
       "<div>\n",
       "<style scoped>\n",
       "    .dataframe tbody tr th:only-of-type {\n",
       "        vertical-align: middle;\n",
       "    }\n",
       "\n",
       "    .dataframe tbody tr th {\n",
       "        vertical-align: top;\n",
       "    }\n",
       "\n",
       "    .dataframe thead th {\n",
       "        text-align: right;\n",
       "    }\n",
       "</style>\n",
       "<table border=\"1\" class=\"dataframe\">\n",
       "  <thead>\n",
       "    <tr style=\"text-align: right;\">\n",
       "      <th></th>\n",
       "      <th>R003</th>\n",
       "      <th>R005</th>\n",
       "    </tr>\n",
       "  </thead>\n",
       "  <tbody>\n",
       "    <tr>\n",
       "      <th>05-01-11</th>\n",
       "      <td>0</td>\n",
       "      <td>2</td>\n",
       "    </tr>\n",
       "    <tr>\n",
       "      <th>05-02-11</th>\n",
       "      <td>1478</td>\n",
       "      <td>3674</td>\n",
       "    </tr>\n",
       "    <tr>\n",
       "      <th>05-03-11</th>\n",
       "      <td>1613</td>\n",
       "      <td>3991</td>\n",
       "    </tr>\n",
       "    <tr>\n",
       "      <th>05-04-11</th>\n",
       "      <td>1560</td>\n",
       "      <td>3826</td>\n",
       "    </tr>\n",
       "    <tr>\n",
       "      <th>05-05-11</th>\n",
       "      <td>1608</td>\n",
       "      <td>3932</td>\n",
       "    </tr>\n",
       "    <tr>\n",
       "      <th>05-06-11</th>\n",
       "      <td>1576</td>\n",
       "      <td>3909</td>\n",
       "    </tr>\n",
       "    <tr>\n",
       "      <th>05-07-11</th>\n",
       "      <td>95</td>\n",
       "      <td>255</td>\n",
       "    </tr>\n",
       "    <tr>\n",
       "      <th>05-08-11</th>\n",
       "      <td>2</td>\n",
       "      <td>1</td>\n",
       "    </tr>\n",
       "    <tr>\n",
       "      <th>05-09-11</th>\n",
       "      <td>1438</td>\n",
       "      <td>3589</td>\n",
       "    </tr>\n",
       "    <tr>\n",
       "      <th>05-10-11</th>\n",
       "      <td>1342</td>\n",
       "      <td>4009</td>\n",
       "    </tr>\n",
       "  </tbody>\n",
       "</table>\n",
       "</div>"
      ],
      "text/plain": [
       "          R003  R005\n",
       "05-01-11     0     2\n",
       "05-02-11  1478  3674\n",
       "05-03-11  1613  3991\n",
       "05-04-11  1560  3826\n",
       "05-05-11  1608  3932\n",
       "05-06-11  1576  3909\n",
       "05-07-11    95   255\n",
       "05-08-11     2     1\n",
       "05-09-11  1438  3589\n",
       "05-10-11  1342  4009"
      ]
     },
     "metadata": {},
     "execution_count": 21
    }
   ],
   "metadata": {}
  },
  {
   "cell_type": "markdown",
   "source": [
    "## Pandas Axes"
   ],
   "metadata": {}
  },
  {
   "cell_type": "code",
   "execution_count": 22,
   "source": [
    "df = pd.DataFrame(df_1)\r\n",
    "df"
   ],
   "outputs": [
    {
     "output_type": "execute_result",
     "data": {
      "text/html": [
       "<div>\n",
       "<style scoped>\n",
       "    .dataframe tbody tr th:only-of-type {\n",
       "        vertical-align: middle;\n",
       "    }\n",
       "\n",
       "    .dataframe tbody tr th {\n",
       "        vertical-align: top;\n",
       "    }\n",
       "\n",
       "    .dataframe thead th {\n",
       "        text-align: right;\n",
       "    }\n",
       "</style>\n",
       "<table border=\"1\" class=\"dataframe\">\n",
       "  <thead>\n",
       "    <tr style=\"text-align: right;\">\n",
       "      <th></th>\n",
       "      <th>A</th>\n",
       "      <th>B</th>\n",
       "    </tr>\n",
       "  </thead>\n",
       "  <tbody>\n",
       "    <tr>\n",
       "      <th>0</th>\n",
       "      <td>0</td>\n",
       "      <td>3</td>\n",
       "    </tr>\n",
       "    <tr>\n",
       "      <th>1</th>\n",
       "      <td>1</td>\n",
       "      <td>4</td>\n",
       "    </tr>\n",
       "    <tr>\n",
       "      <th>2</th>\n",
       "      <td>2</td>\n",
       "      <td>5</td>\n",
       "    </tr>\n",
       "  </tbody>\n",
       "</table>\n",
       "</div>"
      ],
      "text/plain": [
       "   A  B\n",
       "0  0  3\n",
       "1  1  4\n",
       "2  2  5"
      ]
     },
     "metadata": {},
     "execution_count": 22
    }
   ],
   "metadata": {}
  },
  {
   "cell_type": "code",
   "execution_count": 23,
   "source": [
    "df.sum()  # prints the sum per column (axis = 0 by default)"
   ],
   "outputs": [
    {
     "output_type": "execute_result",
     "data": {
      "text/plain": [
       "A     3\n",
       "B    12\n",
       "dtype: int64"
      ]
     },
     "metadata": {},
     "execution_count": 23
    }
   ],
   "metadata": {}
  },
  {
   "cell_type": "code",
   "execution_count": 24,
   "source": [
    "df.sum(axis=1)  # prints the sum per row"
   ],
   "outputs": [
    {
     "output_type": "execute_result",
     "data": {
      "text/plain": [
       "0    3\n",
       "1    5\n",
       "2    7\n",
       "dtype: int64"
      ]
     },
     "metadata": {},
     "execution_count": 24
    }
   ],
   "metadata": {}
  },
  {
   "cell_type": "code",
   "execution_count": 25,
   "source": [
    "df.values  # prints the dataframe as a 2D array, used for summing the all the numbers (as shown below)"
   ],
   "outputs": [
    {
     "output_type": "execute_result",
     "data": {
      "text/plain": [
       "array([[0, 3],\n",
       "       [1, 4],\n",
       "       [2, 5]], dtype=int64)"
      ]
     },
     "metadata": {},
     "execution_count": 25
    }
   ],
   "metadata": {}
  },
  {
   "cell_type": "code",
   "execution_count": 26,
   "source": [
    "df.values.sum()"
   ],
   "outputs": [
    {
     "output_type": "execute_result",
     "data": {
      "text/plain": [
       "15"
      ]
     },
     "metadata": {},
     "execution_count": 26
    }
   ],
   "metadata": {}
  },
  {
   "cell_type": "code",
   "execution_count": 27,
   "source": [
    "ridership_df"
   ],
   "outputs": [
    {
     "output_type": "execute_result",
     "data": {
      "text/html": [
       "<div>\n",
       "<style scoped>\n",
       "    .dataframe tbody tr th:only-of-type {\n",
       "        vertical-align: middle;\n",
       "    }\n",
       "\n",
       "    .dataframe tbody tr th {\n",
       "        vertical-align: top;\n",
       "    }\n",
       "\n",
       "    .dataframe thead th {\n",
       "        text-align: right;\n",
       "    }\n",
       "</style>\n",
       "<table border=\"1\" class=\"dataframe\">\n",
       "  <thead>\n",
       "    <tr style=\"text-align: right;\">\n",
       "      <th></th>\n",
       "      <th>R003</th>\n",
       "      <th>R004</th>\n",
       "      <th>R005</th>\n",
       "      <th>R006</th>\n",
       "      <th>R007</th>\n",
       "    </tr>\n",
       "  </thead>\n",
       "  <tbody>\n",
       "    <tr>\n",
       "      <th>05-01-11</th>\n",
       "      <td>0</td>\n",
       "      <td>0</td>\n",
       "      <td>2</td>\n",
       "      <td>5</td>\n",
       "      <td>0</td>\n",
       "    </tr>\n",
       "    <tr>\n",
       "      <th>05-02-11</th>\n",
       "      <td>1478</td>\n",
       "      <td>3877</td>\n",
       "      <td>3674</td>\n",
       "      <td>2328</td>\n",
       "      <td>2539</td>\n",
       "    </tr>\n",
       "    <tr>\n",
       "      <th>05-03-11</th>\n",
       "      <td>1613</td>\n",
       "      <td>4088</td>\n",
       "      <td>3991</td>\n",
       "      <td>6461</td>\n",
       "      <td>2691</td>\n",
       "    </tr>\n",
       "    <tr>\n",
       "      <th>05-04-11</th>\n",
       "      <td>1560</td>\n",
       "      <td>3392</td>\n",
       "      <td>3826</td>\n",
       "      <td>4787</td>\n",
       "      <td>2613</td>\n",
       "    </tr>\n",
       "    <tr>\n",
       "      <th>05-05-11</th>\n",
       "      <td>1608</td>\n",
       "      <td>4802</td>\n",
       "      <td>3932</td>\n",
       "      <td>4477</td>\n",
       "      <td>2705</td>\n",
       "    </tr>\n",
       "    <tr>\n",
       "      <th>05-06-11</th>\n",
       "      <td>1576</td>\n",
       "      <td>3933</td>\n",
       "      <td>3909</td>\n",
       "      <td>4979</td>\n",
       "      <td>2685</td>\n",
       "    </tr>\n",
       "    <tr>\n",
       "      <th>05-07-11</th>\n",
       "      <td>95</td>\n",
       "      <td>229</td>\n",
       "      <td>255</td>\n",
       "      <td>496</td>\n",
       "      <td>201</td>\n",
       "    </tr>\n",
       "    <tr>\n",
       "      <th>05-08-11</th>\n",
       "      <td>2</td>\n",
       "      <td>0</td>\n",
       "      <td>1</td>\n",
       "      <td>27</td>\n",
       "      <td>0</td>\n",
       "    </tr>\n",
       "    <tr>\n",
       "      <th>05-09-11</th>\n",
       "      <td>1438</td>\n",
       "      <td>3785</td>\n",
       "      <td>3589</td>\n",
       "      <td>4174</td>\n",
       "      <td>2215</td>\n",
       "    </tr>\n",
       "    <tr>\n",
       "      <th>05-10-11</th>\n",
       "      <td>1342</td>\n",
       "      <td>4043</td>\n",
       "      <td>4009</td>\n",
       "      <td>4665</td>\n",
       "      <td>3033</td>\n",
       "    </tr>\n",
       "  </tbody>\n",
       "</table>\n",
       "</div>"
      ],
      "text/plain": [
       "          R003  R004  R005  R006  R007\n",
       "05-01-11     0     0     2     5     0\n",
       "05-02-11  1478  3877  3674  2328  2539\n",
       "05-03-11  1613  4088  3991  6461  2691\n",
       "05-04-11  1560  3392  3826  4787  2613\n",
       "05-05-11  1608  4802  3932  4477  2705\n",
       "05-06-11  1576  3933  3909  4979  2685\n",
       "05-07-11    95   229   255   496   201\n",
       "05-08-11     2     0     1    27     0\n",
       "05-09-11  1438  3785  3589  4174  2215\n",
       "05-10-11  1342  4043  4009  4665  3033"
      ]
     },
     "metadata": {},
     "execution_count": 27
    }
   ],
   "metadata": {}
  },
  {
   "cell_type": "code",
   "execution_count": 28,
   "source": [
    "def mean_riders_for_max_station_pd(ridership):\r\n",
    "    '''\r\n",
    "    Fill in this function to find the station with the maximum riders on the\r\n",
    "    first day, then return the mean riders per day for that station. Also\r\n",
    "    return the mean ridership overall for comparsion.\r\n",
    "    \r\n",
    "    This is the same as a previous exercise, but this time the\r\n",
    "    input is a Pandas DataFrame rather than a 2D NumPy array.\r\n",
    "    '''\r\n",
    "    max_first_day = ridership.iloc[0].idxmax()\r\n",
    "\r\n",
    "    overall_mean = ridership.values.mean() # Replace this with your code - DONE\r\n",
    "    mean_for_max = ridership[max_first_day].mean() # Replace this with your code - DONE\r\n",
    "    \r\n",
    "    return (overall_mean, mean_for_max)"
   ],
   "outputs": [],
   "metadata": {}
  },
  {
   "cell_type": "code",
   "execution_count": 29,
   "source": [
    "mean_riders_for_max_station_pd(ridership_df)"
   ],
   "outputs": [
    {
     "output_type": "execute_result",
     "data": {
      "text/plain": [
       "(2342.6, 3239.9)"
      ]
     },
     "metadata": {},
     "execution_count": 29
    }
   ],
   "metadata": {}
  },
  {
   "cell_type": "markdown",
   "source": [
    "## CSVs with Pandas DataFrames\r\n",
    "\r\n",
    "Pandas DataFrames are particularly suitable for CSV files. DataFrames are 2D stuctures, just as CSV sheets, and they can have different column names for each column, also like CSVs."
   ],
   "metadata": {}
  },
  {
   "cell_type": "code",
   "execution_count": 30,
   "source": [
    "subway_df = pd.read_csv('./nyc_subway_weather.csv')"
   ],
   "outputs": [],
   "metadata": {}
  },
  {
   "cell_type": "code",
   "execution_count": 31,
   "source": [
    "def correlation(x, y):\r\n",
    "    '''\r\n",
    "    Fill in this function to compute the correlation between the two\r\n",
    "    input variables. Each input is either a NumPy array or a Pandas\r\n",
    "    Series.\r\n",
    "    \r\n",
    "    correlation = average of (x in standard units) times (y in standard units)\r\n",
    "    \r\n",
    "    Remember to pass the argument \"ddof=0\" to the Pandas std() function!\r\n",
    "    '''\r\n",
    "    n = len(x)\r\n",
    "    xbar = x.mean()\r\n",
    "    ybar = y.mean()\r\n",
    "    # sop = sum([(xi-xbar)*(yi-ybar) for (xi, yi) in zip(x,y)])  # sum of products\r\n",
    "    sop  = ((x-xbar)*(y-ybar)).sum()  # NOTE: I did not have to use the above commented way for SOP as Pandas does vector operations\r\n",
    "    cov = sop / n  # covariance; formula for covariance described here: https://corporatefinanceinstitute.com/resources/knowledge/finance/covariance/\r\n",
    "    x_std = x.std(ddof=0)\r\n",
    "    y_std = y.std(ddof=0)\r\n",
    "    return cov / (x_std*y_std)"
   ],
   "outputs": [],
   "metadata": {}
  },
  {
   "cell_type": "code",
   "execution_count": 32,
   "source": [
    "entries = subway_df['ENTRIESn_hourly']\r\n",
    "cum_entries = subway_df['ENTRIESn']\r\n",
    "rain = subway_df['meanprecipi']\r\n",
    "temp = subway_df['meantempi']\r\n",
    "entries.std(ddof=0)\r\n",
    "\r\n",
    "print (correlation(entries, rain))\r\n"
   ],
   "outputs": [
    {
     "output_type": "stream",
     "name": "stdout",
     "text": [
      "0.03564851577224406\n"
     ]
    }
   ],
   "metadata": {}
  },
  {
   "cell_type": "code",
   "execution_count": 33,
   "source": [
    "print (correlation(entries, temp))\r\n",
    "print (correlation(rain, temp))\r\n",
    "\r\n",
    "print (correlation(entries, cum_entries))"
   ],
   "outputs": [
    {
     "output_type": "stream",
     "name": "stdout",
     "text": [
      "-0.026693348321570783\n",
      "-0.22903432340843471\n",
      "0.5858954707662075\n"
     ]
    }
   ],
   "metadata": {}
  },
  {
   "cell_type": "markdown",
   "source": [
    "## Pandas Axis Names\r\n",
    "\r\n",
    "- `axis=0` is equivalent to `axis=index` for column operations\r\n",
    "- `axis=1` is equivalent to `axis-columns` for row operations\r\n",
    "\r\n",
    "Yep, it is confusing."
   ],
   "metadata": {}
  },
  {
   "cell_type": "markdown",
   "source": [
    "## DataFrames Vectorized Operations"
   ],
   "metadata": {}
  },
  {
   "cell_type": "code",
   "execution_count": 34,
   "source": [
    "import pandas as pd\r\n",
    "\r\n",
    "# Examples of vectorized operations on DataFrames:\r\n",
    "# Change False to True for each block of code to see what it does\r\n",
    "\r\n",
    "# Adding DataFrames with the column names\r\n",
    "if True:\r\n",
    "    df1 = pd.DataFrame({'a': [1, 2, 3], 'b': [4, 5, 6], 'c': [7, 8, 9]})\r\n",
    "    df2 = pd.DataFrame({'a': [10, 20, 30], 'b': [40, 50, 60], 'c': [70, 80, 90]})\r\n",
    "    print (df1 + df2)\r\n",
    "    \r\n",
    "# Adding DataFrames with overlapping column names \r\n",
    "if True:\r\n",
    "    df1 = pd.DataFrame({'a': [1, 2, 3], 'b': [4, 5, 6], 'c': [7, 8, 9]})\r\n",
    "    df2 = pd.DataFrame({'d': [10, 20, 30], 'c': [40, 50, 60], 'b': [70, 80, 90]})\r\n",
    "    print (df1 + df2)\r\n",
    "\r\n",
    "# Adding DataFrames with overlapping row indexes\r\n",
    "if True:\r\n",
    "    df1 = pd.DataFrame({'a': [1, 2, 3], 'b': [4, 5, 6], 'c': [7, 8, 9]},\r\n",
    "                       index=['row1', 'row2', 'row3'])\r\n",
    "    df2 = pd.DataFrame({'a': [10, 20, 30], 'b': [40, 50, 60], 'c': [70, 80, 90]},\r\n",
    "                       index=['row4', 'row3', 'row2'])\r\n",
    "    print (df1 + df2)\r\n",
    "\r\n",
    "    \"\"\"\r\n",
    "    Guess (turned out to be correct!):\r\n",
    "            a   b   c               a   b   c               a   b   c\r\n",
    "    row1    1   4   7       row4    10  40  70      row1    NaN NaN NaN     # since [a, b, c] + NaN = NaN\r\n",
    "    row2    2   5   8   +   row3    20  50  80  =   row2    32  65  98      # both columns of row2 got added\r\n",
    "    row3    3   6   9       row2    30  60  90      row3    23  56  89      # both columns of row3 got added\r\n",
    "                                                    row4    NaN NaN NaN     # since NaN + [a, b, c] = NaN\r\n",
    "    \"\"\""
   ],
   "outputs": [
    {
     "output_type": "stream",
     "name": "stdout",
     "text": [
      "    a   b   c\n",
      "0  11  44  77\n",
      "1  22  55  88\n",
      "2  33  66  99\n",
      "    a   b   c   d\n",
      "0 NaN  74  47 NaN\n",
      "1 NaN  85  58 NaN\n",
      "2 NaN  96  69 NaN\n",
      "         a     b     c\n",
      "row1   NaN   NaN   NaN\n",
      "row2  32.0  65.0  98.0\n",
      "row3  23.0  56.0  89.0\n",
      "row4   NaN   NaN   NaN\n"
     ]
    }
   ],
   "metadata": {}
  },
  {
   "cell_type": "code",
   "execution_count": 35,
   "source": [
    "# --- Quiz ---\r\n",
    "# Cumulative entries and exits for one station for a few hours.\r\n",
    "entries_and_exits = pd.DataFrame({\r\n",
    "    'ENTRIESn': [3144312, 3144335, 3144353, 3144424, 3144594,\r\n",
    "                 3144808, 3144895, 3144905, 3144941, 3145094],\r\n",
    "    'EXITSn': [1088151, 1088159, 1088177, 1088231, 1088275,\r\n",
    "               1088317, 1088328, 1088331, 1088420, 1088753]\r\n",
    "})\r\n",
    "\r\n",
    "def get_hourly_entries_and_exits(entries_and_exits):\r\n",
    "    '''\r\n",
    "    Fill in this function to take a DataFrame with cumulative entries\r\n",
    "    and exits (entries in the first column, exits in the second) and\r\n",
    "    return a DataFrame with hourly entries and exits (entries in the\r\n",
    "    first column, exits in the second).\r\n",
    "    '''\r\n",
    "    \r\n",
    "    return entries_and_exits - entries_and_exits.shift(1, fill_value=0)"
   ],
   "outputs": [],
   "metadata": {}
  },
  {
   "cell_type": "markdown",
   "source": [
    "## Pandas apply methods"
   ],
   "metadata": {}
  },
  {
   "cell_type": "markdown",
   "source": [
    "### First method - `applymap`\r\n",
    "\r\n",
    "Passing your df in this method makes the helper method operate on every _element_ of the df."
   ],
   "metadata": {}
  },
  {
   "cell_type": "code",
   "execution_count": 36,
   "source": [
    "# Change False to True for this block of code to see what it does\r\n",
    "\r\n",
    "# DataFrame applymap()\r\n",
    "if True:\r\n",
    "    df = pd.DataFrame({\r\n",
    "        'a': [1, 2, 3],\r\n",
    "        'b': [10, 20, 30],\r\n",
    "        'c': [5, 10, 15]\r\n",
    "    })\r\n",
    "    \r\n",
    "    def add_one(x):\r\n",
    "        return x + 1\r\n",
    "        \r\n",
    "    print (df.applymap(add_one))\r\n"
   ],
   "outputs": [
    {
     "output_type": "stream",
     "name": "stdout",
     "text": [
      "   a   b   c\n",
      "0  2  11   6\n",
      "1  3  21  11\n",
      "2  4  31  16\n"
     ]
    }
   ],
   "metadata": {}
  },
  {
   "cell_type": "code",
   "execution_count": 37,
   "source": [
    "grades_df = pd.DataFrame(\r\n",
    "    data={'exam1': [43, 81, 78, 75, 89, 70, 91, 65, 98, 87],\r\n",
    "          'exam2': [24, 63, 56, 56, 67, 51, 79, 46, 72, 60]},\r\n",
    "    index=['Andre', 'Barry', 'Chris', 'Dan', 'Emilio', \r\n",
    "           'Fred', 'Greta', 'Humbert', 'Ivan', 'James']\r\n",
    ")\r\n",
    "\r\n",
    "def convert_grade(grade):\r\n",
    "    if grade in range(90, 101):\r\n",
    "        return 'A'\r\n",
    "    if grade in range(80, 90):\r\n",
    "        return 'B'\r\n",
    "    if grade in range(70, 80):\r\n",
    "        return 'C'\r\n",
    "    if grade in range(60, 70):\r\n",
    "        return 'D'\r\n",
    "    if grade in range(60):\r\n",
    "        return 'F'\r\n",
    "    \r\n",
    "def convert_grades(grades):\r\n",
    "    '''\r\n",
    "    Fill in this function to convert the given DataFrame of numerical\r\n",
    "    grades to letter grades. Return a new DataFrame with the converted\r\n",
    "    grade.\r\n",
    "    \r\n",
    "    The conversion rule is:\r\n",
    "        90-100 -> A\r\n",
    "        80-89  -> B\r\n",
    "        70-79  -> C\r\n",
    "        60-69  -> D\r\n",
    "        0-59   -> F\r\n",
    "    '''\r\n",
    "    return grades.applymap(convert_grade)\r\n",
    "\r\n",
    "convert_grades(grades_df)\r\n"
   ],
   "outputs": [
    {
     "output_type": "execute_result",
     "data": {
      "text/html": [
       "<div>\n",
       "<style scoped>\n",
       "    .dataframe tbody tr th:only-of-type {\n",
       "        vertical-align: middle;\n",
       "    }\n",
       "\n",
       "    .dataframe tbody tr th {\n",
       "        vertical-align: top;\n",
       "    }\n",
       "\n",
       "    .dataframe thead th {\n",
       "        text-align: right;\n",
       "    }\n",
       "</style>\n",
       "<table border=\"1\" class=\"dataframe\">\n",
       "  <thead>\n",
       "    <tr style=\"text-align: right;\">\n",
       "      <th></th>\n",
       "      <th>exam1</th>\n",
       "      <th>exam2</th>\n",
       "    </tr>\n",
       "  </thead>\n",
       "  <tbody>\n",
       "    <tr>\n",
       "      <th>Andre</th>\n",
       "      <td>F</td>\n",
       "      <td>F</td>\n",
       "    </tr>\n",
       "    <tr>\n",
       "      <th>Barry</th>\n",
       "      <td>B</td>\n",
       "      <td>D</td>\n",
       "    </tr>\n",
       "    <tr>\n",
       "      <th>Chris</th>\n",
       "      <td>C</td>\n",
       "      <td>F</td>\n",
       "    </tr>\n",
       "    <tr>\n",
       "      <th>Dan</th>\n",
       "      <td>C</td>\n",
       "      <td>F</td>\n",
       "    </tr>\n",
       "    <tr>\n",
       "      <th>Emilio</th>\n",
       "      <td>B</td>\n",
       "      <td>D</td>\n",
       "    </tr>\n",
       "    <tr>\n",
       "      <th>Fred</th>\n",
       "      <td>C</td>\n",
       "      <td>F</td>\n",
       "    </tr>\n",
       "    <tr>\n",
       "      <th>Greta</th>\n",
       "      <td>A</td>\n",
       "      <td>C</td>\n",
       "    </tr>\n",
       "    <tr>\n",
       "      <th>Humbert</th>\n",
       "      <td>D</td>\n",
       "      <td>F</td>\n",
       "    </tr>\n",
       "    <tr>\n",
       "      <th>Ivan</th>\n",
       "      <td>A</td>\n",
       "      <td>C</td>\n",
       "    </tr>\n",
       "    <tr>\n",
       "      <th>James</th>\n",
       "      <td>B</td>\n",
       "      <td>D</td>\n",
       "    </tr>\n",
       "  </tbody>\n",
       "</table>\n",
       "</div>"
      ],
      "text/plain": [
       "        exam1 exam2\n",
       "Andre       F     F\n",
       "Barry       B     D\n",
       "Chris       C     F\n",
       "Dan         C     F\n",
       "Emilio      B     D\n",
       "Fred        C     F\n",
       "Greta       A     C\n",
       "Humbert     D     F\n",
       "Ivan        A     C\n",
       "James       B     D"
      ]
     },
     "metadata": {},
     "execution_count": 37
    }
   ],
   "metadata": {}
  },
  {
   "cell_type": "markdown",
   "source": [
    "### Second method - `apply`\r\n",
    "Passing your df in this method will make the helper method operate on every _column_ (or _row_) of the df."
   ],
   "metadata": {}
  },
  {
   "cell_type": "code",
   "execution_count": 38,
   "source": [
    "import pandas as pd\r\n",
    "\r\n",
    "grades_df = pd.DataFrame(\r\n",
    "    data={'exam1': [43, 81, 78, 75, 89, 70, 91, 65, 98, 87],\r\n",
    "          'exam2': [24, 63, 56, 56, 67, 51, 79, 46, 72, 60]},\r\n",
    "    index=['Andre', 'Barry', 'Chris', 'Dan', 'Emilio', \r\n",
    "           'Fred', 'Greta', 'Humbert', 'Ivan', 'James']\r\n",
    ")\r\n",
    "\r\n",
    "# DataFrame apply()\r\n",
    "def convert_grades_curve(exam_grades):\r\n",
    "    # Pandas has a bult-in function that will perform this calculation\r\n",
    "    # This will give the bottom 0% to 10% of students the grade 'F',\r\n",
    "    # 10% to 20% the grade 'D', and so on. You can read more about\r\n",
    "    # the qcut() function here:\r\n",
    "    # http://pandas.pydata.org/pandas-docs/stable/generated/pandas.qcut.html\r\n",
    "    return pd.qcut(exam_grades,\r\n",
    "                    [0, 0.1, 0.2, 0.5, 0.8, 1],\r\n",
    "                    labels=['F', 'D', 'C', 'B', 'A'])\r\n",
    "    \r\n",
    "# qcut() operates on a list, array, or Series. This is the\r\n",
    "# result of running the function on a single column of the\r\n",
    "# DataFrame.\r\n",
    "print (convert_grades_curve(grades_df['exam1']))\r\n",
    "\r\n",
    "# qcut() does not work on DataFrames, but we can use apply()\r\n",
    "# to call the function on each column separately\r\n",
    "print (grades_df.apply(convert_grades_curve))"
   ],
   "outputs": [
    {
     "output_type": "stream",
     "name": "stdout",
     "text": [
      "Andre      F\n",
      "Barry      B\n",
      "Chris      C\n",
      "Dan        C\n",
      "Emilio     B\n",
      "Fred       C\n",
      "Greta      A\n",
      "Humbert    D\n",
      "Ivan       A\n",
      "James      B\n",
      "Name: exam1, dtype: category\n",
      "Categories (5, object): ['F' < 'D' < 'C' < 'B' < 'A']\n",
      "        exam1 exam2\n",
      "Andre       F     F\n",
      "Barry       B     B\n",
      "Chris       C     C\n",
      "Dan         C     C\n",
      "Emilio      B     B\n",
      "Fred        C     C\n",
      "Greta       A     A\n",
      "Humbert     D     D\n",
      "Ivan        A     A\n",
      "James       B     B\n"
     ]
    }
   ],
   "metadata": {}
  },
  {
   "cell_type": "code",
   "execution_count": 39,
   "source": [
    "def standardize_exam(exam):\r\n",
    "    std = exam.std(ddof=0)\r\n",
    "    exam_bar = exam.mean()\r\n",
    "    return (exam - exam_bar) / std\r\n",
    "\r\n",
    "def standardize(df):\r\n",
    "    '''\r\n",
    "    Fill in this function to standardize each column of the given\r\n",
    "    DataFrame. To standardize a variable, convert each value to the\r\n",
    "    number of standard deviations it is above or below the mean.\r\n",
    "    '''\r\n",
    "    return df.apply(standardize_exam)"
   ],
   "outputs": [],
   "metadata": {}
  },
  {
   "cell_type": "code",
   "execution_count": 40,
   "source": [
    "standardize(grades_df)"
   ],
   "outputs": [
    {
     "output_type": "execute_result",
     "data": {
      "text/html": [
       "<div>\n",
       "<style scoped>\n",
       "    .dataframe tbody tr th:only-of-type {\n",
       "        vertical-align: middle;\n",
       "    }\n",
       "\n",
       "    .dataframe tbody tr th {\n",
       "        vertical-align: top;\n",
       "    }\n",
       "\n",
       "    .dataframe thead th {\n",
       "        text-align: right;\n",
       "    }\n",
       "</style>\n",
       "<table border=\"1\" class=\"dataframe\">\n",
       "  <thead>\n",
       "    <tr style=\"text-align: right;\">\n",
       "      <th></th>\n",
       "      <th>exam1</th>\n",
       "      <th>exam2</th>\n",
       "    </tr>\n",
       "  </thead>\n",
       "  <tbody>\n",
       "    <tr>\n",
       "      <th>Andre</th>\n",
       "      <td>-2.315341</td>\n",
       "      <td>-2.304599</td>\n",
       "    </tr>\n",
       "    <tr>\n",
       "      <th>Barry</th>\n",
       "      <td>0.220191</td>\n",
       "      <td>0.386400</td>\n",
       "    </tr>\n",
       "    <tr>\n",
       "      <th>Chris</th>\n",
       "      <td>0.020017</td>\n",
       "      <td>-0.096600</td>\n",
       "    </tr>\n",
       "    <tr>\n",
       "      <th>Dan</th>\n",
       "      <td>-0.180156</td>\n",
       "      <td>-0.096600</td>\n",
       "    </tr>\n",
       "    <tr>\n",
       "      <th>Emilio</th>\n",
       "      <td>0.753987</td>\n",
       "      <td>0.662400</td>\n",
       "    </tr>\n",
       "    <tr>\n",
       "      <th>Fred</th>\n",
       "      <td>-0.513779</td>\n",
       "      <td>-0.441600</td>\n",
       "    </tr>\n",
       "    <tr>\n",
       "      <th>Greta</th>\n",
       "      <td>0.887436</td>\n",
       "      <td>1.490400</td>\n",
       "    </tr>\n",
       "    <tr>\n",
       "      <th>Humbert</th>\n",
       "      <td>-0.847401</td>\n",
       "      <td>-0.786600</td>\n",
       "    </tr>\n",
       "    <tr>\n",
       "      <th>Ivan</th>\n",
       "      <td>1.354508</td>\n",
       "      <td>1.007400</td>\n",
       "    </tr>\n",
       "    <tr>\n",
       "      <th>James</th>\n",
       "      <td>0.620538</td>\n",
       "      <td>0.179400</td>\n",
       "    </tr>\n",
       "  </tbody>\n",
       "</table>\n",
       "</div>"
      ],
      "text/plain": [
       "            exam1     exam2\n",
       "Andre   -2.315341 -2.304599\n",
       "Barry    0.220191  0.386400\n",
       "Chris    0.020017 -0.096600\n",
       "Dan     -0.180156 -0.096600\n",
       "Emilio   0.753987  0.662400\n",
       "Fred    -0.513779 -0.441600\n",
       "Greta    0.887436  1.490400\n",
       "Humbert -0.847401 -0.786600\n",
       "Ivan     1.354508  1.007400\n",
       "James    0.620538  0.179400"
      ]
     },
     "metadata": {},
     "execution_count": 40
    }
   ],
   "metadata": {}
  },
  {
   "cell_type": "markdown",
   "source": [
    "### Note\r\n",
    "In order to get the proper computations, we should actually be setting the value of the \"ddof\" parameter to 0 in the .std() function.\r\n",
    "\r\n",
    "Note that the type of standard deviation calculated by default is different between numpy's .std() and pandas' .std() functions.\r\n",
    "\r\n",
    "By default,\r\n",
    " - **numpy** calculates a **population** standard deviation, with \"ddof = 0\".\r\n",
    " - **pandas** calculates a **sample** standard deviation, with \"ddof = 1\".\r\n",
    " \r\n",
    " If we know all of the scores, then we have a population - so to standardize using pandas, we need to set \"ddof = 0\".\r\n",
    "\r\n",
    " (This excerpt is based on from the Udacity course page linked [here](https://classroom.udacity.com/courses/ud170/lessons/5428018709/concepts/54422617900923).)"
   ],
   "metadata": {}
  },
  {
   "cell_type": "code",
   "execution_count": 41,
   "source": [
    "df = pd.DataFrame({\r\n",
    "    'a': [4, 5, 3, 1, 2],\r\n",
    "    'b': [20, 10, 40, 50, 30],\r\n",
    "    'c': [25, 20, 5, 15, 10]\r\n",
    "})\r\n",
    "\r\n",
    "# Change False to True for this block of code to see what it does\r\n",
    "\r\n",
    "# DataFrame apply() - use case 2\r\n",
    "if True:   \r\n",
    "    print (df.apply(np.mean))\r\n",
    "    print (df.apply(np.max))\r\n"
   ],
   "outputs": [
    {
     "output_type": "stream",
     "name": "stdout",
     "text": [
      "a     3.0\n",
      "b    30.0\n",
      "c    15.0\n",
      "dtype: float64\n",
      "a     5\n",
      "b    50\n",
      "c    25\n",
      "dtype: int64\n"
     ]
    }
   ],
   "metadata": {}
  },
  {
   "cell_type": "code",
   "execution_count": 42,
   "source": [
    "def second_largest_in_column(column):\r\n",
    "    return np.sort(column)[-2]\r\n",
    "\r\n",
    "def second_largest(df):\r\n",
    "    '''\r\n",
    "    Fill in this function to return the second-largest value of each \r\n",
    "    column of the input DataFrame.\r\n",
    "    '''\r\n",
    "    return df.apply(second_largest_in_column)"
   ],
   "outputs": [],
   "metadata": {}
  },
  {
   "cell_type": "code",
   "execution_count": 43,
   "source": [
    "second_largest(df)"
   ],
   "outputs": [
    {
     "output_type": "execute_result",
     "data": {
      "text/plain": [
       "a     4\n",
       "b    40\n",
       "c    20\n",
       "dtype: int64"
      ]
     },
     "metadata": {},
     "execution_count": 43
    }
   ],
   "metadata": {}
  },
  {
   "cell_type": "markdown",
   "source": [
    "### Vector Operations: Adding Series to DataFrames"
   ],
   "metadata": {}
  },
  {
   "cell_type": "code",
   "execution_count": 44,
   "source": [
    "# Change False to True for each block of code to see what it does\r\n",
    "\r\n",
    "# Adding a Series to a square DataFrame\r\n",
    "if True:\r\n",
    "    s = pd.Series([1, 2, 3, 4])\r\n",
    "    df = pd.DataFrame({\r\n",
    "        0: [10, 20, 30, 40],\r\n",
    "        1: [50, 60, 70, 80],\r\n",
    "        2: [90, 100, 110, 120],\r\n",
    "        3: [130, 140, 150, 160]\r\n",
    "    })\r\n",
    "    \r\n",
    "    print (df)\r\n",
    "    print ('') # Create a blank line between outputs\r\n",
    "    print (df + s)  # s gets added to each row of df"
   ],
   "outputs": [
    {
     "output_type": "stream",
     "name": "stdout",
     "text": [
      "    0   1    2    3\n",
      "0  10  50   90  130\n",
      "1  20  60  100  140\n",
      "2  30  70  110  150\n",
      "3  40  80  120  160\n",
      "\n",
      "    0   1    2    3\n",
      "0  11  52   93  134\n",
      "1  21  62  103  144\n",
      "2  31  72  113  154\n",
      "3  41  82  123  164\n"
     ]
    }
   ],
   "metadata": {}
  },
  {
   "cell_type": "code",
   "execution_count": 45,
   "source": [
    "   \r\n",
    "# Adding a Series to a one-row DataFrame \r\n",
    "if True:\r\n",
    "    s = pd.Series([1, 2, 3, 4])\r\n",
    "    df = pd.DataFrame({0: [10], 1: [20], 2: [30], 3: [40]})\r\n",
    "    \r\n",
    "    print (df)\r\n",
    "    print ('') # Create a blank line between outputs\r\n",
    "    print (df + s)  # guess: [11, 22, 33, 44] (correct!)\r\n"
   ],
   "outputs": [
    {
     "output_type": "stream",
     "name": "stdout",
     "text": [
      "    0   1   2   3\n",
      "0  10  20  30  40\n",
      "\n",
      "    0   1   2   3\n",
      "0  11  22  33  44\n"
     ]
    }
   ],
   "metadata": {}
  },
  {
   "cell_type": "code",
   "execution_count": 46,
   "source": [
    "# Adding a Series to a one-column DataFrame\r\n",
    "if True:\r\n",
    "    s = pd.Series([1, 2, 3, 4])\r\n",
    "    df = pd.DataFrame({0: [10, 20, 30, 40]})\r\n",
    "    \r\n",
    "    print (df)\r\n",
    "    print ('') # Create a blank line between outputs\r\n",
    "    print (df + s)  # the series will get added to each row of the df, with fill value as NaN in the df\r\n",
    "                    # so the o/p should be: [[11,NaN,NaN,NaN], [21,NaN,NaN,NaN], [31,NaN,NaN,NaN], [41,NaN,NaN,NaN]]"
   ],
   "outputs": [
    {
     "output_type": "stream",
     "name": "stdout",
     "text": [
      "    0\n",
      "0  10\n",
      "1  20\n",
      "2  30\n",
      "3  40\n",
      "\n",
      "    0   1   2   3\n",
      "0  11 NaN NaN NaN\n",
      "1  21 NaN NaN NaN\n",
      "2  31 NaN NaN NaN\n",
      "3  41 NaN NaN NaN\n"
     ]
    }
   ],
   "metadata": {}
  },
  {
   "cell_type": "code",
   "execution_count": 47,
   "source": [
    "# Adding when DataFrame column names match Series index\r\n",
    "if True:\r\n",
    "    s = pd.Series([1, 2, 3, 4], index=['a', 'b', 'c', 'd'])\r\n",
    "    df = pd.DataFrame({\r\n",
    "        'a': [10, 20, 30, 40],\r\n",
    "        'b': [50, 60, 70, 80],\r\n",
    "        'c': [90, 100, 110, 120],\r\n",
    "        'd': [130, 140, 150, 160]\r\n",
    "    })\r\n",
    "    \r\n",
    "    print (df)\r\n",
    "    print ('') # Create a blank line between outputs\r\n",
    "    print (df + s) # guess: s[a] will get added to pd[a], s[b] will get added to pd[b], and so on\r\n"
   ],
   "outputs": [
    {
     "output_type": "stream",
     "name": "stdout",
     "text": [
      "    a   b    c    d\n",
      "0  10  50   90  130\n",
      "1  20  60  100  140\n",
      "2  30  70  110  150\n",
      "3  40  80  120  160\n",
      "\n",
      "    a   b    c    d\n",
      "0  11  52   93  134\n",
      "1  21  62  103  144\n",
      "2  31  72  113  154\n",
      "3  41  82  123  164\n"
     ]
    }
   ],
   "metadata": {}
  },
  {
   "cell_type": "code",
   "execution_count": 48,
   "source": [
    "# Adding when DataFrame column names don't match Series index\r\n",
    "if True:\r\n",
    "    s = pd.Series([1, 2, 3, 4])\r\n",
    "    df = pd.DataFrame({\r\n",
    "        'a': [10, 20, 30, 40],\r\n",
    "        'b': [50, 60, 70, 80],\r\n",
    "        'c': [90, 100, 110, 120],\r\n",
    "        'd': [130, 140, 150, 160]\r\n",
    "    })\r\n",
    "    \r\n",
    "    print (df)\r\n",
    "    print ('') # Create a blank line between outputs\r\n",
    "    print (df + s)  # all NaN's, with extended columns"
   ],
   "outputs": [
    {
     "output_type": "stream",
     "name": "stdout",
     "text": [
      "    a   b    c    d\n",
      "0  10  50   90  130\n",
      "1  20  60  100  140\n",
      "2  30  70  110  150\n",
      "3  40  80  120  160\n",
      "\n",
      "    a   b   c   d   0   1   2   3\n",
      "0 NaN NaN NaN NaN NaN NaN NaN NaN\n",
      "1 NaN NaN NaN NaN NaN NaN NaN NaN\n",
      "2 NaN NaN NaN NaN NaN NaN NaN NaN\n",
      "3 NaN NaN NaN NaN NaN NaN NaN NaN\n"
     ]
    }
   ],
   "metadata": {}
  },
  {
   "cell_type": "markdown",
   "source": [
    "### Vector operations: `+` vs `add` in Pandas\r\n",
    "\r\n",
    "- `df.add(s)` is the same as `df+s`, where `s` gets added to each column of `df`.\r\n",
    "- `df.add(s, axis='columns')` is the same as `df+s`, where `s` gets added to each column of `df`.\r\n",
    "- `df.add(s, axis='index')` is where `s` gets added to each _row_ of `df`\r\n",
    "\r\n",
    "The functions `sub()`, `mul()`, and `div()` work similarly to `add()`"
   ],
   "metadata": {}
  },
  {
   "cell_type": "code",
   "execution_count": 49,
   "source": [
    "df = pd.DataFrame({0: [1,2,3,4]})\r\n",
    "df"
   ],
   "outputs": [
    {
     "output_type": "execute_result",
     "data": {
      "text/html": [
       "<div>\n",
       "<style scoped>\n",
       "    .dataframe tbody tr th:only-of-type {\n",
       "        vertical-align: middle;\n",
       "    }\n",
       "\n",
       "    .dataframe tbody tr th {\n",
       "        vertical-align: top;\n",
       "    }\n",
       "\n",
       "    .dataframe thead th {\n",
       "        text-align: right;\n",
       "    }\n",
       "</style>\n",
       "<table border=\"1\" class=\"dataframe\">\n",
       "  <thead>\n",
       "    <tr style=\"text-align: right;\">\n",
       "      <th></th>\n",
       "      <th>0</th>\n",
       "    </tr>\n",
       "  </thead>\n",
       "  <tbody>\n",
       "    <tr>\n",
       "      <th>0</th>\n",
       "      <td>1</td>\n",
       "    </tr>\n",
       "    <tr>\n",
       "      <th>1</th>\n",
       "      <td>2</td>\n",
       "    </tr>\n",
       "    <tr>\n",
       "      <th>2</th>\n",
       "      <td>3</td>\n",
       "    </tr>\n",
       "    <tr>\n",
       "      <th>3</th>\n",
       "      <td>4</td>\n",
       "    </tr>\n",
       "  </tbody>\n",
       "</table>\n",
       "</div>"
      ],
      "text/plain": [
       "   0\n",
       "0  1\n",
       "1  2\n",
       "2  3\n",
       "3  4"
      ]
     },
     "metadata": {},
     "execution_count": 49
    }
   ],
   "metadata": {}
  },
  {
   "cell_type": "code",
   "execution_count": 50,
   "source": [
    "s = pd.Series([1, 2, 3, 4])\r\n",
    "s"
   ],
   "outputs": [
    {
     "output_type": "execute_result",
     "data": {
      "text/plain": [
       "0    1\n",
       "1    2\n",
       "2    3\n",
       "3    4\n",
       "dtype: int64"
      ]
     },
     "metadata": {},
     "execution_count": 50
    }
   ],
   "metadata": {}
  },
  {
   "cell_type": "code",
   "execution_count": 51,
   "source": [
    "df+s"
   ],
   "outputs": [
    {
     "output_type": "execute_result",
     "data": {
      "text/html": [
       "<div>\n",
       "<style scoped>\n",
       "    .dataframe tbody tr th:only-of-type {\n",
       "        vertical-align: middle;\n",
       "    }\n",
       "\n",
       "    .dataframe tbody tr th {\n",
       "        vertical-align: top;\n",
       "    }\n",
       "\n",
       "    .dataframe thead th {\n",
       "        text-align: right;\n",
       "    }\n",
       "</style>\n",
       "<table border=\"1\" class=\"dataframe\">\n",
       "  <thead>\n",
       "    <tr style=\"text-align: right;\">\n",
       "      <th></th>\n",
       "      <th>0</th>\n",
       "      <th>1</th>\n",
       "      <th>2</th>\n",
       "      <th>3</th>\n",
       "    </tr>\n",
       "  </thead>\n",
       "  <tbody>\n",
       "    <tr>\n",
       "      <th>0</th>\n",
       "      <td>2</td>\n",
       "      <td>NaN</td>\n",
       "      <td>NaN</td>\n",
       "      <td>NaN</td>\n",
       "    </tr>\n",
       "    <tr>\n",
       "      <th>1</th>\n",
       "      <td>3</td>\n",
       "      <td>NaN</td>\n",
       "      <td>NaN</td>\n",
       "      <td>NaN</td>\n",
       "    </tr>\n",
       "    <tr>\n",
       "      <th>2</th>\n",
       "      <td>4</td>\n",
       "      <td>NaN</td>\n",
       "      <td>NaN</td>\n",
       "      <td>NaN</td>\n",
       "    </tr>\n",
       "    <tr>\n",
       "      <th>3</th>\n",
       "      <td>5</td>\n",
       "      <td>NaN</td>\n",
       "      <td>NaN</td>\n",
       "      <td>NaN</td>\n",
       "    </tr>\n",
       "  </tbody>\n",
       "</table>\n",
       "</div>"
      ],
      "text/plain": [
       "   0   1   2   3\n",
       "0  2 NaN NaN NaN\n",
       "1  3 NaN NaN NaN\n",
       "2  4 NaN NaN NaN\n",
       "3  5 NaN NaN NaN"
      ]
     },
     "metadata": {},
     "execution_count": 51
    }
   ],
   "metadata": {}
  },
  {
   "cell_type": "code",
   "execution_count": 52,
   "source": [
    "df.add(s, axis=\"index\")"
   ],
   "outputs": [
    {
     "output_type": "execute_result",
     "data": {
      "text/html": [
       "<div>\n",
       "<style scoped>\n",
       "    .dataframe tbody tr th:only-of-type {\n",
       "        vertical-align: middle;\n",
       "    }\n",
       "\n",
       "    .dataframe tbody tr th {\n",
       "        vertical-align: top;\n",
       "    }\n",
       "\n",
       "    .dataframe thead th {\n",
       "        text-align: right;\n",
       "    }\n",
       "</style>\n",
       "<table border=\"1\" class=\"dataframe\">\n",
       "  <thead>\n",
       "    <tr style=\"text-align: right;\">\n",
       "      <th></th>\n",
       "      <th>0</th>\n",
       "    </tr>\n",
       "  </thead>\n",
       "  <tbody>\n",
       "    <tr>\n",
       "      <th>0</th>\n",
       "      <td>2</td>\n",
       "    </tr>\n",
       "    <tr>\n",
       "      <th>1</th>\n",
       "      <td>4</td>\n",
       "    </tr>\n",
       "    <tr>\n",
       "      <th>2</th>\n",
       "      <td>6</td>\n",
       "    </tr>\n",
       "    <tr>\n",
       "      <th>3</th>\n",
       "      <td>8</td>\n",
       "    </tr>\n",
       "  </tbody>\n",
       "</table>\n",
       "</div>"
      ],
      "text/plain": [
       "   0\n",
       "0  2\n",
       "1  4\n",
       "2  6\n",
       "3  8"
      ]
     },
     "metadata": {},
     "execution_count": 52
    }
   ],
   "metadata": {}
  },
  {
   "cell_type": "code",
   "execution_count": 53,
   "source": [
    "s"
   ],
   "outputs": [
    {
     "output_type": "execute_result",
     "data": {
      "text/plain": [
       "0    1\n",
       "1    2\n",
       "2    3\n",
       "3    4\n",
       "dtype: int64"
      ]
     },
     "metadata": {},
     "execution_count": 53
    }
   ],
   "metadata": {}
  },
  {
   "cell_type": "markdown",
   "source": [
    "### Vector operations: Standardizing DataFrames"
   ],
   "metadata": {}
  },
  {
   "cell_type": "code",
   "execution_count": 54,
   "source": [
    "grades_df = pd.DataFrame(\r\n",
    "    data={'exam1': [43, 81, 78, 75, 89, 70, 91, 65, 98, 87],\r\n",
    "          'exam2': [24, 63, 56, 56, 67, 51, 79, 46, 72, 60]},\r\n",
    "    index=['Andre', 'Barry', 'Chris', 'Dan', 'Emilio', \r\n",
    "           'Fred', 'Greta', 'Humbert', 'Ivan', 'James']\r\n",
    ")\r\n",
    "\r\n",
    "def standardize(df):\r\n",
    "    '''\r\n",
    "    Fill in this function to standardize each column of the given\r\n",
    "    DataFrame. To standardize a variable, convert each value to the\r\n",
    "    number of standard deviations it is above or below the mean.\r\n",
    "    \r\n",
    "    This time, try to use vectorized operations instead of apply().\r\n",
    "    You should get the same results as you did before.\r\n",
    "    '''\r\n",
    "    # for examName in df:\r\n",
    "    #     exam = df[examName]\r\n",
    "    #     df[examName] = (exam - exam.mean()) / exam.std(ddof=0)\r\n",
    "    # return df\r\n",
    "    return (df - df.mean()) / df.std(ddof=0)\r\n",
    "\r\n",
    "def standardize_rows(df):\r\n",
    "    '''\r\n",
    "    Optional: Fill in this function to standardize each row of the given\r\n",
    "    DataFrame. Again, try not to use apply().\r\n",
    "    \r\n",
    "    This one is more challenging than standardizing each column!\r\n",
    "    '''\r\n",
    "    # for index in df.index:\r\n",
    "    #     df.loc[index] = (df.loc[index] - df.loc[index].mean()) / df.loc[index].std(ddof=0)\r\n",
    "    # return df\r\n",
    "    difference = (df.sub(df.mean(axis='columns'), axis='index'))\r\n",
    "    return difference.div(df.std(ddof=0, axis='columns'), axis='index')"
   ],
   "outputs": [],
   "metadata": {}
  },
  {
   "cell_type": "code",
   "execution_count": 55,
   "source": [
    "standardize(grades_df)"
   ],
   "outputs": [
    {
     "output_type": "execute_result",
     "data": {
      "text/html": [
       "<div>\n",
       "<style scoped>\n",
       "    .dataframe tbody tr th:only-of-type {\n",
       "        vertical-align: middle;\n",
       "    }\n",
       "\n",
       "    .dataframe tbody tr th {\n",
       "        vertical-align: top;\n",
       "    }\n",
       "\n",
       "    .dataframe thead th {\n",
       "        text-align: right;\n",
       "    }\n",
       "</style>\n",
       "<table border=\"1\" class=\"dataframe\">\n",
       "  <thead>\n",
       "    <tr style=\"text-align: right;\">\n",
       "      <th></th>\n",
       "      <th>exam1</th>\n",
       "      <th>exam2</th>\n",
       "    </tr>\n",
       "  </thead>\n",
       "  <tbody>\n",
       "    <tr>\n",
       "      <th>Andre</th>\n",
       "      <td>-2.315341</td>\n",
       "      <td>-2.304599</td>\n",
       "    </tr>\n",
       "    <tr>\n",
       "      <th>Barry</th>\n",
       "      <td>0.220191</td>\n",
       "      <td>0.386400</td>\n",
       "    </tr>\n",
       "    <tr>\n",
       "      <th>Chris</th>\n",
       "      <td>0.020017</td>\n",
       "      <td>-0.096600</td>\n",
       "    </tr>\n",
       "    <tr>\n",
       "      <th>Dan</th>\n",
       "      <td>-0.180156</td>\n",
       "      <td>-0.096600</td>\n",
       "    </tr>\n",
       "    <tr>\n",
       "      <th>Emilio</th>\n",
       "      <td>0.753987</td>\n",
       "      <td>0.662400</td>\n",
       "    </tr>\n",
       "    <tr>\n",
       "      <th>Fred</th>\n",
       "      <td>-0.513779</td>\n",
       "      <td>-0.441600</td>\n",
       "    </tr>\n",
       "    <tr>\n",
       "      <th>Greta</th>\n",
       "      <td>0.887436</td>\n",
       "      <td>1.490400</td>\n",
       "    </tr>\n",
       "    <tr>\n",
       "      <th>Humbert</th>\n",
       "      <td>-0.847401</td>\n",
       "      <td>-0.786600</td>\n",
       "    </tr>\n",
       "    <tr>\n",
       "      <th>Ivan</th>\n",
       "      <td>1.354508</td>\n",
       "      <td>1.007400</td>\n",
       "    </tr>\n",
       "    <tr>\n",
       "      <th>James</th>\n",
       "      <td>0.620538</td>\n",
       "      <td>0.179400</td>\n",
       "    </tr>\n",
       "  </tbody>\n",
       "</table>\n",
       "</div>"
      ],
      "text/plain": [
       "            exam1     exam2\n",
       "Andre   -2.315341 -2.304599\n",
       "Barry    0.220191  0.386400\n",
       "Chris    0.020017 -0.096600\n",
       "Dan     -0.180156 -0.096600\n",
       "Emilio   0.753987  0.662400\n",
       "Fred    -0.513779 -0.441600\n",
       "Greta    0.887436  1.490400\n",
       "Humbert -0.847401 -0.786600\n",
       "Ivan     1.354508  1.007400\n",
       "James    0.620538  0.179400"
      ]
     },
     "metadata": {},
     "execution_count": 55
    }
   ],
   "metadata": {}
  },
  {
   "cell_type": "code",
   "execution_count": 56,
   "source": [
    "standardize_rows(grades_df)"
   ],
   "outputs": [
    {
     "output_type": "execute_result",
     "data": {
      "text/html": [
       "<div>\n",
       "<style scoped>\n",
       "    .dataframe tbody tr th:only-of-type {\n",
       "        vertical-align: middle;\n",
       "    }\n",
       "\n",
       "    .dataframe tbody tr th {\n",
       "        vertical-align: top;\n",
       "    }\n",
       "\n",
       "    .dataframe thead th {\n",
       "        text-align: right;\n",
       "    }\n",
       "</style>\n",
       "<table border=\"1\" class=\"dataframe\">\n",
       "  <thead>\n",
       "    <tr style=\"text-align: right;\">\n",
       "      <th></th>\n",
       "      <th>exam1</th>\n",
       "      <th>exam2</th>\n",
       "    </tr>\n",
       "  </thead>\n",
       "  <tbody>\n",
       "    <tr>\n",
       "      <th>Andre</th>\n",
       "      <td>1.0</td>\n",
       "      <td>-1.0</td>\n",
       "    </tr>\n",
       "    <tr>\n",
       "      <th>Barry</th>\n",
       "      <td>1.0</td>\n",
       "      <td>-1.0</td>\n",
       "    </tr>\n",
       "    <tr>\n",
       "      <th>Chris</th>\n",
       "      <td>1.0</td>\n",
       "      <td>-1.0</td>\n",
       "    </tr>\n",
       "    <tr>\n",
       "      <th>Dan</th>\n",
       "      <td>1.0</td>\n",
       "      <td>-1.0</td>\n",
       "    </tr>\n",
       "    <tr>\n",
       "      <th>Emilio</th>\n",
       "      <td>1.0</td>\n",
       "      <td>-1.0</td>\n",
       "    </tr>\n",
       "    <tr>\n",
       "      <th>Fred</th>\n",
       "      <td>1.0</td>\n",
       "      <td>-1.0</td>\n",
       "    </tr>\n",
       "    <tr>\n",
       "      <th>Greta</th>\n",
       "      <td>1.0</td>\n",
       "      <td>-1.0</td>\n",
       "    </tr>\n",
       "    <tr>\n",
       "      <th>Humbert</th>\n",
       "      <td>1.0</td>\n",
       "      <td>-1.0</td>\n",
       "    </tr>\n",
       "    <tr>\n",
       "      <th>Ivan</th>\n",
       "      <td>1.0</td>\n",
       "      <td>-1.0</td>\n",
       "    </tr>\n",
       "    <tr>\n",
       "      <th>James</th>\n",
       "      <td>1.0</td>\n",
       "      <td>-1.0</td>\n",
       "    </tr>\n",
       "  </tbody>\n",
       "</table>\n",
       "</div>"
      ],
      "text/plain": [
       "         exam1  exam2\n",
       "Andre      1.0   -1.0\n",
       "Barry      1.0   -1.0\n",
       "Chris      1.0   -1.0\n",
       "Dan        1.0   -1.0\n",
       "Emilio     1.0   -1.0\n",
       "Fred       1.0   -1.0\n",
       "Greta      1.0   -1.0\n",
       "Humbert    1.0   -1.0\n",
       "Ivan       1.0   -1.0\n",
       "James      1.0   -1.0"
      ]
     },
     "metadata": {},
     "execution_count": 56
    }
   ],
   "metadata": {}
  },
  {
   "cell_type": "code",
   "execution_count": null,
   "source": [],
   "outputs": [],
   "metadata": {}
  }
 ],
 "metadata": {
  "orig_nbformat": 4,
  "language_info": {
   "name": "python",
   "version": "3.9.0",
   "mimetype": "text/x-python",
   "codemirror_mode": {
    "name": "ipython",
    "version": 3
   },
   "pygments_lexer": "ipython3",
   "nbconvert_exporter": "python",
   "file_extension": ".py"
  },
  "kernelspec": {
   "name": "python3",
   "display_name": "Python 3.9.0 64-bit"
  },
  "interpreter": {
   "hash": "fb28a47e64698fd316ef894d8ed3433d0649d6e25f9973778a9bc5864bd7dec0"
  }
 },
 "nbformat": 4,
 "nbformat_minor": 2
}