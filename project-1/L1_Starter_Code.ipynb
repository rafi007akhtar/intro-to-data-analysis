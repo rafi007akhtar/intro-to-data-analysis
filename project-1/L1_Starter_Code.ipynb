{
 "cells": [
  {
   "source": [
    "# Install dependencies - Done\n",
    "\n",
    "The `unicodecsv` library is needed for reading and manipulating CSV data. Since student enrollment info is in a CSV, we will need this library."
   ],
   "cell_type": "markdown",
   "metadata": {}
  },
  {
   "cell_type": "code",
   "execution_count": 74,
   "metadata": {},
   "outputs": [
    {
     "output_type": "stream",
     "name": "stdout",
     "text": [
      "Collecting numpyWARNING: You are using pip version 20.2.3; however, version 21.2.2 is available.\n",
      "You should consider upgrading via the 'c:\\users\\alimd\\appdata\\local\\programs\\python\\python39\\python.exe -m pip install --upgrade pip' command.\n",
      "\n",
      "  Downloading numpy-1.21.1-cp39-cp39-win_amd64.whl (14.0 MB)\n",
      "Installing collected packages: numpy\n",
      "Successfully installed numpy-1.21.1\n"
     ]
    }
   ],
   "source": [
    "# Uncomment and run the following lines of code to install dependencies, if not already installed\n",
    "#!pip install unicodecsv\n",
    "#!pip install numpy"
   ]
  },
  {
   "source": [
    "## Load Data from CSVs - Done\n",
    "\n",
    "We have the following csv files containing student data.\n",
    "\n",
    "1. enrollments.csv\n",
    "2. daily_engagement.csv\n",
    "3. project_submissions.csv\n",
    "\n",
    "In this section, each of these CSV files is loaded into the code, and stored in Python variables."
   ],
   "cell_type": "markdown",
   "metadata": {}
  },
  {
   "cell_type": "code",
   "execution_count": 11,
   "metadata": {},
   "outputs": [],
   "source": [
    "import unicodecsv\n",
    "\n",
    "## Longer version of code (replaced with shorter, equivalent version below)\n",
    "\n",
    "# enrollments = []\n",
    "# f = open('enrollments.csv', 'rb')\n",
    "# reader = unicodecsv.DictReader(f)\n",
    "# for row in reader:\n",
    "#     enrollments.append(row)\n",
    "# f.close()\n",
    "\n",
    "with open('enrollments.csv', 'rb') as f:\n",
    "    reader = unicodecsv.DictReader(f)    enroollments = list(reader)"
   ]
  },
  {
   "cell_type": "code",
   "execution_count": 12,
   "metadata": {},
   "outputs": [
    {
     "output_type": "stream",
     "name": "stdout",
     "text": [
      "{'acct': '0', 'utc_date': '2015-01-09', 'num_courses_visited': '1.0', 'total_minutes_visited': '11.6793745', 'lessons_completed': '0.0', 'projects_completed': '0.0'}\n{'creation_date': '2015-01-14', 'completion_date': '2015-01-16', 'assigned_rating': 'UNGRADED', 'account_key': '256', 'lesson_key': '3176718735', 'processing_state': 'EVALUATED'}\n"
     ]
    }
   ],
   "source": [
    "#####################################\n",
    "#                 1                 #\n",
    "#####################################\n",
    "\n",
    "## Read in the data from daily_engagement.csv and project_submissions.csv \n",
    "## and store the results in the below variables.\n",
    "## Then look at the first row of each table.\n",
    "\n",
    "def csv_as_list(filename):\n",
    "    with open(filename, 'rb') as f:\n",
    "        csvList = list(unicodecsv.DictReader(f))\n",
    "    return csvList\n",
    "\n",
    "daily_engagement = csv_as_list('daily_engagement.csv')\n",
    "print(daily_engagement[0])\n",
    "project_submissions = csv_as_list('project_submissions.csv')\n",
    "print(project_submissions[0])"
   ]
  },
  {
   "cell_type": "markdown",
   "metadata": {},
   "source": [
    "## Fixing Data Types - Done\n",
    "\n",
    "The second part of Data Wrangling - that is, _Data Cleaning_ - phase begins here."
   ]
  },
  {
   "cell_type": "code",
   "execution_count": 13,
   "metadata": {},
   "outputs": [
    {
     "output_type": "execute_result",
     "data": {
      "text/plain": [
       "{'account_key': '448',\n",
       " 'status': 'canceled',\n",
       " 'join_date': datetime.datetime(2014, 11, 10, 0, 0),\n",
       " 'cancel_date': datetime.datetime(2015, 1, 14, 0, 0),\n",
       " 'days_to_cancel': 65,\n",
       " 'is_udacity': True,\n",
       " 'is_canceled': True}"
      ]
     },
     "metadata": {},
     "execution_count": 13
    }
   ],
   "source": [
    "from datetime import datetime as dt\n",
    "\n",
    "# Takes a date as a string, and returns a Python datetime object. \n",
    "# If there is no date given, returns None\n",
    "def parse_date(date):\n",
    "    if date == '':\n",
    "        return None\n",
    "    else:\n",
    "        return dt.strptime(date, '%Y-%m-%d')\n",
    "    \n",
    "# Takes a string which is either an empty string or represents an integer,\n",
    "# and returns an int or None.\n",
    "def parse_maybe_int(i):\n",
    "    if i == '':\n",
    "        return None\n",
    "    else:\n",
    "        return int(i)\n",
    "\n",
    "# Clean up the data types in the enrollments table\n",
    "for enrollment in enrollments:\n",
    "    enrollment['cancel_date'] = parse_date(enrollment['cancel_date'])\n",
    "    enrollment['days_to_cancel'] = parse_maybe_int(enrollment['days_to_cancel'])\n",
    "    enrollment['is_canceled'] = enrollment['is_canceled'] == 'True'\n",
    "    enrollment['is_udacity'] = enrollment['is_udacity'] == 'True'\n",
    "    enrollment['join_date'] = parse_date(enrollment['join_date'])\n",
    "    \n",
    "enrollments[0]"
   ]
  },
  {
   "cell_type": "code",
   "execution_count": 108,
   "metadata": {
    "tags": []
   },
   "outputs": [],
   "source": [
    "# Commenting out the following block as it was purely for debugging\n",
    "# debug_daily_engagement = csv_as_list('daily_engagement.csv')\n",
    "# extra_minutes = []\n",
    "# for record in debug_daily_engagement:\n",
    "#     print(record['total_minutes_visited'], end=', ')\n",
    "#     minutes = float(record['total_minutes_visited'])\n",
    "#     if minutes >= 24 * 60 or str(minutes) != record['total_minutes_visited']:\n",
    "#         extra_minutes.append(minutes)\n",
    "#         print(minutes)\n",
    "# print(extra_minutes)"
   ]
  },
  {
   "cell_type": "code",
   "execution_count": 14,
   "metadata": {},
   "outputs": [
    {
     "output_type": "execute_result",
     "data": {
      "text/plain": [
       "{'acct': '0',\n",
       " 'utc_date': datetime.datetime(2015, 1, 9, 0, 0),\n",
       " 'num_courses_visited': 1,\n",
       " 'total_minutes_visited': 11.6793745,\n",
       " 'lessons_completed': 0,\n",
       " 'projects_completed': 0}"
      ]
     },
     "metadata": {},
     "execution_count": 14
    }
   ],
   "source": [
    "# Clean up the data types in the engagement table\n",
    "for engagement_record in daily_engagement:\n",
    "    engagement_record['lessons_completed'] = int(float(engagement_record['lessons_completed']))\n",
    "    engagement_record['num_courses_visited'] = int(float(engagement_record['num_courses_visited']))\n",
    "    engagement_record['projects_completed'] = int(float(engagement_record['projects_completed']))\n",
    "    engagement_record['total_minutes_visited'] = float(engagement_record['total_minutes_visited'])\n",
    "    engagement_record['utc_date'] = parse_date(engagement_record['utc_date'])\n",
    "    \n",
    "daily_engagement[0]"
   ]
  },
  {
   "cell_type": "code",
   "execution_count": 15,
   "metadata": {},
   "outputs": [
    {
     "output_type": "execute_result",
     "data": {
      "text/plain": [
       "{'creation_date': datetime.datetime(2015, 1, 14, 0, 0),\n",
       " 'completion_date': datetime.datetime(2015, 1, 16, 0, 0),\n",
       " 'assigned_rating': 'UNGRADED',\n",
       " 'account_key': '256',\n",
       " 'lesson_key': '3176718735',\n",
       " 'processing_state': 'EVALUATED'}"
      ]
     },
     "metadata": {},
     "execution_count": 15
    }
   ],
   "source": [
    "# Clean up the data types in the submissions table\n",
    "for submission in project_submissions:\n",
    "    submission['completion_date'] = parse_date(submission['completion_date'])\n",
    "    submission['creation_date'] = parse_date(submission['creation_date'])\n",
    "\n",
    "project_submissions[0]"
   ]
  },
  {
   "cell_type": "markdown",
   "metadata": {},
   "source": [
    "## Problems in the Data - Done\n",
    "\n",
    "**Note**: I've switched the order of blocks 2 and 3 because the changes in block 3 are needed in some wrangling of block 2."
   ]
  },
  {
   "cell_type": "code",
   "execution_count": 16,
   "metadata": {},
   "outputs": [],
   "source": [
    "#####################################\n",
    "#                 3                 #\n",
    "#####################################\n",
    "\n",
    "## Rename the \"acct\" column in the daily_engagement table to \"account_key\".\n",
    "for engagement in daily_engagement:\n",
    "    temp = engagement['acct']\n",
    "    del engagement['acct']\n",
    "    engagement['account_key'] = temp"
   ]
  },
  {
   "cell_type": "markdown",
   "metadata": {},
   "source": [
    "## Investigating the Data - Done"
   ]
  },
  {
   "cell_type": "code",
   "execution_count": 17,
   "metadata": {},
   "outputs": [
    {
     "output_type": "stream",
     "name": "stdout",
     "text": [
      "1302 1237 743\n"
     ]
    }
   ],
   "source": [
    "#####################################\n",
    "#                 2                 #\n",
    "#####################################\n",
    "\n",
    "## Find the total number of rows and the number of unique students (account keys)\n",
    "## in each table.\n",
    "\n",
    "def investigate(csvList):\n",
    "    csvListLen = len(csvList)\n",
    "    unique_elems = len(set([list_item['account_key'] for list_item in csvList]))\n",
    "    return csvListLen, unique_elems\n",
    "\n",
    "enrollment_num_rows, enrollment_num_unique_students = investigate(enrollments)\n",
    "\n",
    "engagement_num_rows, engagement_num_unique_students = investigate(daily_engagement)\n",
    "\n",
    "submission_num_rows, submission_num_unique_students = investigate(project_submissions)\n",
    "\n",
    "print (enrollment_num_unique_students, engagement_num_unique_students, submission_num_unique_students)"
   ]
  },
  {
   "cell_type": "code",
   "execution_count": 19,
   "metadata": {},
   "outputs": [
    {
     "output_type": "stream",
     "name": "stdout",
     "text": [
      "6\n"
     ]
    }
   ],
   "source": [
    "print(daily_engagement[1000]['account_key'])"
   ]
  },
  {
   "cell_type": "markdown",
   "metadata": {},
   "source": [
    "## Missing Engagement Records - Done\n",
    "\n",
    "So in the above output, the enrollment data is 1302 but engagement data is 1237.\n",
    "Meaning there are students enrolled not having any engagement. Find those students out!"
   ]
  },
  {
   "cell_type": "code",
   "execution_count": 20,
   "metadata": {},
   "outputs": [],
   "source": [
    "#####################################\n",
    "#                 4                 #\n",
    "#####################################\n",
    "\n",
    "## Find any one student enrollments where the student is missing from the daily engagement table.\n",
    "## Output that enrollment.\n",
    "engagement_keys = list(set([engagement['account_key'] for engagement in daily_engagement]))\n",
    "enrolled_students_without_engagement = [student for student in enrollments if student['account_key'] not in engagement_keys]"
   ]
  },
  {
   "cell_type": "code",
   "execution_count": 21,
   "metadata": {},
   "outputs": [
    {
     "output_type": "stream",
     "name": "stdout",
     "text": [
      "{'account_key': '1219', 'status': 'canceled', 'join_date': datetime.datetime(2014, 11, 12, 0, 0), 'cancel_date': datetime.datetime(2014, 11, 12, 0, 0), 'days_to_cancel': 0, 'is_udacity': False, 'is_canceled': True}\n"
     ]
    }
   ],
   "source": [
    "print(enrolled_students_without_engagement[0])"
   ]
  },
  {
   "source": [
    "### Explanation\n",
    "We see there are students who cancelled the same day they enrolled in, which is why they appear in the enrollments table, but not in the engagements table.\n",
    "\n",
    "To see just how many of such students are there, run the following command."
   ],
   "cell_type": "markdown",
   "metadata": {}
  },
  {
   "cell_type": "code",
   "execution_count": 22,
   "metadata": {},
   "outputs": [
    {
     "output_type": "stream",
     "name": "stdout",
     "text": [
      "71\n"
     ]
    }
   ],
   "source": [
    "print(len(enrolled_students_without_engagement))"
   ]
  },
  {
   "cell_type": "markdown",
   "metadata": {},
   "source": [
    "## Checking for More Problem Records - Done"
   ]
  },
  {
   "cell_type": "code",
   "execution_count": 23,
   "metadata": {},
   "outputs": [],
   "source": [
    "#####################################\n",
    "#                 5                 #\n",
    "#####################################\n",
    "\n",
    "## Find the number of surprising data points (enrollments missing from\n",
    "## the engagement table) that remain, if any.\n",
    "students_staying_one_day_min = []\n",
    "for student in enrollments:\n",
    "    if student['account_key'] not in engagement_keys and student['days_to_cancel'] is None:\n",
    "        students_staying_one_day_min.append(student)\n",
    "    elif student['account_key'] not in engagement_keys and student['days_to_cancel'] is not None and student['days_to_cancel'] > 0:\n",
    "        students_staying_one_day_min.append(student)"
   ]
  },
  {
   "cell_type": "code",
   "execution_count": 24,
   "metadata": {},
   "outputs": [
    {
     "output_type": "stream",
     "name": "stdout",
     "text": [
      "3\n"
     ]
    }
   ],
   "source": [
    "print(len(students_staying_one_day_min))"
   ]
  },
  {
   "cell_type": "code",
   "execution_count": 25,
   "metadata": {},
   "outputs": [
    {
     "output_type": "stream",
     "name": "stdout",
     "text": [
      "[{'account_key': '1304', 'status': 'canceled', 'join_date': datetime.datetime(2015, 1, 10, 0, 0), 'cancel_date': datetime.datetime(2015, 3, 10, 0, 0), 'days_to_cancel': 59, 'is_udacity': True, 'is_canceled': True}, {'account_key': '1304', 'status': 'canceled', 'join_date': datetime.datetime(2015, 3, 10, 0, 0), 'cancel_date': datetime.datetime(2015, 6, 17, 0, 0), 'days_to_cancel': 99, 'is_udacity': True, 'is_canceled': True}, {'account_key': '1101', 'status': 'current', 'join_date': datetime.datetime(2015, 2, 25, 0, 0), 'cancel_date': None, 'days_to_cancel': None, 'is_udacity': True, 'is_canceled': False}]\n"
     ]
    }
   ],
   "source": [
    "print(students_staying_one_day_min)"
   ]
  },
  {
   "source": [
    "### Explanation\n",
    "\n",
    "These students are all Udacity test accounts (we can tell since for each of them, `is_udacity` is `True`). There is no guarentee that Udacity test accounts will appear in enrollments."
   ],
   "cell_type": "markdown",
   "metadata": {}
  },
  {
   "cell_type": "markdown",
   "metadata": {},
   "source": [
    "## Tracking Down the Remaining Problems - Done"
   ]
  },
  {
   "cell_type": "code",
   "execution_count": 26,
   "metadata": {
    "collapsed": true
   },
   "outputs": [
    {
     "output_type": "execute_result",
     "data": {
      "text/plain": [
       "6"
      ]
     },
     "metadata": {},
     "execution_count": 26
    }
   ],
   "source": [
    "# Create a set of the account keys for all Udacity test accounts\n",
    "udacity_test_accounts = set()\n",
    "for enrollment in enrollments:\n",
    "    if enrollment['is_udacity']:\n",
    "        udacity_test_accounts.add(enrollment['account_key'])\n",
    "len(udacity_test_accounts)"
   ]
  },
  {
   "cell_type": "code",
   "execution_count": 27,
   "metadata": {
    "collapsed": true
   },
   "outputs": [],
   "source": [
    "# Given some data with an account_key field, removes any records corresponding to Udacity test accounts\n",
    "def remove_udacity_accounts(data):\n",
    "    non_udacity_data = []\n",
    "    for data_point in data:\n",
    "        if data_point['account_key'] not in udacity_test_accounts:\n",
    "            non_udacity_data.append(data_point)\n",
    "    return non_udacity_data"
   ]
  },
  {
   "cell_type": "code",
   "execution_count": 64,
   "metadata": {
    "collapsed": true
   },
   "outputs": [
    {
     "output_type": "stream",
     "name": "stdout",
     "text": [
      "1622\n135656\n3634\n"
     ]
    }
   ],
   "source": [
    "# Remove Udacity test accounts from all three tables\n",
    "non_udacity_enrollments = remove_udacity_accounts(enrollments)\n",
    "non_udacity_engagement = remove_udacity_accounts(daily_engagement)\n",
    "non_udacity_submissions = remove_udacity_accounts(project_submissions)\n",
    "\n",
    "print (len(non_udacity_enrollments))\n",
    "print (len(non_udacity_engagement))\n",
    "print (len(non_udacity_submissions))"
   ]
  },
  {
   "cell_type": "markdown",
   "metadata": {},
   "source": [
    "## Refining the Question - Done\n",
    "\n",
    "Here, we ask the question this data analysis is suppose to answer. Additionally, we are now entering the Exploration Phase.\n",
    "\n",
    "### Question\n",
    "> How do the daily engagement attributes of students who pass their first project differ from those who don't?\n",
    "\n",
    "### Problems\n",
    "1. **`[High]`** The students are most likely to submit their projects during different intervals of time. A student might submit the first project by the end of the first week and another might submit it by the end of the first month, for example. These varying submission times will have varying engagement trends, and hence it is unfair to compare engagement across different ranges of time of students who submit.\n",
    "2. **`[High]`** If you look at all submission info present in `daily_engagement` table, it contains engagement even after the submission of the first project. Those trends are of no use for the question posed, and would lead to incorrect analysis.\n",
    "3. `[Low]` The total amount of info present in the `daily_engagement` table is for the entire course, and not just the project submissions. Hence you will be having a lot of data points that you won't be needing in answering the above question.\n",
    "\n",
    "In order to tackle these problems, we start by eliminating the students who cancelled within the first week."
   ]
  },
  {
   "cell_type": "code",
   "execution_count": 56,
   "metadata": {
    "collapsed": true,
    "tags": []
   },
   "outputs": [
    {
     "output_type": "stream",
     "name": "stdout",
     "text": [
      "995\n"
     ]
    }
   ],
   "source": [
    "#####################################\n",
    "#                 6                 #\n",
    "#####################################\n",
    "\n",
    "## Create a dictionary named paid_students containing all students who either\n",
    "## haven't canceled yet or who remained enrolled for more than 7 days. The keys\n",
    "## should be account keys, and the values should be the date the student enrolled.\n",
    "\n",
    "paid_students = dict()\n",
    "for student in non_udacity_enrollments:\n",
    "    if student['cancel_date'] is None or student['days_to_cancel'] > 7:\n",
    "        account_key = student['account_key']\n",
    "        join_date = student['join_date']\n",
    "\n",
    "        # add this entry to the dictionary only if it is already not there\n",
    "        # and if it is the most recent enrollment\n",
    "        if account_key not in paid_students or join_date > paid_students[account_key]:\n",
    "            paid_students[account_key] = join_date\n",
    "\n",
    "print(len(paid_students))"
   ]
  },
  {
   "cell_type": "markdown",
   "metadata": {},
   "source": [
    "## Getting Data from First Week - Done\n",
    "\n",
    "Next, to compare engagements across the same amount of time of students who have submitted, we extract engagement data in only the first week."
   ]
  },
  {
   "cell_type": "code",
   "execution_count": 59,
   "metadata": {
    "collapsed": true
   },
   "outputs": [],
   "source": [
    "# Takes a student's join date and the date of a specific engagement record,\n",
    "# and returns True if that engagement record happened within one week\n",
    "# of the student joining.\n",
    "def within_one_week(join_date, engagement_date):\n",
    "    time_delta = engagement_date - join_date\n",
    "    return time_delta.days < 7"
   ]
  },
  {
   "cell_type": "code",
   "execution_count": 62,
   "metadata": {
    "collapsed": true
   },
   "outputs": [
    {
     "output_type": "stream",
     "name": "stdout",
     "text": [
      "{'utc_date': datetime.datetime(2015, 1, 9, 0, 0), 'num_courses_visited': 1, 'total_minutes_visited': 11.6793745, 'lessons_completed': 0, 'projects_completed': 0, 'account_key': '0'}\n21508\n"
     ]
    }
   ],
   "source": [
    "#####################################\n",
    "#                 7                 #\n",
    "#####################################\n",
    "\n",
    "## Create a list of rows from the engagement table including only rows where\n",
    "## the student is one of the paid students you just found, and the date is within\n",
    "## one week of the student's join date.\n",
    "\n",
    "paid_engagement_in_first_week = [\n",
    "    engagement for engagement in non_udacity_engagement if engagement['account_key'] in paid_students and within_one_week(paid_students[engagement['account_key']], engagement['utc_date'])\n",
    "]\n",
    "# print(non_udacity_engagement[0])\n",
    "print(paid_engagement_in_first_week[0])\n",
    "print(len(paid_engagement_in_first_week))"
   ]
  },
  {
   "cell_type": "code",
   "execution_count": 102,
   "metadata": {
    "tags": []
   },
   "outputs": [
    {
     "output_type": "stream",
     "name": "stdout",
     "text": [
      "visitnum: 0\n{'utc_date': datetime.datetime(2015, 1, 9, 0, 0), 'num_courses_visited': 1, 'total_minutes_visited': 11.6793745, 'lessons_completed': 0, 'projects_completed': 0, 'account_key': '0'}\nmost: 1030.88319667\n"
     ]
    }
   ],
   "source": [
    "for record in paid_engagement_in_first_week:\n",
    "    minutes = 86400\n",
    "    visited = float(record['total_minutes_visited'])\n",
    "    visitNum = 0\n",
    "    if visited >= minutes:\n",
    "        visitNum += 1\n",
    "        print(visited, end=\", \")\n",
    "print(f'visitnum: {visitNum}')\n",
    "print(paid_engagement_in_first_week[0])\n",
    "\n",
    "most = 0\n",
    "for record in paid_engagement_in_first_week:\n",
    "    if record['total_minutes_visited'] > most:\n",
    "        most = record['total_minutes_visited']\n",
    "print(f'most: {most}')\n"
   ]
  },
  {
   "cell_type": "code",
   "execution_count": 66,
   "metadata": {},
   "outputs": [
    {
     "output_type": "stream",
     "name": "stdout",
     "text": [
      "1293\n134549\n3618\n"
     ]
    }
   ],
   "source": [
    "# Now, to go along with the official solution, I would like to create the 3 variables I might need later, containing info of paid students.\n",
    "def filter_out_unpaid_students(data):\n",
    "    paid_data = [\n",
    "        data_point for data_point in data if data_point['account_key'] in paid_students\n",
    "    ]\n",
    "    return paid_data\n",
    "\n",
    "paid_enrollments = filter_out_unpaid_students(non_udacity_enrollments)\n",
    "paid_engagement = filter_out_unpaid_students(non_udacity_engagement)\n",
    "paid_submissions = filter_out_unpaid_students(non_udacity_submissions)\n",
    "\n",
    "print(len(paid_enrollments))\n",
    "print(len(paid_engagement))\n",
    "print(len(paid_submissions))"
   ]
  },
  {
   "cell_type": "markdown",
   "metadata": {},
   "source": [
    "## Exploring Student Engagement - Done"
   ]
  },
  {
   "cell_type": "code",
   "execution_count": 68,
   "metadata": {
    "collapsed": true
   },
   "outputs": [],
   "source": [
    "from collections import defaultdict\n",
    "\n",
    "# Create a dictionary of engagement grouped by student.\n",
    "# The keys are account keys, and the values are lists of engagement records.\n",
    "engagement_by_account = defaultdict(list)\n",
    "for engagement_record in paid_engagement_in_first_week:\n",
    "    account_key = engagement_record['account_key']\n",
    "    engagement_by_account[account_key].append(engagement_record)"
   ]
  },
  {
   "cell_type": "code",
   "execution_count": 71,
   "metadata": {},
   "outputs": [
    {
     "output_type": "stream",
     "name": "stdout",
     "text": [
      "[{'utc_date': datetime.datetime(2015, 1, 9, 0, 0), 'num_courses_visited': 1, 'total_minutes_visited': 11.6793745, 'lessons_completed': 0, 'projects_completed': 0, 'account_key': '0'}, {'utc_date': datetime.datetime(2015, 1, 10, 0, 0), 'num_courses_visited': 2, 'total_minutes_visited': 37.2848873333, 'lessons_completed': 0, 'projects_completed': 0, 'account_key': '0'}, {'utc_date': datetime.datetime(2015, 1, 11, 0, 0), 'num_courses_visited': 2, 'total_minutes_visited': 53.6337463333, 'lessons_completed': 0, 'projects_completed': 0, 'account_key': '0'}, {'utc_date': datetime.datetime(2015, 1, 12, 0, 0), 'num_courses_visited': 1, 'total_minutes_visited': 33.4892696667, 'lessons_completed': 0, 'projects_completed': 0, 'account_key': '0'}, {'utc_date': datetime.datetime(2015, 1, 13, 0, 0), 'num_courses_visited': 1, 'total_minutes_visited': 64.7796776667, 'lessons_completed': 0, 'projects_completed': 0, 'account_key': '0'}, {'utc_date': datetime.datetime(2015, 1, 14, 0, 0), 'num_courses_visited': 1, 'total_minutes_visited': 151.617576833, 'lessons_completed': 1, 'projects_completed': 0, 'account_key': '0'}, {'utc_date': datetime.datetime(2015, 1, 15, 0, 0), 'num_courses_visited': 1, 'total_minutes_visited': 142.395963833, 'lessons_completed': 0, 'projects_completed': 0, 'account_key': '0'}]\n"
     ]
    }
   ],
   "source": [
    "print(engagement_by_account['0'])"
   ]
  },
  {
   "cell_type": "code",
   "execution_count": 109,
   "metadata": {},
   "outputs": [],
   "source": [
    "# Commenting out the following block as it was purely for debugging\n",
    "\n",
    "# debug_engagement_by_account = defaultdict(list)\n",
    "# for debug_engagement in paid_engagement_in_first_week:\n",
    "#     account_key = engagement_record['account_key']\n",
    "#     if debug_engagement not in debug_engagement_by_account['account_key']:\n",
    "#         debug_engagement_by_account[account_key].append(debug_engagement)"
   ]
  },
  {
   "cell_type": "code",
   "execution_count": 110,
   "metadata": {},
   "outputs": [],
   "source": [
    "# print(len(debug_engagement_by_account))\n",
    "# print(len(engagement_by_account))"
   ]
  },
  {
   "cell_type": "code",
   "execution_count": 72,
   "metadata": {
    "collapsed": true
   },
   "outputs": [],
   "source": [
    "# Create a dictionary with the total minutes each student spent in the classroom during the first week.\n",
    "# The keys are account keys, and the values are numbers (total minutes)\n",
    "total_minutes_by_account = {}\n",
    "for account_key, engagement_for_student in engagement_by_account.items():\n",
    "    total_minutes = 0\n",
    "    for engagement_record in engagement_for_student:\n",
    "        total_minutes += engagement_record['total_minutes_visited']\n",
    "    total_minutes_by_account[account_key] = total_minutes"
   ]
  },
  {
   "cell_type": "code",
   "execution_count": 79,
   "metadata": {
    "collapsed": true
   },
   "outputs": [
    {
     "output_type": "stream",
     "name": "stdout",
     "text": [
      "Mean: 647.5901738262695\nStandard deviation: 1129.2712104188108\nMinimum: 0.0\nMaximum: 10568.100867332541\n"
     ]
    }
   ],
   "source": [
    "import numpy as np\n",
    "\n",
    "# Summarize the data about minutes spent in the classroom\n",
    "total_minutes = list(total_minutes_by_account.values())\n",
    "print ('Mean:', np.mean(total_minutes))\n",
    "print ('Standard deviation:', np.std(total_minutes))\n",
    "print ('Minimum:', np.min(total_minutes))\n",
    "print ('Maximum:', np.max(total_minutes))"
   ]
  },
  {
   "cell_type": "code",
   "execution_count": 107,
   "metadata": {},
   "outputs": [
    {
     "output_type": "stream",
     "name": "stdout",
     "text": [
      "10568.100867332541\n[2530.6469816678004, 1591.3228143334, 2997.70812683204, 1579.12122666663, 1917.2210374995, 1898.9588304992003, 2783.6493991655298, 3933.373638167089, 2185.0847380002706, 4842.298387167651, 2098.8426373316, 3946.50200616513, 5879.230190166303, 7229.78709266389, 2917.4438696675406, 3656.38093583222, 3124.592313998191, 2293.9219658344996, 1867.74218416554, 2328.9144675007697, 10568.100867332541, 3991.9810373311407, 5807.212303334741, 1449.3736278338001, 7263.991842167299, 6709.42387016856, 2916.9502008342706, 5519.3081969980985, 3914.010639835101, 3564.7332644989997, 4962.5543161655005, 1887.391213833, 2375.7954986677, 2634.85551000113, 3862.929400999971, 4224.377395331539, 1810.5199383324698, 6027.846535335141, 3869.08683200167, 1452.709982333, 2111.75571399998, 2393.5421573319004, 2662.8567701651705, 3716.85055883333, 2884.7102329999, 5740.986651833372, 4752.494575498951, 4352.512844498472, 2040.99096683197, 2700.4878774989998, 1918.8834441663, 1735.943607166, 2778.3161446706704, 1776.7119671674905, 1858.47644299971, 1669.9007213329999, 5563.09520999864, 1546.9691116660001, 1460.23975783377, 5149.44630416723, 2909.4296574979294, 2530.5614099997, 6284.62383516614, 1746.3109303336303, 4585.091149166379, 2032.9375015004, 6882.979558501368, 4060.959930334999, 2404.1247378322896, 2386.12630133193, 5112.73769183253, 3407.3393836637197, 1697.1535334983703, 7482.935562666412, 1839.7921244994304, 2618.7204273334296, 2021.57861849967, 1919.3789231675298, 1822.4971173327, 1976.3220675000703, 1896.7540938320003, 5234.28921816846, 3483.3606208332003, 5822.26115550112, 3284.0465126671, 1477.0239483322998, 2526.4558833343, 4220.827977999, 2801.4368536658, 3835.0816603316007, 2365.3846399996205, 1890.9937024994, 1482.9020456663002, 1689.189059835, 5026.5365526675, 3319.29351949976, 5478.08423433259, 1446.3187888332998, 1764.5367983344001, 1533.1252771655, 1826.34153849953, 4961.789169668999, 1768.5227493319999, 1547.1059959994, 1612.4661078334002, 2087.26782599953, 2973.12244866787, 4195.867196331471, 2779.6266625004, 1651.7125650003002]\n110\n"
     ]
    }
   ],
   "source": [
    "# Commenting out the following block as it was purely for debugging\n",
    "\n",
    "# most = 0\n",
    "# for minutes in list(total_minutes_by_account.values()):\n",
    "#     if minutes > most:\n",
    "#         most = minutes\n",
    "# print(most)\n",
    "\n",
    "# most = 86400\n",
    "# extra = []\n",
    "# for minutes in list(total_minutes_by_account.values()):\n",
    "#     if minutes > most:\n",
    "#         extra.append(minutes)\n",
    "# print(extra)\n",
    "# print(len(extra))"
   ]
  },
  {
   "cell_type": "markdown",
   "metadata": {},
   "source": [
    "## Debugging Data Analysis Code"
   ]
  },
  {
   "cell_type": "code",
   "execution_count": null,
   "metadata": {
    "collapsed": true
   },
   "outputs": [],
   "source": [
    "#####################################\n",
    "#                 8                 #\n",
    "#####################################\n",
    "\n",
    "## Go through a similar process as before to see if there is a problem.\n",
    "## Locate at least one surprising piece of data, output it, and take a look at it."
   ]
  },
  {
   "cell_type": "markdown",
   "metadata": {},
   "source": [
    "## Lessons Completed in First Week"
   ]
  },
  {
   "cell_type": "code",
   "execution_count": null,
   "metadata": {
    "collapsed": true
   },
   "outputs": [],
   "source": [
    "#####################################\n",
    "#                 9                 #\n",
    "#####################################\n",
    "\n",
    "## Adapt the code above to find the mean, standard deviation, minimum, and maximum for\n",
    "## the number of lessons completed by each student during the first week. Try creating\n",
    "## one or more functions to re-use the code above."
   ]
  },
  {
   "cell_type": "markdown",
   "metadata": {},
   "source": [
    "## Number of Visits in First Week"
   ]
  },
  {
   "cell_type": "code",
   "execution_count": null,
   "metadata": {
    "collapsed": true
   },
   "outputs": [],
   "source": [
    "######################################\n",
    "#                 10                 #\n",
    "######################################\n",
    "\n",
    "## Find the mean, standard deviation, minimum, and maximum for the number of\n",
    "## days each student visits the classroom during the first week."
   ]
  },
  {
   "cell_type": "markdown",
   "metadata": {},
   "source": [
    "## Splitting out Passing Students"
   ]
  },
  {
   "cell_type": "code",
   "execution_count": null,
   "metadata": {
    "collapsed": true
   },
   "outputs": [],
   "source": [
    "######################################\n",
    "#                 11                 #\n",
    "######################################\n",
    "\n",
    "## Create two lists of engagement data for paid students in the first week.\n",
    "## The first list should contain data for students who eventually pass the\n",
    "## subway project, and the second list should contain data for students\n",
    "## who do not.\n",
    "\n",
    "subway_project_lesson_keys = ['746169184', '3176718735']\n",
    "\n",
    "passing_engagement =\n",
    "non_passing_engagement ="
   ]
  },
  {
   "cell_type": "markdown",
   "metadata": {},
   "source": [
    "## Comparing the Two Student Groups"
   ]
  },
  {
   "cell_type": "code",
   "execution_count": null,
   "metadata": {
    "collapsed": true
   },
   "outputs": [],
   "source": [
    "######################################\n",
    "#                 12                 #\n",
    "######################################\n",
    "\n",
    "## Compute some metrics you're interested in and see how they differ for\n",
    "## students who pass the subway project vs. students who don't. A good\n",
    "## starting point would be the metrics we looked at earlier (minutes spent\n",
    "## in the classroom, lessons completed, and days visited)."
   ]
  },
  {
   "cell_type": "markdown",
   "metadata": {},
   "source": [
    "## Making Histograms"
   ]
  },
  {
   "cell_type": "code",
   "execution_count": null,
   "metadata": {
    "collapsed": true
   },
   "outputs": [],
   "source": [
    "######################################\n",
    "#                 13                 #\n",
    "######################################\n",
    "\n",
    "## Make histograms of the three metrics we looked at earlier for both\n",
    "## students who passed the subway project and students who didn't. You\n",
    "## might also want to make histograms of any other metrics you examined."
   ]
  },
  {
   "cell_type": "markdown",
   "metadata": {},
   "source": [
    "## Improving Plots and Sharing Findings"
   ]
  },
  {
   "cell_type": "code",
   "execution_count": null,
   "metadata": {
    "collapsed": true
   },
   "outputs": [],
   "source": [
    "######################################\n",
    "#                 14                 #\n",
    "######################################\n",
    "\n",
    "## Make a more polished version of at least one of your visualizations\n",
    "## from earlier. Try importing the seaborn library to make the visualization\n",
    "## look better, adding axis labels and a title, and changing one or more\n",
    "## arguments to the hist() function."
   ]
  }
 ],
 "metadata": {
  "kernelspec": {
   "name": "python3",
   "display_name": "Python 3.9.0 64-bit"
  },
  "language_info": {
   "codemirror_mode": {
    "name": "ipython",
    "version": 3
   },
   "file_extension": ".py",
   "mimetype": "text/x-python",
   "name": "python",
   "nbconvert_exporter": "python",
   "pygments_lexer": "ipython3",
   "version": "3.9.0"
  },
  "interpreter": {
   "hash": "fb28a47e64698fd316ef894d8ed3433d0649d6e25f9973778a9bc5864bd7dec0"
  }
 },
 "nbformat": 4,
 "nbformat_minor": 1
}