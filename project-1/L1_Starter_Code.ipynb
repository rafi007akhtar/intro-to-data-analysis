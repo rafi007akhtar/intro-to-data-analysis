{
 "cells": [
  {
   "source": [
    "# Install dependencies - Done\n",
    "\n",
    "The `unicodecsv` library is needed for reading and manipulating CSV data. Since student enrollment info is in a CSV, we will need this library."
   ],
   "cell_type": "markdown",
   "metadata": {}
  },
  {
   "cell_type": "code",
   "execution_count": 74,
   "metadata": {},
   "outputs": [
    {
     "output_type": "stream",
     "name": "stdout",
     "text": [
      "Collecting numpyWARNING: You are using pip version 20.2.3; however, version 21.2.2 is available.\n",
      "You should consider upgrading via the 'c:\\users\\alimd\\appdata\\local\\programs\\python\\python39\\python.exe -m pip install --upgrade pip' command.\n",
      "\n",
      "  Downloading numpy-1.21.1-cp39-cp39-win_amd64.whl (14.0 MB)\n",
      "Installing collected packages: numpy\n",
      "Successfully installed numpy-1.21.1\n"
     ]
    }
   ],
   "source": [
    "# Uncomment and run the following lines of code to install dependencies, if not already installed\n",
    "#!pip install unicodecsv\n",
    "#!pip install numpy"
   ]
  },
  {
   "source": [
    "## Load Data from CSVs - Done\n",
    "\n",
    "We have the following csv files containing student data.\n",
    "\n",
    "1. enrollments.csv\n",
    "2. daily_engagement.csv\n",
    "3. project_submissions.csv\n",
    "\n",
    "In this section, each of these CSV files is loaded into the code, and stored in Python variables."
   ],
   "cell_type": "markdown",
   "metadata": {}
  },
  {
   "cell_type": "code",
   "execution_count": 11,
   "metadata": {},
   "outputs": [],
   "source": [
    "import unicodecsv\n",
    "\n",
    "## Longer version of code (replaced with shorter, equivalent version below)\n",
    "\n",
    "# enrollments = []\n",
    "# f = open('enrollments.csv', 'rb')\n",
    "# reader = unicodecsv.DictReader(f)\n",
    "# for row in reader:\n",
    "#     enrollments.append(row)\n",
    "# f.close()\n",
    "\n",
    "with open('enrollments.csv', 'rb') as f:\n",
    "    reader = unicodecsv.DictReader(f)    enroollments = list(reader)"
   ]
  },
  {
   "cell_type": "code",
   "execution_count": 12,
   "metadata": {},
   "outputs": [
    {
     "output_type": "stream",
     "name": "stdout",
     "text": [
      "{'acct': '0', 'utc_date': '2015-01-09', 'num_courses_visited': '1.0', 'total_minutes_visited': '11.6793745', 'lessons_completed': '0.0', 'projects_completed': '0.0'}\n{'creation_date': '2015-01-14', 'completion_date': '2015-01-16', 'assigned_rating': 'UNGRADED', 'account_key': '256', 'lesson_key': '3176718735', 'processing_state': 'EVALUATED'}\n"
     ]
    }
   ],
   "source": [
    "#####################################\n",
    "#                 1                 #\n",
    "#####################################\n",
    "\n",
    "## Read in the data from daily_engagement.csv and project_submissions.csv \n",
    "## and store the results in the below variables.\n",
    "## Then look at the first row of each table.\n",
    "\n",
    "def csv_as_list(filename):\n",
    "    with open(filename, 'rb') as f:\n",
    "        csvList = list(unicodecsv.DictReader(f))\n",
    "    return csvList\n",
    "\n",
    "daily_engagement = csv_as_list('daily_engagement.csv')\n",
    "print(daily_engagement[0])\n",
    "project_submissions = csv_as_list('project_submissions.csv')\n",
    "print(project_submissions[0])"
   ]
  },
  {
   "cell_type": "markdown",
   "metadata": {},
   "source": [
    "## Fixing Data Types - Done\n",
    "\n",
    "The second part of Data Wrangling - that is, _Data Cleaning_ - phase begins here."
   ]
  },
  {
   "cell_type": "code",
   "execution_count": 13,
   "metadata": {},
   "outputs": [
    {
     "output_type": "execute_result",
     "data": {
      "text/plain": [
       "{'account_key': '448',\n",
       " 'status': 'canceled',\n",
       " 'join_date': datetime.datetime(2014, 11, 10, 0, 0),\n",
       " 'cancel_date': datetime.datetime(2015, 1, 14, 0, 0),\n",
       " 'days_to_cancel': 65,\n",
       " 'is_udacity': True,\n",
       " 'is_canceled': True}"
      ]
     },
     "metadata": {},
     "execution_count": 13
    }
   ],
   "source": [
    "from datetime import datetime as dt\n",
    "\n",
    "# Takes a date as a string, and returns a Python datetime object. \n",
    "# If there is no date given, returns None\n",
    "def parse_date(date):\n",
    "    if date == '':\n",
    "        return None\n",
    "    else:\n",
    "        return dt.strptime(date, '%Y-%m-%d')\n",
    "    \n",
    "# Takes a string which is either an empty string or represents an integer,\n",
    "# and returns an int or None.\n",
    "def parse_maybe_int(i):\n",
    "    if i == '':\n",
    "        return None\n",
    "    else:\n",
    "        return int(i)\n",
    "\n",
    "# Clean up the data types in the enrollments table\n",
    "for enrollment in enrollments:\n",
    "    enrollment['cancel_date'] = parse_date(enrollment['cancel_date'])\n",
    "    enrollment['days_to_cancel'] = parse_maybe_int(enrollment['days_to_cancel'])\n",
    "    enrollment['is_canceled'] = enrollment['is_canceled'] == 'True'\n",
    "    enrollment['is_udacity'] = enrollment['is_udacity'] == 'True'\n",
    "    enrollment['join_date'] = parse_date(enrollment['join_date'])\n",
    "    \n",
    "enrollments[0]"
   ]
  },
  {
   "cell_type": "code",
   "execution_count": 108,
   "metadata": {
    "tags": []
   },
   "outputs": [],
   "source": [
    "# Commenting out the following block as it was purely for debugging\n",
    "# debug_daily_engagement = csv_as_list('daily_engagement.csv')\n",
    "# extra_minutes = []\n",
    "# for record in debug_daily_engagement:\n",
    "#     print(record['total_minutes_visited'], end=', ')\n",
    "#     minutes = float(record['total_minutes_visited'])\n",
    "#     if minutes >= 24 * 60 or str(minutes) != record['total_minutes_visited']:\n",
    "#         extra_minutes.append(minutes)\n",
    "#         print(minutes)\n",
    "# print(extra_minutes)"
   ]
  },
  {
   "cell_type": "code",
   "execution_count": 14,
   "metadata": {},
   "outputs": [
    {
     "output_type": "execute_result",
     "data": {
      "text/plain": [
       "{'acct': '0',\n",
       " 'utc_date': datetime.datetime(2015, 1, 9, 0, 0),\n",
       " 'num_courses_visited': 1,\n",
       " 'total_minutes_visited': 11.6793745,\n",
       " 'lessons_completed': 0,\n",
       " 'projects_completed': 0}"
      ]
     },
     "metadata": {},
     "execution_count": 14
    }
   ],
   "source": [
    "# Clean up the data types in the engagement table\n",
    "for engagement_record in daily_engagement:\n",
    "    engagement_record['lessons_completed'] = int(float(engagement_record['lessons_completed']))\n",
    "    engagement_record['num_courses_visited'] = int(float(engagement_record['num_courses_visited']))\n",
    "    engagement_record['projects_completed'] = int(float(engagement_record['projects_completed']))\n",
    "    engagement_record['total_minutes_visited'] = float(engagement_record['total_minutes_visited'])\n",
    "    engagement_record['utc_date'] = parse_date(engagement_record['utc_date'])\n",
    "    \n",
    "daily_engagement[0]"
   ]
  },
  {
   "cell_type": "code",
   "execution_count": 15,
   "metadata": {},
   "outputs": [
    {
     "output_type": "execute_result",
     "data": {
      "text/plain": [
       "{'creation_date': datetime.datetime(2015, 1, 14, 0, 0),\n",
       " 'completion_date': datetime.datetime(2015, 1, 16, 0, 0),\n",
       " 'assigned_rating': 'UNGRADED',\n",
       " 'account_key': '256',\n",
       " 'lesson_key': '3176718735',\n",
       " 'processing_state': 'EVALUATED'}"
      ]
     },
     "metadata": {},
     "execution_count": 15
    }
   ],
   "source": [
    "# Clean up the data types in the submissions table\n",
    "for submission in project_submissions:\n",
    "    submission['completion_date'] = parse_date(submission['completion_date'])\n",
    "    submission['creation_date'] = parse_date(submission['creation_date'])\n",
    "\n",
    "project_submissions[0]"
   ]
  },
  {
   "cell_type": "markdown",
   "metadata": {},
   "source": [
    "## Problems in the Data - Done\n",
    "\n",
    "**Note**: I've switched the order of blocks 2 and 3 because the changes in block 3 are needed in some wrangling of block 2."
   ]
  },
  {
   "cell_type": "code",
   "execution_count": 16,
   "metadata": {},
   "outputs": [],
   "source": [
    "#####################################\n",
    "#                 3                 #\n",
    "#####################################\n",
    "\n",
    "## Rename the \"acct\" column in the daily_engagement table to \"account_key\".\n",
    "for engagement in daily_engagement:\n",
    "    temp = engagement['acct']\n",
    "    del engagement['acct']\n",
    "    engagement['account_key'] = temp"
   ]
  },
  {
   "cell_type": "markdown",
   "metadata": {},
   "source": [
    "## Investigating the Data - Done"
   ]
  },
  {
   "cell_type": "code",
   "execution_count": 17,
   "metadata": {},
   "outputs": [
    {
     "output_type": "stream",
     "name": "stdout",
     "text": [
      "1302 1237 743\n"
     ]
    }
   ],
   "source": [
    "#####################################\n",
    "#                 2                 #\n",
    "#####################################\n",
    "\n",
    "## Find the total number of rows and the number of unique students (account keys)\n",
    "## in each table.\n",
    "\n",
    "def investigate(csvList):\n",
    "    csvListLen = len(csvList)\n",
    "    unique_elems = len(set([list_item['account_key'] for list_item in csvList]))\n",
    "    return csvListLen, unique_elems\n",
    "\n",
    "enrollment_num_rows, enrollment_num_unique_students = investigate(enrollments)\n",
    "\n",
    "engagement_num_rows, engagement_num_unique_students = investigate(daily_engagement)\n",
    "\n",
    "submission_num_rows, submission_num_unique_students = investigate(project_submissions)\n",
    "\n",
    "print (enrollment_num_unique_students, engagement_num_unique_students, submission_num_unique_students)"
   ]
  },
  {
   "cell_type": "code",
   "execution_count": 19,
   "metadata": {},
   "outputs": [
    {
     "output_type": "stream",
     "name": "stdout",
     "text": [
      "6\n"
     ]
    }
   ],
   "source": [
    "print(daily_engagement[1000]['account_key'])"
   ]
  },
  {
   "cell_type": "markdown",
   "metadata": {},
   "source": [
    "## Missing Engagement Records - Done\n",
    "\n",
    "So in the above output, the enrollment data is 1302 but engagement data is 1237.\n",
    "Meaning there are students enrolled not having any engagement. Find those students out!"
   ]
  },
  {
   "cell_type": "code",
   "execution_count": 20,
   "metadata": {},
   "outputs": [],
   "source": [
    "#####################################\n",
    "#                 4                 #\n",
    "#####################################\n",
    "\n",
    "## Find any one student enrollments where the student is missing from the daily engagement table.\n",
    "## Output that enrollment.\n",
    "engagement_keys = list(set([engagement['account_key'] for engagement in daily_engagement]))\n",
    "enrolled_students_without_engagement = [student for student in enrollments if student['account_key'] not in engagement_keys]"
   ]
  },
  {
   "cell_type": "code",
   "execution_count": 21,
   "metadata": {},
   "outputs": [
    {
     "output_type": "stream",
     "name": "stdout",
     "text": [
      "{'account_key': '1219', 'status': 'canceled', 'join_date': datetime.datetime(2014, 11, 12, 0, 0), 'cancel_date': datetime.datetime(2014, 11, 12, 0, 0), 'days_to_cancel': 0, 'is_udacity': False, 'is_canceled': True}\n"
     ]
    }
   ],
   "source": [
    "print(enrolled_students_without_engagement[0])"
   ]
  },
  {
   "source": [
    "### Explanation\n",
    "We see there are students who cancelled the same day they enrolled in, which is why they appear in the enrollments table, but not in the engagements table.\n",
    "\n",
    "To see just how many of such students are there, run the following command."
   ],
   "cell_type": "markdown",
   "metadata": {}
  },
  {
   "cell_type": "code",
   "execution_count": 22,
   "metadata": {},
   "outputs": [
    {
     "output_type": "stream",
     "name": "stdout",
     "text": [
      "71\n"
     ]
    }
   ],
   "source": [
    "print(len(enrolled_students_without_engagement))"
   ]
  },
  {
   "cell_type": "markdown",
   "metadata": {},
   "source": [
    "## Checking for More Problem Records - Done"
   ]
  },
  {
   "cell_type": "code",
   "execution_count": 23,
   "metadata": {},
   "outputs": [],
   "source": [
    "#####################################\n",
    "#                 5                 #\n",
    "#####################################\n",
    "\n",
    "## Find the number of surprising data points (enrollments missing from\n",
    "## the engagement table) that remain, if any.\n",
    "students_staying_one_day_min = []\n",
    "for student in enrollments:\n",
    "    if student['account_key'] not in engagement_keys and student['days_to_cancel'] is None:\n",
    "        students_staying_one_day_min.append(student)\n",
    "    elif student['account_key'] not in engagement_keys and student['days_to_cancel'] is not None and student['days_to_cancel'] > 0:\n",
    "        students_staying_one_day_min.append(student)"
   ]
  },
  {
   "cell_type": "code",
   "execution_count": 24,
   "metadata": {},
   "outputs": [
    {
     "output_type": "stream",
     "name": "stdout",
     "text": [
      "3\n"
     ]
    }
   ],
   "source": [
    "print(len(students_staying_one_day_min))"
   ]
  },
  {
   "cell_type": "code",
   "execution_count": 25,
   "metadata": {},
   "outputs": [
    {
     "output_type": "stream",
     "name": "stdout",
     "text": [
      "[{'account_key': '1304', 'status': 'canceled', 'join_date': datetime.datetime(2015, 1, 10, 0, 0), 'cancel_date': datetime.datetime(2015, 3, 10, 0, 0), 'days_to_cancel': 59, 'is_udacity': True, 'is_canceled': True}, {'account_key': '1304', 'status': 'canceled', 'join_date': datetime.datetime(2015, 3, 10, 0, 0), 'cancel_date': datetime.datetime(2015, 6, 17, 0, 0), 'days_to_cancel': 99, 'is_udacity': True, 'is_canceled': True}, {'account_key': '1101', 'status': 'current', 'join_date': datetime.datetime(2015, 2, 25, 0, 0), 'cancel_date': None, 'days_to_cancel': None, 'is_udacity': True, 'is_canceled': False}]\n"
     ]
    }
   ],
   "source": [
    "print(students_staying_one_day_min)"
   ]
  },
  {
   "source": [
    "### Explanation\n",
    "\n",
    "These students are all Udacity test accounts (we can tell since for each of them, `is_udacity` is `True`). There is no guarentee that Udacity test accounts will appear in enrollments."
   ],
   "cell_type": "markdown",
   "metadata": {}
  },
  {
   "cell_type": "markdown",
   "metadata": {},
   "source": [
    "## Tracking Down the Remaining Problems - Done"
   ]
  },
  {
   "cell_type": "code",
   "execution_count": 26,
   "metadata": {
    "collapsed": true
   },
   "outputs": [
    {
     "output_type": "execute_result",
     "data": {
      "text/plain": [
       "6"
      ]
     },
     "metadata": {},
     "execution_count": 26
    }
   ],
   "source": [
    "# Create a set of the account keys for all Udacity test accounts\n",
    "udacity_test_accounts = set()\n",
    "for enrollment in enrollments:\n",
    "    if enrollment['is_udacity']:\n",
    "        udacity_test_accounts.add(enrollment['account_key'])\n",
    "len(udacity_test_accounts)"
   ]
  },
  {
   "cell_type": "code",
   "execution_count": 27,
   "metadata": {
    "collapsed": true
   },
   "outputs": [],
   "source": [
    "# Given some data with an account_key field, removes any records corresponding to Udacity test accounts\n",
    "def remove_udacity_accounts(data):\n",
    "    non_udacity_data = []\n",
    "    for data_point in data:\n",
    "        if data_point['account_key'] not in udacity_test_accounts:\n",
    "            non_udacity_data.append(data_point)\n",
    "    return non_udacity_data"
   ]
  },
  {
   "cell_type": "code",
   "execution_count": 64,
   "metadata": {
    "collapsed": true
   },
   "outputs": [
    {
     "output_type": "stream",
     "name": "stdout",
     "text": [
      "1622\n135656\n3634\n"
     ]
    }
   ],
   "source": [
    "# Remove Udacity test accounts from all three tables\n",
    "non_udacity_enrollments = remove_udacity_accounts(enrollments)\n",
    "non_udacity_engagement = remove_udacity_accounts(daily_engagement)\n",
    "non_udacity_submissions = remove_udacity_accounts(project_submissions)\n",
    "\n",
    "print (len(non_udacity_enrollments))\n",
    "print (len(non_udacity_engagement))\n",
    "print (len(non_udacity_submissions))"
   ]
  },
  {
   "cell_type": "markdown",
   "metadata": {},
   "source": [
    "## Refining the Question - Done\n",
    "\n",
    "Here, we ask the question this data analysis is suppose to answer. Additionally, we are now entering the Exploration Phase.\n",
    "\n",
    "### Question\n",
    "> How do the daily engagement attributes of students who pass their first project differ from those who don't?\n",
    "\n",
    "### Problems\n",
    "1. **`[High]`** The students are most likely to submit their projects during different intervals of time. A student might submit the first project by the end of the first week and another might submit it by the end of the first month, for example. These varying submission times will have varying engagement trends, and hence it is unfair to compare engagement across different ranges of time of students who submit.\n",
    "2. **`[High]`** If you look at all submission info present in `daily_engagement` table, it contains engagement even after the submission of the first project. Those trends are of no use for the question posed, and would lead to incorrect analysis.\n",
    "3. `[Low]` The total amount of info present in the `daily_engagement` table is for the entire course, and not just the project submissions. Hence you will be having a lot of data points that you won't be needing in answering the above question.\n",
    "\n",
    "In order to tackle these problems, we start by eliminating the students who cancelled within the first week."
   ]
  },
  {
   "cell_type": "code",
   "execution_count": 56,
   "metadata": {
    "collapsed": true,
    "tags": []
   },
   "outputs": [
    {
     "output_type": "stream",
     "name": "stdout",
     "text": [
      "995\n"
     ]
    }
   ],
   "source": [
    "#####################################\n",
    "#                 6                 #\n",
    "#####################################\n",
    "\n",
    "## Create a dictionary named paid_students containing all students who either\n",
    "## haven't canceled yet or who remained enrolled for more than 7 days. The keys\n",
    "## should be account keys, and the values should be the date the student enrolled.\n",
    "\n",
    "paid_students = dict()\n",
    "for student in non_udacity_enrollments:\n",
    "    if student['cancel_date'] is None or student['days_to_cancel'] > 7:\n",
    "        account_key = student['account_key']\n",
    "        join_date = student['join_date']\n",
    "\n",
    "        # add this entry to the dictionary only if it is already not there\n",
    "        # and if it is the most recent enrollment\n",
    "        if account_key not in paid_students or join_date > paid_students[account_key]:\n",
    "            paid_students[account_key] = join_date\n",
    "\n",
    "print(len(paid_students))"
   ]
  },
  {
   "cell_type": "markdown",
   "metadata": {},
   "source": [
    "## Getting Data from First Week - Done\n",
    "\n",
    "Next, to compare engagements across the same amount of time of students who have submitted, we extract engagement data in only the first week."
   ]
  },
  {
   "cell_type": "code",
   "execution_count": 116,
   "metadata": {
    "collapsed": true
   },
   "outputs": [],
   "source": [
    "# Takes a student's join date and the date of a specific engagement record,\n",
    "# and returns True if that engagement record happened within one week\n",
    "# of the student joining.\n",
    "def within_one_week(join_date, engagement_date):\n",
    "    time_delta = engagement_date - join_date\n",
    "    # buggy condition:\n",
    "    # return time_delta.days < 7\n",
    "    # correct condition:\n",
    "    return time_delta.days < 7 and time_delta.days >= 0"
   ]
  },
  {
   "cell_type": "code",
   "execution_count": 117,
   "metadata": {
    "collapsed": true
   },
   "outputs": [
    {
     "output_type": "stream",
     "name": "stdout",
     "text": [
      "{'utc_date': datetime.datetime(2015, 1, 9, 0, 0), 'num_courses_visited': 1, 'total_minutes_visited': 11.6793745, 'lessons_completed': 0, 'projects_completed': 0, 'account_key': '0'}\n6919\n"
     ]
    }
   ],
   "source": [
    "#####################################\n",
    "#                 7                 #\n",
    "#####################################\n",
    "\n",
    "## Create a list of rows from the engagement table including only rows where\n",
    "## the student is one of the paid students you just found, and the date is within\n",
    "## one week of the student's join date.\n",
    "\n",
    "paid_engagement_in_first_week = [\n",
    "    engagement for engagement in non_udacity_engagement if engagement['account_key'] in paid_students and within_one_week(paid_students[engagement['account_key']], engagement['utc_date'])\n",
    "]\n",
    "# print(non_udacity_engagement[0])\n",
    "print(paid_engagement_in_first_week[0])\n",
    "print(len(paid_engagement_in_first_week))"
   ]
  },
  {
   "cell_type": "code",
   "execution_count": 118,
   "metadata": {
    "tags": []
   },
   "outputs": [
    {
     "output_type": "stream",
     "name": "stdout",
     "text": [
      "visitnum: 0\n{'utc_date': datetime.datetime(2015, 1, 9, 0, 0), 'num_courses_visited': 1, 'total_minutes_visited': 11.6793745, 'lessons_completed': 0, 'projects_completed': 0, 'account_key': '0'}\nmost: 1030.88319667\n"
     ]
    }
   ],
   "source": [
    "# Commenting out the following block as it was purely for debugging\n",
    "\n",
    "# for record in paid_engagement_in_first_week:\n",
    "#     minutes = 10080\n",
    "#     visited = float(record['total_minutes_visited'])\n",
    "#     visitNum = 0\n",
    "#     if visited >= minutes:\n",
    "#         visitNum += 1\n",
    "#         print(visited, end=\", \")\n",
    "# print(f'visitnum: {visitNum}')\n",
    "# print(paid_engagement_in_first_week[0])\n",
    "\n",
    "# most = 0\n",
    "# for record in paid_engagement_in_first_week:\n",
    "#     if record['total_minutes_visited'] > most:\n",
    "#         most = record['total_minutes_visited']\n",
    "# print(f'most: {most}')\n"
   ]
  },
  {
   "cell_type": "code",
   "execution_count": 119,
   "metadata": {},
   "outputs": [
    {
     "output_type": "stream",
     "name": "stdout",
     "text": [
      "1293\n134549\n3618\n"
     ]
    }
   ],
   "source": [
    "# Now, to go along with the official solution, I would like to create the 3 variables I might need later, containing info of paid students.\n",
    "def filter_out_unpaid_students(data):\n",
    "    paid_data = [\n",
    "        data_point for data_point in data if data_point['account_key'] in paid_students\n",
    "    ]\n",
    "    return paid_data\n",
    "\n",
    "paid_enrollments = filter_out_unpaid_students(non_udacity_enrollments)\n",
    "paid_engagement = filter_out_unpaid_students(non_udacity_engagement)\n",
    "paid_submissions = filter_out_unpaid_students(non_udacity_submissions)\n",
    "\n",
    "print(len(paid_enrollments))\n",
    "print(len(paid_engagement))\n",
    "print(len(paid_submissions))"
   ]
  },
  {
   "cell_type": "markdown",
   "metadata": {},
   "source": [
    "## Exploring Student Engagement - Done"
   ]
  },
  {
   "cell_type": "code",
   "execution_count": 120,
   "metadata": {
    "collapsed": true
   },
   "outputs": [],
   "source": [
    "from collections import defaultdict\n",
    "\n",
    "# Create a dictionary of engagement grouped by student.\n",
    "# The keys are account keys, and the values are lists of engagement records.\n",
    "engagement_by_account = defaultdict(list)\n",
    "for engagement_record in paid_engagement_in_first_week:\n",
    "    account_key = engagement_record['account_key']\n",
    "    engagement_by_account[account_key].append(engagement_record)"
   ]
  },
  {
   "cell_type": "code",
   "execution_count": 121,
   "metadata": {},
   "outputs": [
    {
     "output_type": "stream",
     "name": "stdout",
     "text": [
      "[{'utc_date': datetime.datetime(2015, 1, 9, 0, 0), 'num_courses_visited': 1, 'total_minutes_visited': 11.6793745, 'lessons_completed': 0, 'projects_completed': 0, 'account_key': '0'}, {'utc_date': datetime.datetime(2015, 1, 10, 0, 0), 'num_courses_visited': 2, 'total_minutes_visited': 37.2848873333, 'lessons_completed': 0, 'projects_completed': 0, 'account_key': '0'}, {'utc_date': datetime.datetime(2015, 1, 11, 0, 0), 'num_courses_visited': 2, 'total_minutes_visited': 53.6337463333, 'lessons_completed': 0, 'projects_completed': 0, 'account_key': '0'}, {'utc_date': datetime.datetime(2015, 1, 12, 0, 0), 'num_courses_visited': 1, 'total_minutes_visited': 33.4892696667, 'lessons_completed': 0, 'projects_completed': 0, 'account_key': '0'}, {'utc_date': datetime.datetime(2015, 1, 13, 0, 0), 'num_courses_visited': 1, 'total_minutes_visited': 64.7796776667, 'lessons_completed': 0, 'projects_completed': 0, 'account_key': '0'}, {'utc_date': datetime.datetime(2015, 1, 14, 0, 0), 'num_courses_visited': 1, 'total_minutes_visited': 151.617576833, 'lessons_completed': 1, 'projects_completed': 0, 'account_key': '0'}, {'utc_date': datetime.datetime(2015, 1, 15, 0, 0), 'num_courses_visited': 1, 'total_minutes_visited': 142.395963833, 'lessons_completed': 0, 'projects_completed': 0, 'account_key': '0'}]\n"
     ]
    }
   ],
   "source": [
    "print(engagement_by_account['0'])"
   ]
  },
  {
   "cell_type": "code",
   "execution_count": 109,
   "metadata": {},
   "outputs": [],
   "source": [
    "# Commenting out the following block as it was purely for debugging\n",
    "\n",
    "# debug_engagement_by_account = defaultdict(list)\n",
    "# for debug_engagement in paid_engagement_in_first_week:\n",
    "#     account_key = engagement_record['account_key']\n",
    "#     if debug_engagement not in debug_engagement_by_account['account_key']:\n",
    "#         debug_engagement_by_account[account_key].append(debug_engagement)"
   ]
  },
  {
   "cell_type": "code",
   "execution_count": 110,
   "metadata": {},
   "outputs": [],
   "source": [
    "# print(len(debug_engagement_by_account))\n",
    "# print(len(engagement_by_account))"
   ]
  },
  {
   "cell_type": "code",
   "execution_count": 122,
   "metadata": {
    "collapsed": true
   },
   "outputs": [],
   "source": [
    "# Create a dictionary with the total minutes each student spent in the classroom during the first week.\n",
    "# The keys are account keys, and the values are numbers (total minutes)\n",
    "total_minutes_by_account = {}\n",
    "for account_key, engagement_for_student in engagement_by_account.items():\n",
    "    total_minutes = 0\n",
    "    for engagement_record in engagement_for_student:\n",
    "        total_minutes += engagement_record['total_minutes_visited']\n",
    "    total_minutes_by_account[account_key] = total_minutes"
   ]
  },
  {
   "cell_type": "code",
   "execution_count": 123,
   "metadata": {
    "collapsed": true
   },
   "outputs": [
    {
     "output_type": "stream",
     "name": "stdout",
     "text": [
      "Mean: 306.70832675342825\nStandard deviation: 412.99693340852957\nMinimum: 0.0\nMaximum: 3564.7332644989997\n"
     ]
    }
   ],
   "source": [
    "import numpy as np\n",
    "\n",
    "# Summarize the data about minutes spent in the classroom\n",
    "total_minutes = list(total_minutes_by_account.values())\n",
    "print ('Mean:', np.mean(total_minutes))\n",
    "print ('Standard deviation:', np.std(total_minutes))\n",
    "print ('Minimum:', np.min(total_minutes))\n",
    "print ('Maximum:', np.max(total_minutes))"
   ]
  },
  {
   "source": [
    "### Issue\n",
    "\n",
    "Here we saw that the maximum minutes in a week spent by a student is 10568, but each week only contains 10,080 minutes. So our calculation is impossible, and we will have to investigate the why it is so. The following cell, and many cells above, contain debugging related to finding out the bug, and they are all commented out as they don't add to the code."
   ],
   "cell_type": "markdown",
   "metadata": {}
  },
  {
   "cell_type": "code",
   "execution_count": 111,
   "metadata": {},
   "outputs": [],
   "source": [
    "# Commenting out the following block as it was purely for debugging\n",
    "\n",
    "# most = 0\n",
    "# for minutes in list(total_minutes_by_account.values()):\n",
    "#     if minutes > most:\n",
    "#         most = minutes\n",
    "# print(most)\n",
    "\n",
    "# most = 10080\n",
    "# extra = []\n",
    "# for minutes in list(total_minutes_by_account.values()):\n",
    "#     if minutes > most:\n",
    "#         extra.append(minutes)\n",
    "# print(extra)\n",
    "# print(len(extra))"
   ]
  },
  {
   "cell_type": "markdown",
   "metadata": {},
   "source": [
    "## Debugging Data Analysis Code"
   ]
  },
  {
   "cell_type": "code",
   "execution_count": 124,
   "metadata": {
    "collapsed": true
   },
   "outputs": [],
   "source": [
    "#####################################\n",
    "#                 8                 #\n",
    "#####################################\n",
    "\n",
    "## Go through a similar process as before to see if there is a problem.\n",
    "## Locate at least one surprising piece of data, output it, and take a look at it.\n",
    "\n",
    "# Commenting out the following block as it was purely for debugging\n",
    "\n",
    "# student_with_max_minutes = None\n",
    "# max_minutes = 0\n",
    "\n",
    "# for student, total_minutes in total_minutes_by_account.items():\n",
    "#     if total_minutes > max_minutes:\n",
    "#         max_minutes = total_minutes\n",
    "#         student_with_max_minutes = student\n",
    "# print(max_minutes)\n",
    "# print(student_with_max_minutes)max_minutes = 0\n",
    "\n",
    "# for student, total_minutes in total_minutes_by_account.items():\n",
    "#     if total_minutes > max_minutes:\n",
    "#         max_minutes = total_minutes\n",
    "#         student_with_max_minutes = student\n",
    "# print(max_minutes)\n",
    "# print(student_with_max_minutes)"
   ]
  },
  {
   "cell_type": "code",
   "execution_count": 126,
   "metadata": {
    "tags": []
   },
   "outputs": [],
   "source": [
    "# Commenting out the following block as it was purely for debugging\n",
    "#  for record in paid_engagement_in_first_week:\n",
    "#     if record['account_key'] == student_with_max_minutes:\n",
    "#         print(record)"
   ]
  },
  {
   "source": [
    "### Observation\n",
    "\n",
    "Here we see that the entries are much more than 7, which means when we sliced the data upto the first seven days, we ended up slicing more than that. Which means the `within_one_week` method is incorrect. Looking back at it, we are merely checking if the number of days < 7, but we are not checking if they are greater than 0. So any number less than 7 has its record added to the entry. We need to fix this by adding the needed condition.\n",
    "\n",
    "So the needed condition was added and the cells from that till the np calculations were rerun, after which more possible values showed up!"
   ],
   "cell_type": "markdown",
   "metadata": {}
  },
  {
   "cell_type": "markdown",
   "metadata": {},
   "source": [
    "## Lessons Completed in First Week"
   ]
  },
  {
   "cell_type": "code",
   "execution_count": 127,
   "metadata": {
    "collapsed": true
   },
   "outputs": [
    {
     "output_type": "stream",
     "name": "stdout",
     "text": [
      "Mean: 1.636180904522613\nStd dev: 3.002561299829423\nMin: 0\nMax: 36\n"
     ]
    }
   ],
   "source": [
    "#####################################\n",
    "#                 9                 #\n",
    "#####################################\n",
    "\n",
    "## Adapt the code above to find the mean, standard deviation, minimum, and maximum for\n",
    "## the number of lessons completed by each student during the first week. Try creating\n",
    "## one or more functions to re-use the code above.\n",
    "# key name: lessons_completed\n",
    "\n",
    "def arrange_by_account(key):\n",
    "    total_key_by_account = {}\n",
    "    for account_key, engagement_for_student in engagement_by_account.items():\n",
    "        total_key = 0\n",
    "        for engagement_record in engagement_for_student:\n",
    "            total_key += engagement_record[key]\n",
    "        total_key_by_account[account_key] = total_key\n",
    "    return total_key_by_account\n",
    "\n",
    "def output_stats_of_total(total_stat):\n",
    "    total_lessons = list(total_stat.values())\n",
    "    print(f'Mean: {np.mean(total_lessons)}')\n",
    "    print(f'Std dev: {np.std(total_lessons)}')\n",
    "    print(f'Min: {np.min(total_lessons)}')\n",
    "    print(f'Max: {np.max(total_lessons)}')\n",
    "\n",
    "total_lessons_by_acccount = arrange_by_account('lessons_completed')\n",
    "output_stats_of_total(total_lessons_by_acccount)"
   ]
  },
  {
   "cell_type": "markdown",
   "metadata": {},
   "source": [
    "## Number of Visits in First Week"
   ]
  },
  {
   "cell_type": "code",
   "execution_count": 138,
   "metadata": {
    "collapsed": true
   },
   "outputs": [
    {
     "output_type": "stream",
     "name": "stdout",
     "text": [
      "Mean: 2.8673366834170855\nStd dev: 2.2551980029196814\nMin: 0\nMax: 7\n"
     ]
    }
   ],
   "source": [
    "######################################\n",
    "#                 10                 #\n",
    "######################################\n",
    "\n",
    "## Find the mean, standard deviation, minimum, and maximum for the number of\n",
    "## days each student visits the classroom during the first week.\n",
    "# print('before:')\n",
    "# print(engagement_by_account['0'])\n",
    "\n",
    "for key, row in engagement_by_account.items():\n",
    "    for record in row:\n",
    "        if record['num_courses_visited'] > 0:\n",
    "            record['has_visited'] = 1\n",
    "        else:\n",
    "            record['has_visited'] = 0\n",
    "    engagement_by_account[key] = row\n",
    "\n",
    "# print('after:')\n",
    "# print(engagement_by_account['0'])\n",
    "total_courses_visited = arrange_by_account('has_visited')\n",
    "output_stats_of_total(total_courses_visited)"
   ]
  },
  {
   "cell_type": "markdown",
   "metadata": {},
   "source": [
    "## Splitting out Passing Students"
   ]
  },
  {
   "cell_type": "code",
   "execution_count": 166,
   "metadata": {
    "collapsed": true
   },
   "outputs": [
    {
     "output_type": "stream",
     "name": "stdout",
     "text": [
      "4527\n2392\n"
     ]
    }
   ],
   "source": [
    "######################################\n",
    "#                 11                 #\n",
    "######################################\n",
    "\n",
    "## Create two lists of engagement data for paid students in the first week.\n",
    "## The first list should contain data for students who eventually pass the\n",
    "## subway project, and the second list should contain data for students\n",
    "## who do not.\n",
    "\n",
    "subway_project_lesson_keys = ['746169184', '3176718735']\n",
    "passing_grades = ['PASSED', 'DISTINCTION']\n",
    "\n",
    "passing_submissions_by_account = set()\n",
    "non_passing_submissions_by_account = set()\n",
    "for submission in paid_submissions:\n",
    "    key = submission['account_key']\n",
    "    if submission['lesson_key'] in subway_project_lesson_keys:\n",
    "        if submission['assigned_rating'] in passing_grades:\n",
    "            passing_submissions_by_account.add(key)\n",
    "        else:\n",
    "            non_passing_submissions_by_account.add(key)\n",
    "\n",
    "\n",
    "passing_engagement = []\n",
    "non_passing_engagement = []\n",
    "\n",
    "for record in paid_engagement_in_first_week:\n",
    "    if record['account_key'] in passing_submissions_by_account:\n",
    "        passing_engagement.append(record)\n",
    "    else:\n",
    "        non_passing_engagement.append(record)\n",
    "\n",
    "print(len(passing_engagement))\n",
    "print(len(non_passing_engagement))\n"
   ]
  },
  {
   "cell_type": "markdown",
   "metadata": {},
   "source": [
    "## Comparing the Two Student Groups"
   ]
  },
  {
   "cell_type": "code",
   "execution_count": null,
   "metadata": {
    "collapsed": true
   },
   "outputs": [],
   "source": [
    "######################################\n",
    "#                 12                 #\n",
    "######################################\n",
    "\n",
    "## Compute some metrics you're interested in and see how they differ for\n",
    "## students who pass the subway project vs. students who don't. A good\n",
    "## starting point would be the metrics we looked at earlier (minutes spent\n",
    "## in the classroom, lessons completed, and days visited)."
   ]
  },
  {
   "cell_type": "markdown",
   "metadata": {},
   "source": [
    "## Making Histograms"
   ]
  },
  {
   "cell_type": "code",
   "execution_count": null,
   "metadata": {
    "collapsed": true
   },
   "outputs": [],
   "source": [
    "######################################\n",
    "#                 13                 #\n",
    "######################################\n",
    "\n",
    "## Make histograms of the three metrics we looked at earlier for both\n",
    "## students who passed the subway project and students who didn't. You\n",
    "## might also want to make histograms of any other metrics you examined."
   ]
  },
  {
   "cell_type": "markdown",
   "metadata": {},
   "source": [
    "## Improving Plots and Sharing Findings"
   ]
  },
  {
   "cell_type": "code",
   "execution_count": null,
   "metadata": {
    "collapsed": true
   },
   "outputs": [],
   "source": [
    "######################################\n",
    "#                 14                 #\n",
    "######################################\n",
    "\n",
    "## Make a more polished version of at least one of your visualizations\n",
    "## from earlier. Try importing the seaborn library to make the visualization\n",
    "## look better, adding axis labels and a title, and changing one or more\n",
    "## arguments to the hist() function."
   ]
  }
 ],
 "metadata": {
  "kernelspec": {
   "name": "python3",
   "display_name": "Python 3.9.0 64-bit"
  },
  "language_info": {
   "codemirror_mode": {
    "name": "ipython",
    "version": 3
   },
   "file_extension": ".py",
   "mimetype": "text/x-python",
   "name": "python",
   "nbconvert_exporter": "python",
   "pygments_lexer": "ipython3",
   "version": "3.9.0"
  },
  "interpreter": {
   "hash": "fb28a47e64698fd316ef894d8ed3433d0649d6e25f9973778a9bc5864bd7dec0"
  }
 },
 "nbformat": 4,
 "nbformat_minor": 1
}