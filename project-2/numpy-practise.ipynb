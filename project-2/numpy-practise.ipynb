{
 "cells": [
  {
   "cell_type": "markdown",
   "source": [
    "# Numpy-practise\r\n",
    "\r\n",
    "This notebook will contain some of the numpy exercises done in Lesson 02 of the course."
   ],
   "metadata": {}
  },
  {
   "cell_type": "code",
   "execution_count": 3,
   "source": [
    "# Install dependencies here\r\n",
    "#!pip install pandas"
   ],
   "outputs": [
    {
     "output_type": "stream",
     "name": "stdout",
     "text": [
      "^C\n"
     ]
    }
   ],
   "metadata": {}
  },
  {
   "cell_type": "code",
   "execution_count": 9,
   "source": [
    "# Import dependencies\r\n",
    "\r\n",
    "import unicodecsv\r\n",
    "import pandas as pd\r\n",
    "import numpy as np"
   ],
   "outputs": [],
   "metadata": {}
  },
  {
   "cell_type": "code",
   "execution_count": 7,
   "source": [
    "daily_engagegment = pd.read_csv('../project-1/daily_engagement.csv')"
   ],
   "outputs": [],
   "metadata": {}
  },
  {
   "cell_type": "code",
   "execution_count": 8,
   "source": [
    "len(daily_engagegment['acct'].unique())"
   ],
   "outputs": [
    {
     "output_type": "execute_result",
     "data": {
      "text/plain": [
       "1237"
      ]
     },
     "metadata": {},
     "execution_count": 8
    }
   ],
   "metadata": {}
  },
  {
   "cell_type": "markdown",
   "source": [
    "## Numpy 1D Arrays"
   ],
   "metadata": {}
  },
  {
   "cell_type": "code",
   "execution_count": 10,
   "source": [
    "# Setting the data\r\n",
    "\r\n",
    "# First 20 countries with employment data\r\n",
    "countries = np.array([\r\n",
    "    'Afghanistan', 'Albania', 'Algeria', 'Angola', 'Argentina',\r\n",
    "    'Armenia', 'Australia', 'Austria', 'Azerbaijan', 'Bahamas',\r\n",
    "    'Bahrain', 'Bangladesh', 'Barbados', 'Belarus', 'Belgium',\r\n",
    "    'Belize', 'Benin', 'Bhutan', 'Bolivia',\r\n",
    "    'Bosnia and Herzegovina'\r\n",
    "])\r\n",
    "\r\n",
    "# Employment data in 2007 for those 20 countries\r\n",
    "employment = np.array([\r\n",
    "    55.70000076,  51.40000153,  50.5       ,  75.69999695,\r\n",
    "    58.40000153,  40.09999847,  61.5       ,  57.09999847,\r\n",
    "    60.90000153,  66.59999847,  60.40000153,  68.09999847,\r\n",
    "    66.90000153,  53.40000153,  48.59999847,  56.79999924,\r\n",
    "    71.59999847,  58.40000153,  70.40000153,  41.20000076\r\n",
    "])"
   ],
   "outputs": [],
   "metadata": {}
  },
  {
   "cell_type": "code",
   "execution_count": 12,
   "source": [
    "# Accessing elements\r\n",
    "print (countries[0])\r\n",
    "print (countries[3])"
   ],
   "outputs": [
    {
     "output_type": "stream",
     "name": "stdout",
     "text": [
      "Afghanistan\n",
      "Angola\n"
     ]
    }
   ],
   "metadata": {}
  },
  {
   "cell_type": "code",
   "execution_count": 13,
   "source": [
    "# Slicing\r\n",
    "print (countries[0:3])\r\n",
    "print (countries[:3])\r\n",
    "print (countries[17:])\r\n",
    "print (countries[:])"
   ],
   "outputs": [
    {
     "output_type": "stream",
     "name": "stdout",
     "text": [
      "['Afghanistan' 'Albania' 'Algeria']\n",
      "['Afghanistan' 'Albania' 'Algeria']\n",
      "['Bhutan' 'Bolivia' 'Bosnia and Herzegovina']\n",
      "['Afghanistan' 'Albania' 'Algeria' 'Angola' 'Argentina' 'Armenia'\n",
      " 'Australia' 'Austria' 'Azerbaijan' 'Bahamas' 'Bahrain' 'Bangladesh'\n",
      " 'Barbados' 'Belarus' 'Belgium' 'Belize' 'Benin' 'Bhutan' 'Bolivia'\n",
      " 'Bosnia and Herzegovina']\n"
     ]
    }
   ],
   "metadata": {}
  },
  {
   "cell_type": "code",
   "execution_count": 18,
   "source": [
    "# Element types\r\n",
    "print (countries.dtype)  # U22, since it is a string array in Unicode, and length of the longest string is 22\r\n",
    "print( employment.dtype)\r\n",
    "print (np.array([0, 1, 2, 3]).dtype)\r\n",
    "print (np.array([1.0, 1.5, 2.0, 2.5]).dtype)\r\n",
    "print (np.array([True, False, True]).dtype)\r\n",
    "print (np.array(['AL', 'AK', 'AZ', 'AR', 'CA']).dtype)  # U2, since it a string array with the length of the highest string being 2"
   ],
   "outputs": [
    {
     "output_type": "stream",
     "name": "stdout",
     "text": [
      "<U22\n",
      "float64\n",
      "int32\n",
      "float64\n",
      "bool\n",
      "<U2\n"
     ]
    }
   ],
   "metadata": {}
  },
  {
   "cell_type": "code",
   "execution_count": 15,
   "source": [
    "# Looping\r\n",
    "for country in countries:\r\n",
    "    print (f'Examining country {country}')\r\n",
    "\r\n",
    "for i in range(len(countries)):\r\n",
    "    country = countries[i]\r\n",
    "    country_employment = employment[i]\r\n",
    "    print (f'Country {country} has employment {country_employment}')"
   ],
   "outputs": [
    {
     "output_type": "stream",
     "name": "stdout",
     "text": [
      "Examining country Afghanistan\n",
      "Examining country Albania\n",
      "Examining country Algeria\n",
      "Examining country Angola\n",
      "Examining country Argentina\n",
      "Examining country Armenia\n",
      "Examining country Australia\n",
      "Examining country Austria\n",
      "Examining country Azerbaijan\n",
      "Examining country Bahamas\n",
      "Examining country Bahrain\n",
      "Examining country Bangladesh\n",
      "Examining country Barbados\n",
      "Examining country Belarus\n",
      "Examining country Belgium\n",
      "Examining country Belize\n",
      "Examining country Benin\n",
      "Examining country Bhutan\n",
      "Examining country Bolivia\n",
      "Examining country Bosnia and Herzegovina\n",
      "Country Afghanistan has employment 55.70000076\n",
      "Country Albania has employment 51.40000153\n",
      "Country Algeria has employment 50.5\n",
      "Country Angola has employment 75.69999695\n",
      "Country Argentina has employment 58.40000153\n",
      "Country Armenia has employment 40.09999847\n",
      "Country Australia has employment 61.5\n",
      "Country Austria has employment 57.09999847\n",
      "Country Azerbaijan has employment 60.90000153\n",
      "Country Bahamas has employment 66.59999847\n",
      "Country Bahrain has employment 60.40000153\n",
      "Country Bangladesh has employment 68.09999847\n",
      "Country Barbados has employment 66.90000153\n",
      "Country Belarus has employment 53.40000153\n",
      "Country Belgium has employment 48.59999847\n",
      "Country Belize has employment 56.79999924\n",
      "Country Benin has employment 71.59999847\n",
      "Country Bhutan has employment 58.40000153\n",
      "Country Bolivia has employment 70.40000153\n",
      "Country Bosnia and Herzegovina has employment 41.20000076\n"
     ]
    }
   ],
   "metadata": {}
  },
  {
   "cell_type": "code",
   "execution_count": 16,
   "source": [
    "# Numpy functions\r\n",
    "print (employment.mean())\r\n",
    "print (employment.std())\r\n",
    "print (employment.max())\r\n",
    "print (employment.sum())\r\n",
    "    \r\n",
    "print('length of countries:', len(countries))\r\n",
    "print('length of employment:', len(employment))"
   ],
   "outputs": [
    {
     "output_type": "stream",
     "name": "stdout",
     "text": [
      "58.68500003850001\n",
      "9.338269113687888\n",
      "75.69999695\n",
      "1173.70000077\n",
      "length of countries: 20\n",
      "length of employment: 20\n"
     ]
    }
   ],
   "metadata": {}
  },
  {
   "cell_type": "code",
   "execution_count": 17,
   "source": [
    "def max_employment(countries, employment):\r\n",
    "    '''\r\n",
    "    Fill in this function to return the name of the country\r\n",
    "    with the highest employment in the given employment\r\n",
    "    data, and the employment in that country.\r\n",
    "    '''\r\n",
    "    \r\n",
    "    max_country = None\r\n",
    "    max_value = 0\r\n",
    "    \r\n",
    "    for country, employ in zip(countries, employment):\r\n",
    "        if employ > max_value:\r\n",
    "            max_value = employ\r\n",
    "            max_country = country\r\n",
    "\r\n",
    "    return (max_country, max_value)\r\n",
    "\r\n",
    "print(max_employment(countries, employment))"
   ],
   "outputs": [
    {
     "output_type": "stream",
     "name": "stdout",
     "text": [
      "('Angola', 75.69999695)\n"
     ]
    }
   ],
   "metadata": {}
  },
  {
   "cell_type": "markdown",
   "source": [
    "## Arithmetic and Logical Operations in Numpy"
   ],
   "metadata": {}
  },
  {
   "cell_type": "code",
   "execution_count": 19,
   "source": [
    "# Arithmetic operations between 2 NumPy arrays\r\n",
    "a = np.array([1, 2, 3, 4])\r\n",
    "b = np.array([1, 2, 1, 2])\r\n",
    "\r\n",
    "print (a + b)\r\n",
    "print (a - b)\r\n",
    "print (a * b)\r\n",
    "print (a / b)\r\n",
    "print (a ** b)"
   ],
   "outputs": [
    {
     "output_type": "stream",
     "name": "stdout",
     "text": [
      "[2 4 4 6]\n",
      "[0 0 2 2]\n",
      "[1 4 3 8]\n",
      "[1. 1. 3. 2.]\n",
      "[ 1  4  3 16]\n"
     ]
    }
   ],
   "metadata": {}
  },
  {
   "cell_type": "code",
   "execution_count": 20,
   "source": [
    "# Arithmetic operations between a NumPy array and a single number\r\n",
    "a = np.array([1, 2, 3, 4])\r\n",
    "b = 2\r\n",
    "\r\n",
    "print (a + b)\r\n",
    "print (a - b)\r\n",
    "print (a * b)\r\n",
    "print (a / b)\r\n",
    "print (a ** b)"
   ],
   "outputs": [
    {
     "output_type": "stream",
     "name": "stdout",
     "text": [
      "[3 4 5 6]\n",
      "[-1  0  1  2]\n",
      "[2 4 6 8]\n",
      "[0.5 1.  1.5 2. ]\n",
      "[ 1  4  9 16]\n"
     ]
    }
   ],
   "metadata": {}
  },
  {
   "cell_type": "markdown",
   "source": [
    "### Note on the logical operations in the following cells\r\n",
    "\r\n",
    "The operators used in the below cell for logical operations are `&`, `|` and `~`.\r\n",
    "These qualify to be logical operators only because the arrays used are `bool` in datatype. For `bool` data in numpy, logical and bitwise operations are the same.\r\n",
    "\r\n",
    "**For integer data, though, the above operators will not work as logical operators, and will instead perform bitwise operations.**\r\n",
    "\r\n",
    "Therefore, if you want to perform logical operations on `int` arrays in numpy, used the following _methods_ instead:\r\n",
    "- `np.logical_and(a,b)`\r\n",
    "- `np.logical_or(a,b)`\r\n",
    "- `np.logical_not(a)`"
   ],
   "metadata": {}
  },
  {
   "cell_type": "code",
   "execution_count": 21,
   "source": [
    "# Logical operations with NumPy arrays\r\n",
    "a = np.array([True, True, False, False])\r\n",
    "b = np.array([True, False, True, False])\r\n",
    "\r\n",
    "print (a & b)\r\n",
    "print (a | b)\r\n",
    "print (~a)\r\n",
    "\r\n",
    "print (a & True)\r\n",
    "print (a & False)\r\n",
    "\r\n",
    "print (a | True)\r\n",
    "print (a | False)"
   ],
   "outputs": [
    {
     "output_type": "stream",
     "name": "stdout",
     "text": [
      "[ True False False False]\n",
      "[ True  True  True False]\n",
      "[False False  True  True]\n",
      "[ True  True False False]\n",
      "[False False False False]\n",
      "[ True  True  True  True]\n",
      "[ True  True False False]\n"
     ]
    }
   ],
   "metadata": {}
  },
  {
   "cell_type": "code",
   "execution_count": 22,
   "source": [
    "# Comparison operations between 2 NumPy Arrays\r\n",
    "a = np.array([1, 2, 3, 4, 5])\r\n",
    "b = np.array([5, 4, 3, 2, 1])\r\n",
    "\r\n",
    "print (a > b)\r\n",
    "print (a >= b)\r\n",
    "print (a < b)\r\n",
    "print (a <= b)\r\n",
    "print (a == b)\r\n",
    "print (a != b)"
   ],
   "outputs": [
    {
     "output_type": "stream",
     "name": "stdout",
     "text": [
      "[False False False  True  True]\n",
      "[False False  True  True  True]\n",
      "[ True  True False False False]\n",
      "[ True  True  True False False]\n",
      "[False False  True False False]\n",
      "[ True  True False  True  True]\n"
     ]
    }
   ],
   "metadata": {}
  },
  {
   "cell_type": "code",
   "execution_count": 23,
   "source": [
    "# Comparison operations between a NumPy array and a single number\r\n",
    "a = np.array([1, 2, 3, 4])\r\n",
    "b = 2\r\n",
    "\r\n",
    "print (a > b)\r\n",
    "print (a >= b)\r\n",
    "print (a < b)\r\n",
    "print (a <= b)\r\n",
    "print (a == b)\r\n",
    "print (a != b)"
   ],
   "outputs": [
    {
     "output_type": "stream",
     "name": "stdout",
     "text": [
      "[False False  True  True]\n",
      "[False  True  True  True]\n",
      "[ True False False False]\n",
      "[ True  True False False]\n",
      "[False  True False False]\n",
      "[ True False  True  True]\n"
     ]
    }
   ],
   "metadata": {}
  },
  {
   "cell_type": "code",
   "execution_count": 26,
   "source": [
    "# First 20 countries with school completion data\r\n",
    "countries = np.array([\r\n",
    "       'Algeria', 'Argentina', 'Armenia', 'Aruba', 'Austria','Azerbaijan',\r\n",
    "       'Bahamas', 'Barbados', 'Belarus', 'Belgium', 'Belize', 'Bolivia',\r\n",
    "       'Botswana', 'Brunei', 'Bulgaria', 'Burkina Faso', 'Burundi',\r\n",
    "       'Cambodia', 'Cameroon', 'Cape Verde'\r\n",
    "])\r\n",
    "\r\n",
    "# Female school completion rate in 2007 for those 20 countries\r\n",
    "female_completion = np.array([\r\n",
    "    97.35583,  104.62379,  103.02998,   95.14321,  103.69019,\r\n",
    "    98.49185,  100.88828,   95.43974,   92.11484,   91.54804,\r\n",
    "    95.98029,   98.22902,   96.12179,  119.28105,   97.84627,\r\n",
    "    29.07386,   38.41644,   90.70509,   51.7478 ,   95.45072\r\n",
    "])\r\n",
    "\r\n",
    "# Male school completion rate in 2007 for those 20 countries\r\n",
    "male_completion = np.array([\r\n",
    "     95.47622,  100.66476,   99.7926 ,   91.48936,  103.22096,\r\n",
    "     97.80458,  103.81398,   88.11736,   93.55611,   87.76347,\r\n",
    "    102.45714,   98.73953,   92.22388,  115.3892 ,   98.70502,\r\n",
    "     37.00692,   45.39401,   91.22084,   62.42028,   90.66958\r\n",
    "])\r\n",
    "\r\n",
    "def overall_completion_rate(female_completion, male_completion):\r\n",
    "    '''\r\n",
    "    Fill in this function to return a NumPy array containing the overall\r\n",
    "    school completion rate for each country. The arguments are NumPy\r\n",
    "    arrays giving the female and male completion of each country in\r\n",
    "    the same order.\r\n",
    "    '''\r\n",
    "    return (female_completion + male_completion) / 2.0\r\n",
    "\r\n",
    "overall_completion_rate(female_completion, male_completion)"
   ],
   "outputs": [
    {
     "output_type": "execute_result",
     "data": {
      "text/plain": [
       "array([ 96.416025, 102.644275, 101.41129 ,  93.316285, 103.455575,\n",
       "        98.148215, 102.35113 ,  91.77855 ,  92.835475,  89.655755,\n",
       "        99.218715,  98.484275,  94.172835, 117.335125,  98.275645,\n",
       "        33.04039 ,  41.905225,  90.962965,  57.08404 ,  93.06015 ])"
      ]
     },
     "metadata": {},
     "execution_count": 26
    }
   ],
   "metadata": {}
  },
  {
   "cell_type": "markdown",
   "source": [
    "## Numpy index arrays\r\n",
    "\r\n",
    "The index of an array can be another boolean array. The returned array will be a slice of the original array containing the elements whose indices corresponded to the `True` placed of the boolean array."
   ],
   "metadata": {}
  },
  {
   "cell_type": "code",
   "execution_count": 27,
   "source": [
    "# Using index arrays\r\n",
    "a = np.array([1, 2, 3, 4])\r\n",
    "b = np.array([True, True, False, False])\r\n",
    "\r\n",
    "print (a[b])\r\n",
    "print (a[np.array([True, False, True, False])])"
   ],
   "outputs": [
    {
     "output_type": "stream",
     "name": "stdout",
     "text": [
      "[1 2]\n",
      "[1 3]\n"
     ]
    }
   ],
   "metadata": {}
  },
  {
   "cell_type": "code",
   "execution_count": 28,
   "source": [
    "# Creating the index array using vectorized operations\r\n",
    "a = np.array([1, 2, 3, 2, 1])\r\n",
    "b = (a >= 2)\r\n",
    "\r\n",
    "print (a[b])\r\n",
    "print (a[a >= 2])"
   ],
   "outputs": [
    {
     "output_type": "stream",
     "name": "stdout",
     "text": [
      "[2 3 2]\n",
      "[2 3 2]\n"
     ]
    }
   ],
   "metadata": {}
  },
  {
   "cell_type": "code",
   "execution_count": 29,
   "source": [
    "# Creating the index array using vectorized operations on another array\r\n",
    "a = np.array([1, 2, 3, 4, 5])\r\n",
    "b = np.array([1, 2, 3, 2, 1])\r\n",
    "\r\n",
    "print (b == 2)\r\n",
    "print (a[b == 2])"
   ],
   "outputs": [
    {
     "output_type": "stream",
     "name": "stdout",
     "text": [
      "[False  True False  True False]\n",
      "[2 4]\n"
     ]
    }
   ],
   "metadata": {}
  },
  {
   "cell_type": "code",
   "execution_count": 31,
   "source": [
    "def mean_time_for_paid_students(time_spent, days_to_cancel):\r\n",
    "    '''\r\n",
    "    Fill in this function to calculate the mean time spent in the classroom\r\n",
    "    for students who stayed enrolled at least (greater than or equal to) 7 days.\r\n",
    "    Unlike in Lesson 1, you can assume that days_to_cancel will contain only\r\n",
    "    integers (there are no students who have not canceled yet).\r\n",
    "    \r\n",
    "    The arguments are NumPy arrays. time_spent contains the amount of time spent\r\n",
    "    in the classroom for each student, and days_to_cancel contains the number\r\n",
    "    of days until each student cancel. The data is given in the same order\r\n",
    "    in both arrays.\r\n",
    "    '''\r\n",
    "    return np.mean(time_spent[days_to_cancel >= 7])\r\n",
    "\r\n",
    "# Time spent in the classroom in the first week for 20 students\r\n",
    "time_spent = np.array([\r\n",
    "       12.89697233,    0.        ,   64.55043217,    0.        ,\r\n",
    "       24.2315615 ,   39.991625  ,    0.        ,    0.        ,\r\n",
    "      147.20683783,    0.        ,    0.        ,    0.        ,\r\n",
    "       45.18261617,  157.60454283,  133.2434615 ,   52.85000767,\r\n",
    "        0.        ,   54.9204785 ,   26.78142417,    0.\r\n",
    "])\r\n",
    "\r\n",
    "# Days to cancel for 20 students\r\n",
    "days_to_cancel = np.array([\r\n",
    "      4,   5,  37,   3,  12,   4,  35,  38,   5,  37,   3,   3,  68,\r\n",
    "     38,  98,   2, 249,   2, 127,  35\r\n",
    "])\r\n",
    "\r\n",
    "print(mean_time_for_paid_students(time_spent, days_to_cancel))"
   ],
   "outputs": [
    {
     "output_type": "stream",
     "name": "stdout",
     "text": [
      "41.05400348545454\n"
     ]
    }
   ],
   "metadata": {}
  },
  {
   "cell_type": "markdown",
   "source": [
    "## In-place vs Not in-place\r\n",
    "\r\n",
    "In-place operations happen in the same variable. They update the values of the variables without creating a new variablle.\r\n",
    "\r\n",
    "**Example:** The `+` operator creates a new array while adding two arrays, whereas the `+=` operator does the changes in-place."
   ],
   "metadata": {}
  },
  {
   "cell_type": "code",
   "execution_count": 40,
   "source": [
    "# Testing +\r\n",
    "a = np.array([1,2,3,4,5])\r\n",
    "b = a\r\n",
    "c = np.array([1,1,1,1,1])\r\n",
    "print(f'a = {a} \\nb = a = {b} \\nc = {c}')\r\n",
    "a = a + c\r\n",
    "print(f'b (after a = a+c) = {b}')  # `b` will have no change, as `a+b` is a new array\r\n",
    "\r\n",
    "print()\r\n",
    "\r\n",
    "# Testing +=\r\n",
    "a = np.array([1,2,3,4,5])\r\n",
    "b = a\r\n",
    "c = np.array([1,1,1,1,1])\r\n",
    "print(f'a = {a} \\nb = a = {b} \\nc = {c}')\r\n",
    "a += c\r\n",
    "print(f'b (after a += c) = {b}')  # `b` will take the value of `a` as the operation is done in-place"
   ],
   "outputs": [
    {
     "output_type": "stream",
     "name": "stdout",
     "text": [
      "a = [1 2 3 4 5] \n",
      "b = a = [1 2 3 4 5] \n",
      "c = [1 1 1 1 1]\n",
      "b (after a = a+c) = [1 2 3 4 5]\n",
      "\n",
      "a = [1 2 3 4 5] \n",
      "b = a = [1 2 3 4 5] \n",
      "c = [1 1 1 1 1]\n",
      "b (after a += c) = [2 3 4 5 6]\n"
     ]
    }
   ],
   "metadata": {}
  },
  {
   "cell_type": "markdown",
   "source": [
    "**Another example.** Slicing is in-place in numpy arrays, but not in traditional Python lists."
   ],
   "metadata": {}
  },
  {
   "cell_type": "code",
   "execution_count": 43,
   "source": [
    "# Slicing in Python lists\r\n",
    "a = [1, 2, 3, 4, 5]\r\n",
    "segment = a[:3]  # new array; not in place\r\n",
    "segment[0] = 10\r\n",
    "print(a)\r\n",
    "\r\n",
    "a = np.array([1, 2, 3, 4, 5])\r\n",
    "segment = a[:3]\r\n",
    "segment[0] = 10  # change will happen in same array since in place\r\n",
    "print(a)"
   ],
   "outputs": [
    {
     "output_type": "stream",
     "name": "stdout",
     "text": [
      "[1, 2, 3, 4, 5]\n",
      "[10  2  3  4  5]\n"
     ]
    }
   ],
   "metadata": {}
  },
  {
   "cell_type": "code",
   "execution_count": null,
   "source": [],
   "outputs": [],
   "metadata": {}
  }
 ],
 "metadata": {
  "orig_nbformat": 4,
  "language_info": {
   "name": "python",
   "version": "3.9.0",
   "mimetype": "text/x-python",
   "codemirror_mode": {
    "name": "ipython",
    "version": 3
   },
   "pygments_lexer": "ipython3",
   "nbconvert_exporter": "python",
   "file_extension": ".py"
  },
  "kernelspec": {
   "name": "python3",
   "display_name": "Python 3.9.0 64-bit"
  },
  "interpreter": {
   "hash": "fb28a47e64698fd316ef894d8ed3433d0649d6e25f9973778a9bc5864bd7dec0"
  }
 },
 "nbformat": 4,
 "nbformat_minor": 2
}