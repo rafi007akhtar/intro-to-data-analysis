{
 "cells": [
  {
   "cell_type": "markdown",
   "source": [
    "# Numpy-practise\r\n",
    "\r\n",
    "This notebook will contain some of the numpy exercises done in Lesson 02 of the course."
   ],
   "metadata": {}
  },
  {
   "cell_type": "code",
   "execution_count": 3,
   "source": [
    "# Install dependencies here\r\n",
    "#!pip install pandas"
   ],
   "outputs": [
    {
     "output_type": "stream",
     "name": "stdout",
     "text": [
      "^C\n"
     ]
    }
   ],
   "metadata": {}
  },
  {
   "cell_type": "code",
   "execution_count": 9,
   "source": [
    "# Import dependencies\r\n",
    "\r\n",
    "import unicodecsv\r\n",
    "import pandas as pd\r\n",
    "import numpy as np"
   ],
   "outputs": [],
   "metadata": {}
  },
  {
   "cell_type": "code",
   "execution_count": 7,
   "source": [
    "daily_engagegment = pd.read_csv('../project-1/daily_engagement.csv')"
   ],
   "outputs": [],
   "metadata": {}
  },
  {
   "cell_type": "code",
   "execution_count": 8,
   "source": [
    "len(daily_engagegment['acct'].unique())"
   ],
   "outputs": [
    {
     "output_type": "execute_result",
     "data": {
      "text/plain": [
       "1237"
      ]
     },
     "metadata": {},
     "execution_count": 8
    }
   ],
   "metadata": {}
  },
  {
   "cell_type": "markdown",
   "source": [
    "## Numpy 1D Arrays"
   ],
   "metadata": {}
  },
  {
   "cell_type": "code",
   "execution_count": 10,
   "source": [
    "# Setting the data\r\n",
    "\r\n",
    "# First 20 countries with employment data\r\n",
    "countries = np.array([\r\n",
    "    'Afghanistan', 'Albania', 'Algeria', 'Angola', 'Argentina',\r\n",
    "    'Armenia', 'Australia', 'Austria', 'Azerbaijan', 'Bahamas',\r\n",
    "    'Bahrain', 'Bangladesh', 'Barbados', 'Belarus', 'Belgium',\r\n",
    "    'Belize', 'Benin', 'Bhutan', 'Bolivia',\r\n",
    "    'Bosnia and Herzegovina'\r\n",
    "])\r\n",
    "\r\n",
    "# Employment data in 2007 for those 20 countries\r\n",
    "employment = np.array([\r\n",
    "    55.70000076,  51.40000153,  50.5       ,  75.69999695,\r\n",
    "    58.40000153,  40.09999847,  61.5       ,  57.09999847,\r\n",
    "    60.90000153,  66.59999847,  60.40000153,  68.09999847,\r\n",
    "    66.90000153,  53.40000153,  48.59999847,  56.79999924,\r\n",
    "    71.59999847,  58.40000153,  70.40000153,  41.20000076\r\n",
    "])"
   ],
   "outputs": [],
   "metadata": {}
  },
  {
   "cell_type": "code",
   "execution_count": 12,
   "source": [
    "# Accessing elements\r\n",
    "print (countries[0])\r\n",
    "print (countries[3])"
   ],
   "outputs": [
    {
     "output_type": "stream",
     "name": "stdout",
     "text": [
      "Afghanistan\n",
      "Angola\n"
     ]
    }
   ],
   "metadata": {}
  },
  {
   "cell_type": "code",
   "execution_count": 13,
   "source": [
    "# Slicing\r\n",
    "print (countries[0:3])\r\n",
    "print (countries[:3])\r\n",
    "print (countries[17:])\r\n",
    "print (countries[:])"
   ],
   "outputs": [
    {
     "output_type": "stream",
     "name": "stdout",
     "text": [
      "['Afghanistan' 'Albania' 'Algeria']\n",
      "['Afghanistan' 'Albania' 'Algeria']\n",
      "['Bhutan' 'Bolivia' 'Bosnia and Herzegovina']\n",
      "['Afghanistan' 'Albania' 'Algeria' 'Angola' 'Argentina' 'Armenia'\n",
      " 'Australia' 'Austria' 'Azerbaijan' 'Bahamas' 'Bahrain' 'Bangladesh'\n",
      " 'Barbados' 'Belarus' 'Belgium' 'Belize' 'Benin' 'Bhutan' 'Bolivia'\n",
      " 'Bosnia and Herzegovina']\n"
     ]
    }
   ],
   "metadata": {}
  },
  {
   "cell_type": "code",
   "execution_count": 18,
   "source": [
    "# Element types\r\n",
    "print (countries.dtype)  # U22, since it is a string array in Unicode, and length of the longest string is 22\r\n",
    "print( employment.dtype)\r\n",
    "print (np.array([0, 1, 2, 3]).dtype)\r\n",
    "print (np.array([1.0, 1.5, 2.0, 2.5]).dtype)\r\n",
    "print (np.array([True, False, True]).dtype)\r\n",
    "print (np.array(['AL', 'AK', 'AZ', 'AR', 'CA']).dtype)  # U2, since it a string array with the length of the highest string being 2"
   ],
   "outputs": [
    {
     "output_type": "stream",
     "name": "stdout",
     "text": [
      "<U22\n",
      "float64\n",
      "int32\n",
      "float64\n",
      "bool\n",
      "<U2\n"
     ]
    }
   ],
   "metadata": {}
  },
  {
   "cell_type": "code",
   "execution_count": 15,
   "source": [
    "# Looping\r\n",
    "for country in countries:\r\n",
    "    print (f'Examining country {country}')\r\n",
    "\r\n",
    "for i in range(len(countries)):\r\n",
    "    country = countries[i]\r\n",
    "    country_employment = employment[i]\r\n",
    "    print (f'Country {country} has employment {country_employment}')"
   ],
   "outputs": [
    {
     "output_type": "stream",
     "name": "stdout",
     "text": [
      "Examining country Afghanistan\n",
      "Examining country Albania\n",
      "Examining country Algeria\n",
      "Examining country Angola\n",
      "Examining country Argentina\n",
      "Examining country Armenia\n",
      "Examining country Australia\n",
      "Examining country Austria\n",
      "Examining country Azerbaijan\n",
      "Examining country Bahamas\n",
      "Examining country Bahrain\n",
      "Examining country Bangladesh\n",
      "Examining country Barbados\n",
      "Examining country Belarus\n",
      "Examining country Belgium\n",
      "Examining country Belize\n",
      "Examining country Benin\n",
      "Examining country Bhutan\n",
      "Examining country Bolivia\n",
      "Examining country Bosnia and Herzegovina\n",
      "Country Afghanistan has employment 55.70000076\n",
      "Country Albania has employment 51.40000153\n",
      "Country Algeria has employment 50.5\n",
      "Country Angola has employment 75.69999695\n",
      "Country Argentina has employment 58.40000153\n",
      "Country Armenia has employment 40.09999847\n",
      "Country Australia has employment 61.5\n",
      "Country Austria has employment 57.09999847\n",
      "Country Azerbaijan has employment 60.90000153\n",
      "Country Bahamas has employment 66.59999847\n",
      "Country Bahrain has employment 60.40000153\n",
      "Country Bangladesh has employment 68.09999847\n",
      "Country Barbados has employment 66.90000153\n",
      "Country Belarus has employment 53.40000153\n",
      "Country Belgium has employment 48.59999847\n",
      "Country Belize has employment 56.79999924\n",
      "Country Benin has employment 71.59999847\n",
      "Country Bhutan has employment 58.40000153\n",
      "Country Bolivia has employment 70.40000153\n",
      "Country Bosnia and Herzegovina has employment 41.20000076\n"
     ]
    }
   ],
   "metadata": {}
  },
  {
   "cell_type": "code",
   "execution_count": 16,
   "source": [
    "# Numpy functions\r\n",
    "print (employment.mean())\r\n",
    "print (employment.std())\r\n",
    "print (employment.max())\r\n",
    "print (employment.sum())\r\n",
    "    \r\n",
    "print('length of countries:', len(countries))\r\n",
    "print('length of employment:', len(employment))"
   ],
   "outputs": [
    {
     "output_type": "stream",
     "name": "stdout",
     "text": [
      "58.68500003850001\n",
      "9.338269113687888\n",
      "75.69999695\n",
      "1173.70000077\n",
      "length of countries: 20\n",
      "length of employment: 20\n"
     ]
    }
   ],
   "metadata": {}
  },
  {
   "cell_type": "code",
   "execution_count": 17,
   "source": [
    "def max_employment(countries, employment):\r\n",
    "    '''\r\n",
    "    Fill in this function to return the name of the country\r\n",
    "    with the highest employment in the given employment\r\n",
    "    data, and the employment in that country.\r\n",
    "    '''\r\n",
    "    \r\n",
    "    max_country = None\r\n",
    "    max_value = 0\r\n",
    "    \r\n",
    "    for country, employ in zip(countries, employment):\r\n",
    "        if employ > max_value:\r\n",
    "            max_value = employ\r\n",
    "            max_country = country\r\n",
    "\r\n",
    "    return (max_country, max_value)\r\n",
    "\r\n",
    "print(max_employment(countries, employment))"
   ],
   "outputs": [
    {
     "output_type": "stream",
     "name": "stdout",
     "text": [
      "('Angola', 75.69999695)\n"
     ]
    }
   ],
   "metadata": {}
  },
  {
   "cell_type": "code",
   "execution_count": null,
   "source": [],
   "outputs": [],
   "metadata": {}
  }
 ],
 "metadata": {
  "orig_nbformat": 4,
  "language_info": {
   "name": "python",
   "version": "3.9.0",
   "mimetype": "text/x-python",
   "codemirror_mode": {
    "name": "ipython",
    "version": 3
   },
   "pygments_lexer": "ipython3",
   "nbconvert_exporter": "python",
   "file_extension": ".py"
  },
  "kernelspec": {
   "name": "python3",
   "display_name": "Python 3.9.0 64-bit"
  },
  "interpreter": {
   "hash": "fb28a47e64698fd316ef894d8ed3433d0649d6e25f9973778a9bc5864bd7dec0"
  }
 },
 "nbformat": 4,
 "nbformat_minor": 2
}