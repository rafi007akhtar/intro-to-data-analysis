{
 "cells": [
  {
   "cell_type": "markdown",
   "source": [
    "# Pandas-practise\r\n",
    "\r\n",
    "This notebook will contain code to practise Pandas as done in Lesson 02 of the course"
   ],
   "metadata": {}
  },
  {
   "cell_type": "markdown",
   "source": [
    "## Pandas basics"
   ],
   "metadata": {}
  },
  {
   "cell_type": "code",
   "execution_count": 1,
   "source": [
    "# Import dependencies\r\n",
    "import pandas as pd"
   ],
   "outputs": [],
   "metadata": {}
  },
  {
   "cell_type": "code",
   "execution_count": 2,
   "source": [
    "# Set up the data needed\r\n",
    "countries = [\r\n",
    "    'Albania', 'Algeria', 'Andorra', 'Angola', 'Antigua and Barbuda',\r\n",
    "    'Argentina', 'Armenia', 'Australia', 'Austria', 'Azerbaijan',\r\n",
    "    'Bahamas', 'Bahrain', 'Bangladesh', 'Barbados', 'Belarus',\r\n",
    "    'Belgium', 'Belize', 'Benin', 'Bhutan', 'Bolivia'\r\n",
    "]\r\n",
    "\r\n",
    "life_expectancy_values = [\r\n",
    "    74.7,  75. ,  83.4,  57.6,  74.6,  75.4,  72.3,  81.5,  80.2,\r\n",
    "    70.3,  72.1,  76.4,  68.1,  75.2,  69.8,  79.4,  70.8,  62.7,\r\n",
    "    67.3,  70.6\r\n",
    "]\r\n",
    "\r\n",
    "gdp_values = [\r\n",
    "    1681.61390973,   2155.48523109,  21495.80508273,    562.98768478,\r\n",
    "    13495.1274663 ,   9388.68852258,   1424.19056199,  24765.54890176,\r\n",
    "    27036.48733192,   1945.63754911,  21721.61840978,  13373.21993972,\r\n",
    "    483.97086804,   9783.98417323,   2253.46411147,  25034.66692293,\r\n",
    "    3680.91642923,    366.04496652,   1175.92638695,   1132.21387981\r\n",
    "]"
   ],
   "outputs": [],
   "metadata": {}
  },
  {
   "cell_type": "markdown",
   "source": [
    "### Pandas Series\r\n",
    "Pandas Series are n-dimensional arrays (much like Numpy arrays), but with greater functionalities."
   ],
   "metadata": {}
  },
  {
   "cell_type": "code",
   "execution_count": 7,
   "source": [
    "# Create pd Series for life expectancy and GDP arrays\r\n",
    "\r\n",
    "life_expectancy = pd.Series(life_expectancy_values)\r\n",
    "gdp = pd.Series(gdp_values)\r\n",
    "print(f'life expectancy series (first 5 values): \\n{life_expectancy[:5]}')\r\n",
    "print()\r\n",
    "print(f'GDP series (first 5 values): \\n{gdp[:5]}')"
   ],
   "outputs": [
    {
     "output_type": "stream",
     "name": "stdout",
     "text": [
      "life expectancy series (first 5 values): \n",
      "0    74.7\n",
      "1    75.0\n",
      "2    83.4\n",
      "3    57.6\n",
      "4    74.6\n",
      "dtype: float64\n",
      "\n",
      "GDP series (first 5 values): \n",
      "0     1681.613910\n",
      "1     2155.485231\n",
      "2    21495.805083\n",
      "3      562.987685\n",
      "4    13495.127466\n",
      "dtype: float64\n"
     ]
    }
   ],
   "metadata": {}
  },
  {
   "cell_type": "code",
   "execution_count": null,
   "source": [],
   "outputs": [],
   "metadata": {}
  }
 ],
 "metadata": {
  "orig_nbformat": 4,
  "language_info": {
   "name": "python",
   "version": "3.9.0",
   "mimetype": "text/x-python",
   "codemirror_mode": {
    "name": "ipython",
    "version": 3
   },
   "pygments_lexer": "ipython3",
   "nbconvert_exporter": "python",
   "file_extension": ".py"
  },
  "kernelspec": {
   "name": "python3",
   "display_name": "Python 3.9.0 64-bit"
  },
  "interpreter": {
   "hash": "fb28a47e64698fd316ef894d8ed3433d0649d6e25f9973778a9bc5864bd7dec0"
  }
 },
 "nbformat": 4,
 "nbformat_minor": 2
}