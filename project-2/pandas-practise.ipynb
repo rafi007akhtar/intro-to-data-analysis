{
 "cells": [
  {
   "cell_type": "markdown",
   "source": [
    "# Pandas-practise\r\n",
    "\r\n",
    "This notebook will contain code to practise Pandas as done in Lesson 02 of the course"
   ],
   "metadata": {}
  },
  {
   "cell_type": "markdown",
   "source": [
    "## Pandas basics"
   ],
   "metadata": {}
  },
  {
   "cell_type": "code",
   "execution_count": 1,
   "source": [
    "# Import dependencies\r\n",
    "import pandas as pd"
   ],
   "outputs": [],
   "metadata": {}
  },
  {
   "cell_type": "code",
   "execution_count": 2,
   "source": [
    "# Set up the data needed\r\n",
    "countries = [\r\n",
    "    'Albania', 'Algeria', 'Andorra', 'Angola', 'Antigua and Barbuda',\r\n",
    "    'Argentina', 'Armenia', 'Australia', 'Austria', 'Azerbaijan',\r\n",
    "    'Bahamas', 'Bahrain', 'Bangladesh', 'Barbados', 'Belarus',\r\n",
    "    'Belgium', 'Belize', 'Benin', 'Bhutan', 'Bolivia'\r\n",
    "]\r\n",
    "\r\n",
    "life_expectancy_values = [\r\n",
    "    74.7,  75. ,  83.4,  57.6,  74.6,  75.4,  72.3,  81.5,  80.2,\r\n",
    "    70.3,  72.1,  76.4,  68.1,  75.2,  69.8,  79.4,  70.8,  62.7,\r\n",
    "    67.3,  70.6\r\n",
    "]\r\n",
    "\r\n",
    "gdp_values = [\r\n",
    "    1681.61390973,   2155.48523109,  21495.80508273,    562.98768478,\r\n",
    "    13495.1274663 ,   9388.68852258,   1424.19056199,  24765.54890176,\r\n",
    "    27036.48733192,   1945.63754911,  21721.61840978,  13373.21993972,\r\n",
    "    483.97086804,   9783.98417323,   2253.46411147,  25034.66692293,\r\n",
    "    3680.91642923,    366.04496652,   1175.92638695,   1132.21387981\r\n",
    "]"
   ],
   "outputs": [],
   "metadata": {}
  },
  {
   "cell_type": "markdown",
   "source": [
    "### Pandas Series\r\n",
    "Pandas Series are n-dimensional arrays (much like Numpy arrays), but with greater functionalities."
   ],
   "metadata": {}
  },
  {
   "cell_type": "code",
   "execution_count": 7,
   "source": [
    "# Create pd Series for life expectancy and GDP arrays\r\n",
    "\r\n",
    "life_expectancy = pd.Series(life_expectancy_values)\r\n",
    "gdp = pd.Series(gdp_values)\r\n",
    "print(f'life expectancy series (first 5 values): \\n{life_expectancy[:5]}')\r\n",
    "print()\r\n",
    "print(f'GDP series (first 5 values): \\n{gdp[:5]}')"
   ],
   "outputs": [
    {
     "output_type": "stream",
     "name": "stdout",
     "text": [
      "life expectancy series (first 5 values): \n",
      "0    74.7\n",
      "1    75.0\n",
      "2    83.4\n",
      "3    57.6\n",
      "4    74.6\n",
      "dtype: float64\n",
      "\n",
      "GDP series (first 5 values): \n",
      "0     1681.613910\n",
      "1     2155.485231\n",
      "2    21495.805083\n",
      "3      562.987685\n",
      "4    13495.127466\n",
      "dtype: float64\n"
     ]
    }
   ],
   "metadata": {}
  },
  {
   "cell_type": "code",
   "execution_count": 8,
   "source": [
    "# Accessing elements and slicing\r\n",
    "print (life_expectancy[0])\r\n",
    "print (gdp[3:6])"
   ],
   "outputs": [
    {
     "output_type": "stream",
     "name": "stdout",
     "text": [
      "74.7\n",
      "3      562.987685\n",
      "4    13495.127466\n",
      "5     9388.688523\n",
      "dtype: float64\n"
     ]
    }
   ],
   "metadata": {}
  },
  {
   "cell_type": "code",
   "execution_count": 10,
   "source": [
    "# Looping\r\n",
    "for country_life_expectancy in life_expectancy:\r\n",
    "    print ('Examining life expectancy {}'.format(country_life_expectancy))"
   ],
   "outputs": [
    {
     "output_type": "stream",
     "name": "stdout",
     "text": [
      "Examining life expectancy 74.7\n",
      "Examining life expectancy 75.0\n",
      "Examining life expectancy 83.4\n",
      "Examining life expectancy 57.6\n",
      "Examining life expectancy 74.6\n",
      "Examining life expectancy 75.4\n",
      "Examining life expectancy 72.3\n",
      "Examining life expectancy 81.5\n",
      "Examining life expectancy 80.2\n",
      "Examining life expectancy 70.3\n",
      "Examining life expectancy 72.1\n",
      "Examining life expectancy 76.4\n",
      "Examining life expectancy 68.1\n",
      "Examining life expectancy 75.2\n",
      "Examining life expectancy 69.8\n",
      "Examining life expectancy 79.4\n",
      "Examining life expectancy 70.8\n",
      "Examining life expectancy 62.7\n",
      "Examining life expectancy 67.3\n",
      "Examining life expectancy 70.6\n"
     ]
    }
   ],
   "metadata": {}
  },
  {
   "cell_type": "code",
   "execution_count": 11,
   "source": [
    "# Pandas functions\r\n",
    "print (life_expectancy.mean())\r\n",
    "print (life_expectancy.std())\r\n",
    "print (gdp.max())\r\n",
    "print (gdp.sum())"
   ],
   "outputs": [
    {
     "output_type": "stream",
     "name": "stdout",
     "text": [
      "72.86999999999999\n",
      "6.213999474869968\n",
      "27036.48733192\n",
      "182957.59832967006\n"
     ]
    }
   ],
   "metadata": {}
  },
  {
   "cell_type": "code",
   "execution_count": 12,
   "source": [
    "# Vectorized operations and index arrays\r\n",
    "a = pd.Series([1, 2, 3, 4])\r\n",
    "b = pd.Series([1, 2, 1, 2])\r\n",
    "\r\n",
    "print (a + b)\r\n",
    "print (a * 2)\r\n",
    "print (a >= 3)\r\n",
    "print (a[a >= 3])"
   ],
   "outputs": [
    {
     "output_type": "stream",
     "name": "stdout",
     "text": [
      "0    2\n",
      "1    4\n",
      "2    4\n",
      "3    6\n",
      "dtype: int64\n",
      "0    2\n",
      "1    4\n",
      "2    6\n",
      "3    8\n",
      "dtype: int64\n",
      "0    False\n",
      "1    False\n",
      "2     True\n",
      "3     True\n",
      "dtype: bool\n",
      "2    3\n",
      "3    4\n",
      "dtype: int64\n"
     ]
    }
   ],
   "metadata": {}
  },
  {
   "cell_type": "code",
   "execution_count": 14,
   "source": [
    "a1 = pd.Series([True, True, False])\r\n",
    "a2 = pd.Series([False, True, False])\r\n",
    "(a1 == a2).sum()"
   ],
   "outputs": [
    {
     "output_type": "execute_result",
     "data": {
      "text/plain": [
       "2"
      ]
     },
     "metadata": {},
     "execution_count": 14
    }
   ],
   "metadata": {}
  },
  {
   "cell_type": "code",
   "execution_count": 18,
   "source": [
    "def variable_correlation(variable1, variable2):\r\n",
    "    '''\r\n",
    "    Fill in this function to calculate the number of data points for which\r\n",
    "    the directions of variable1 and variable2 relative to the mean are the\r\n",
    "    same, and the number of data points for which they are different.\r\n",
    "    Direction here means whether each value is above or below its mean.\r\n",
    "    \r\n",
    "    You can classify cases where the value is equal to the mean for one or\r\n",
    "    both variables however you like.\r\n",
    "    \r\n",
    "    Each argument will be a Pandas series.\r\n",
    "    \r\n",
    "    For example, if the inputs were pd.Series([1, 2, 3, 4]) and\r\n",
    "    pd.Series([1, 2, 3, 4]), then the output would be (4, 0).\r\n",
    "    This is because 1 and 4 are both below their means, 2 and 5 are both\r\n",
    "    below, 3 and 6 are both above, and 4 and 7 are both above.\r\n",
    "    \r\n",
    "    On the other hand, if the inputs were pd.Series([1, 2, 3, 4]) and\r\n",
    "    pd.Series([7, 6, 5, 4]), then the output would be (0, 4).\r\n",
    "    This is because 1 is below its mean but 7 is above its mean, and\r\n",
    "    so on.\r\n",
    "    '''\r\n",
    "    mean1 = variable1.mean()\r\n",
    "    mean2 = variable2.mean()\r\n",
    "    up1 = variable1 > mean1\r\n",
    "    up2 = variable2 > mean2\r\n",
    "    num_same_direction = (up1 == up2).sum()\r\n",
    "    num_different_direction = (up1 != up2).sum()\r\n",
    "    \r\n",
    "    return (num_same_direction, num_different_direction)\r\n",
    "\r\n",
    "print(variable_correlation(pd.Series([1, 2, 3, 4]), pd.Series([1, 2, 3, 4])))\r\n",
    "print(variable_correlation(pd.Series([1, 2, 3, 4]), pd.Series([7, 6, 5, 4])))\r\n",
    "print(variable_correlation(life_expectancy, gdp))"
   ],
   "outputs": [
    {
     "output_type": "stream",
     "name": "stdout",
     "text": [
      "(4, 0)\n",
      "(0, 4)\n",
      "(17, 3)\n"
     ]
    }
   ],
   "metadata": {}
  },
  {
   "cell_type": "markdown",
   "source": [
    "## A note on the index and the position of a list\r\n",
    "\r\n",
    "This is where Pandas really differs from Numpy.\r\n",
    "- **Index and position of an element in a Pandas series are not the same thing.**\r\n",
    "- **A Pandas series is like a cross-breed between a Python list and a Python dictionary.**\r\n",
    "\r\n",
    "A **position** is the number (starting at 0) where an element is found in a Series.\r\n",
    "\r\n",
    "An **index** is the key which can used to access a Series element.\r\n",
    "\r\n",
    "For example:\r\n",
    "```py\r\n",
    "a = pd.Series([1,2,3,4])\r\n",
    "print(a[0])  # o/p: 1 (here 0 is the index)\r\n",
    "print(a.loc(0)))  # o/p: 1 (here 0 is the position)\r\n",
    "\r\n",
    "b = pd.Series([1,2,3], index=['yaaba', 'dabba', 'doo'])\r\n",
    "print(b['yaaba'])  # o/p: 1 (here 'yaaba' is the index)\r\n",
    "```"
   ],
   "metadata": {}
  },
  {
   "cell_type": "code",
   "execution_count": 22,
   "source": [
    "countries = [\r\n",
    "    'Afghanistan', 'Albania', 'Algeria', 'Angola',\r\n",
    "    'Argentina', 'Armenia', 'Australia', 'Austria',\r\n",
    "    'Azerbaijan', 'Bahamas', 'Bahrain', 'Bangladesh',\r\n",
    "    'Barbados', 'Belarus', 'Belgium', 'Belize',\r\n",
    "    'Benin', 'Bhutan', 'Bolivia', 'Bosnia and Herzegovina',\r\n",
    "]\r\n",
    "\r\n",
    "\r\n",
    "employment_values = [\r\n",
    "    55.70000076,  51.40000153,  50.5       ,  75.69999695,\r\n",
    "    58.40000153,  40.09999847,  61.5       ,  57.09999847,\r\n",
    "    60.90000153,  66.59999847,  60.40000153,  68.09999847,\r\n",
    "    66.90000153,  53.40000153,  48.59999847,  56.79999924,\r\n",
    "    71.59999847,  58.40000153,  70.40000153,  41.20000076,\r\n",
    "]\r\n",
    "\r\n",
    "# Employment data in 2007 for 20 countries\r\n",
    "employment = pd.Series(employment_values, index=countries)\r\n",
    "\r\n",
    "def max_employment(employment):\r\n",
    "    '''\r\n",
    "    Fill in this function to return the name of the country\r\n",
    "    with the highest employment in the given employment\r\n",
    "    data, and the employment in that country.\r\n",
    "    \r\n",
    "    The input will be a Pandas series where the values\r\n",
    "    are employment and the index is country names.\r\n",
    "    \r\n",
    "    Try using the Pandas idxmax() function. Documention can\r\n",
    "    be found here:\r\n",
    "    http://pandas.pydata.org/pandas-docs/stable/generated/pandas.Series.idxmax.html\r\n",
    "    '''\r\n",
    "    max_country = employment.idxmax()\r\n",
    "    max_value = employment[max_country]\r\n",
    "\r\n",
    "    return (max_country, max_value)\r\n",
    "\r\n",
    "print(max_employment(employment))"
   ],
   "outputs": [
    {
     "output_type": "stream",
     "name": "stdout",
     "text": [
      "('Angola', 75.69999695)\n"
     ]
    }
   ],
   "metadata": {}
  },
  {
   "cell_type": "markdown",
   "source": [
    "## vectorized operations on Series indices"
   ],
   "metadata": {}
  },
  {
   "cell_type": "code",
   "execution_count": 27,
   "source": [
    "# Addition when indexes are the same\r\n",
    "s1 = pd.Series([1, 2, 3, 4], index=['a', 'b', 'c', 'd'])\r\n",
    "s2 = pd.Series([10, 20, 30, 40], index=['a', 'b', 'c', 'd'])\r\n",
    "print (s1 + s2)"
   ],
   "outputs": [
    {
     "output_type": "stream",
     "name": "stdout",
     "text": [
      "a    11\n",
      "b    22\n",
      "c    33\n",
      "d    44\n",
      "dtype: int64\n"
     ]
    }
   ],
   "metadata": {}
  },
  {
   "cell_type": "code",
   "execution_count": 24,
   "source": [
    "# Indexes have same elements in a different order\r\n",
    "s1 = pd.Series([1, 2, 3, 4], index=['a', 'b', 'c', 'd'])\r\n",
    "s2 = pd.Series([10, 20, 30, 40], index=['b', 'd', 'a', 'c'])\r\n",
    "print (s2 + s1)"
   ],
   "outputs": [
    {
     "output_type": "stream",
     "name": "stdout",
     "text": [
      "a    31\n",
      "b    12\n",
      "c    43\n",
      "d    24\n",
      "dtype: int64\n"
     ]
    }
   ],
   "metadata": {}
  },
  {
   "cell_type": "code",
   "execution_count": 25,
   "source": [
    "# Indexes overlap, but do not have exactly the same elements\r\n",
    "s1 = pd.Series([1, 2, 3, 4], index=['a', 'b', 'c', 'd'])\r\n",
    "s2 = pd.Series([10, 20, 30, 40], index=['c', 'd', 'e', 'f'])\r\n",
    "print (s1 + s2)"
   ],
   "outputs": [
    {
     "output_type": "stream",
     "name": "stdout",
     "text": [
      "a     NaN\n",
      "b     NaN\n",
      "c    13.0\n",
      "d    24.0\n",
      "e     NaN\n",
      "f     NaN\n",
      "dtype: float64\n"
     ]
    }
   ],
   "metadata": {}
  },
  {
   "cell_type": "code",
   "execution_count": 26,
   "source": [
    "# Indexes do not overlap\r\n",
    "s1 = pd.Series([1, 2, 3, 4], index=['a', 'b', 'c', 'd'])\r\n",
    "s2 = pd.Series([10, 20, 30, 40], index=['e', 'f', 'g', 'h'])\r\n",
    "print (s1 + s2)"
   ],
   "outputs": [
    {
     "output_type": "stream",
     "name": "stdout",
     "text": [
      "a   NaN\n",
      "b   NaN\n",
      "c   NaN\n",
      "d   NaN\n",
      "e   NaN\n",
      "f   NaN\n",
      "g   NaN\n",
      "h   NaN\n",
      "dtype: float64\n"
     ]
    }
   ],
   "metadata": {}
  },
  {
   "cell_type": "code",
   "execution_count": 71,
   "source": [
    "s1 = pd.Series([1, 2, 3, 4], index=['a', 'b', 'c', 'd'])\r\n",
    "s2 = pd.Series([10, 20, 30, 40], index=['c', 'd', 'e', 'f'])\r\n",
    "\r\n",
    "# Try to write code that will add the 2 previous series together,\r\n",
    "# but treating missing values from either series as 0. The result\r\n",
    "# when printed out should be similar to the following line:\r\n",
    "# print (pd.Series([1, 2, 13, 24, 30, 40], index=['a', 'b', 'c', 'd', 'e', 'f']))\r\n",
    "\r\n",
    "s = s1 + s2\r\n",
    "na = ~ s.notna()\r\n",
    "\r\n",
    "na1 = na[:len(s1)]\r\n",
    "na1 = na1[na1].keys()\r\n",
    "na2 = na[len(s1):]\r\n",
    "na2 = na2[na2].keys()\r\n",
    "\r\n",
    "s[na1] = s1[na1]\r\n",
    "s[na2] = s2[na2]\r\n",
    "\r\n",
    "print(s)"
   ],
   "outputs": [
    {
     "output_type": "stream",
     "name": "stdout",
     "text": [
      "a     1.0\n",
      "b     2.0\n",
      "c    13.0\n",
      "d    24.0\n",
      "e    30.0\n",
      "f    40.0\n",
      "dtype: float64\n"
     ]
    }
   ],
   "metadata": {}
  },
  {
   "cell_type": "code",
   "execution_count": 73,
   "source": [
    "# Alternatively, use this:\r\n",
    "s = s1.add(s2, fill_value=0)\r\n",
    "print(s)"
   ],
   "outputs": [
    {
     "output_type": "stream",
     "name": "stdout",
     "text": [
      "a     1.0\n",
      "b     2.0\n",
      "c    13.0\n",
      "d    24.0\n",
      "e    30.0\n",
      "f    40.0\n",
      "dtype: float64\n"
     ]
    }
   ],
   "metadata": {}
  },
  {
   "cell_type": "code",
   "execution_count": 78,
   "source": [
    "names = pd.Series([\r\n",
    "    'Andre Agassi',\r\n",
    "    'Barry Bonds',\r\n",
    "    'Christopher Columbus',\r\n",
    "    'Daniel Defoe',\r\n",
    "    'Emilio Estevez',\r\n",
    "    'Fred Flintstone',\r\n",
    "    'Greta Garbo',\r\n",
    "    'Humbert Humbert',\r\n",
    "    'Ivan Ilych',\r\n",
    "    'James Joyce',\r\n",
    "    'Keira Knightley',\r\n",
    "    'Lois Lane',\r\n",
    "    'Mike Myers',\r\n",
    "    'Nick Nolte',\r\n",
    "    'Ozzy Osbourne',\r\n",
    "    'Pablo Picasso',\r\n",
    "    'Quirinus Quirrell',\r\n",
    "    'Rachael Ray',\r\n",
    "    'Susan Sarandon',\r\n",
    "    'Tina Turner',\r\n",
    "    'Ugueth Urbina',\r\n",
    "    'Vince Vaughn',\r\n",
    "    'Woodrow Wilson',\r\n",
    "    'Yoji Yamada',\r\n",
    "    'Zinedine Zidane'\r\n",
    "])\r\n",
    "\r\n",
    "def reverse_name(name=''):\r\n",
    "    first, last = name.split(' ')\r\n",
    "    return f'{last}, {first}'\r\n",
    "\r\n",
    "def reverse_names(names):\r\n",
    "    '''\r\n",
    "    Fill in this function to return a new series where each name\r\n",
    "    in the input series has been transformed from the format\r\n",
    "    \"Firstname Lastname\" to \"Lastname, FirstName\".\r\n",
    "    \r\n",
    "    Try to use the Pandas apply() function rather than a loop.\r\n",
    "    '''\r\n",
    "    return names.apply(reverse_name)\r\n",
    "\r\n",
    "reverse_names(names)"
   ],
   "outputs": [
    {
     "output_type": "execute_result",
     "data": {
      "text/plain": [
       "0             Agassi, Andre\n",
       "1              Bonds, Barry\n",
       "2     Columbus, Christopher\n",
       "3             Defoe, Daniel\n",
       "4           Estevez, Emilio\n",
       "5          Flintstone, Fred\n",
       "6              Garbo, Greta\n",
       "7          Humbert, Humbert\n",
       "8               Ilych, Ivan\n",
       "9              Joyce, James\n",
       "10         Knightley, Keira\n",
       "11               Lane, Lois\n",
       "12              Myers, Mike\n",
       "13              Nolte, Nick\n",
       "14           Osbourne, Ozzy\n",
       "15           Picasso, Pablo\n",
       "16       Quirrell, Quirinus\n",
       "17             Ray, Rachael\n",
       "18          Sarandon, Susan\n",
       "19             Turner, Tina\n",
       "20           Urbina, Ugueth\n",
       "21            Vaughn, Vince\n",
       "22          Wilson, Woodrow\n",
       "23             Yamada, Yoji\n",
       "24         Zidane, Zinedine\n",
       "dtype: object"
      ]
     },
     "metadata": {},
     "execution_count": 78
    }
   ],
   "metadata": {}
  },
  {
   "cell_type": "markdown",
   "source": [
    "## Plotting in Pandas"
   ],
   "metadata": {}
  },
  {
   "cell_type": "code",
   "execution_count": 82,
   "source": [
    "# The following code reads all the Gapminder data into Pandas DataFrames. You'll\r\n",
    "# learn about DataFrames next lesson.\r\n",
    "\r\n",
    "path = './'\r\n",
    "employment = pd.read_csv(path + 'employment_above_15.csv', index_col='Country')\r\n",
    "female_completion = pd.read_csv(path + 'female_completion_rate.csv', index_col='Country')\r\n",
    "male_completion = pd.read_csv(path + 'male_completion_rate.csv', index_col='Country')\r\n",
    "life_expectancy = pd.read_csv(path + 'life_expectancy.csv', index_col='Country')\r\n",
    "gdp = pd.read_csv(path + 'gdp_per_capita.csv', index_col='Country')\r\n",
    "\r\n",
    "# The following code creates a Pandas Series for each variable for the United States.\r\n",
    "# You can change the string 'United States' to a country of your choice.\r\n",
    "\r\n",
    "employment_us = employment.loc['United States']\r\n",
    "female_completion_us = female_completion.loc['United States']\r\n",
    "male_completion_us = male_completion.loc['United States']\r\n",
    "life_expectancy_us = life_expectancy.loc['United States']\r\n",
    "gdp_us = gdp.loc['United States']\r\n",
    "\r\n",
    "# Uncomment the following line of code to see the available country names\r\n",
    "# print (employment.index.values)"
   ],
   "outputs": [],
   "metadata": {}
  },
  {
   "cell_type": "code",
   "execution_count": 83,
   "source": [
    "# Use the Series defined above to create a plot of each variable over time for\r\n",
    "# the country of your choice. \r\n",
    "employment_us.plot()\r\n"
   ],
   "outputs": [
    {
     "output_type": "execute_result",
     "data": {
      "text/plain": [
       "<AxesSubplot:>"
      ]
     },
     "metadata": {},
     "execution_count": 83
    },
    {
     "output_type": "display_data",
     "data": {
      "text/plain": [
       "<Figure size 432x288 with 1 Axes>"
      ],
      "image/png": "[encoded data removed]"
     },
     "metadata": {
      "needs_background": "light"
     }
    }
   ],
   "metadata": {}
  },
  {
   "cell_type": "code",
   "execution_count": 84,
   "source": [
    "female_completion_us.plot()\r\n",
    "male_completion_us.plot()"
   ],
   "outputs": [
    {
     "output_type": "execute_result",
     "data": {
      "text/plain": [
       "<AxesSubplot:>"
      ]
     },
     "metadata": {},
     "execution_count": 84
    },
    {
     "output_type": "display_data",
     "data": {
      "text/plain": [
       "<Figure size 432x288 with 1 Axes>"
      ],
      "image/png": "[encoded data removed]"
     },
     "metadata": {
      "needs_background": "light"
     }
    }
   ],
   "metadata": {}
  },
  {
   "cell_type": "code",
   "execution_count": 88,
   "source": [
    "life_expectancy_us.plot()"
   ],
   "outputs": [
    {
     "output_type": "execute_result",
     "data": {
      "text/plain": [
       "<AxesSubplot:>"
      ]
     },
     "metadata": {},
     "execution_count": 88
    },
    {
     "output_type": "display_data",
     "data": {
      "text/plain": [
       "<Figure size 432x288 with 1 Axes>"
      ],
      "image/png": "[encoded data removed]"
     },
     "metadata": {
      "needs_background": "light"
     }
    }
   ],
   "metadata": {}
  },
  {
   "cell_type": "code",
   "execution_count": 89,
   "source": [
    "gdp_us.plot()"
   ],
   "outputs": [
    {
     "output_type": "execute_result",
     "data": {
      "text/plain": [
       "<AxesSubplot:>"
      ]
     },
     "metadata": {},
     "execution_count": 89
    },
    {
     "output_type": "display_data",
     "data": {
      "text/plain": [
       "<Figure size 432x288 with 1 Axes>"
      ],
      "image/png": "[encoded data removed]"
     },
     "metadata": {
      "needs_background": "light"
     }
    }
   ],
   "metadata": {}
  }
 ],
 "metadata": {
  "orig_nbformat": 4,
  "language_info": {
   "name": "python",
   "version": "3.9.0",
   "mimetype": "text/x-python",
   "codemirror_mode": {
    "name": "ipython",
    "version": 3
   },
   "pygments_lexer": "ipython3",
   "nbconvert_exporter": "python",
   "file_extension": ".py"
  },
  "kernelspec": {
   "name": "python3",
   "display_name": "Python 3.9.0 64-bit"
  },
  "interpreter": {
   "hash": "fb28a47e64698fd316ef894d8ed3433d0649d6e25f9973778a9bc5864bd7dec0"
  }
 },
 "nbformat": 4,
 "nbformat_minor": 2
}